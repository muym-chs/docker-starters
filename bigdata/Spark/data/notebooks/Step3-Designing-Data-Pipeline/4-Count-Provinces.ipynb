{
 "cells": [
  {
   "cell_type": "code",
   "execution_count": 1,
   "id": "1770c85c",
   "metadata": {},
   "outputs": [],
   "source": [
    "import sys\n",
    "import time\n",
    "import datetime"
   ]
  },
  {
   "cell_type": "code",
   "execution_count": 2,
   "id": "23f00def",
   "metadata": {},
   "outputs": [],
   "source": [
    "TOPIC_Step2_NAME=\"User-Raw-Data\"\n",
    "KAFKA_SERVER=\"kafka-broker:29092\""
   ]
  },
  {
   "cell_type": "code",
   "execution_count": 3,
   "id": "55e4c9f0",
   "metadata": {},
   "outputs": [
    {
     "name": "stderr",
     "output_type": "stream",
     "text": [
      "WARNING: An illegal reflective access operation has occurred\n",
      "WARNING: Illegal reflective access by org.apache.spark.unsafe.Platform (file:/opt/spark/jars/spark-unsafe_2.12-3.1.2.jar) to constructor java.nio.DirectByteBuffer(long,int)\n",
      "WARNING: Please consider reporting this to the maintainers of org.apache.spark.unsafe.Platform\n",
      "WARNING: Use --illegal-access=warn to enable warnings of further illegal reflective access operations\n",
      "WARNING: All illegal access operations will be denied in a future release\n"
     ]
    },
    {
     "name": "stdout",
     "output_type": "stream",
     "text": [
      ":: loading settings :: url = jar:file:/opt/spark/jars/ivy-2.4.0.jar!/org/apache/ivy/core/settings/ivysettings.xml\n"
     ]
    },
    {
     "name": "stderr",
     "output_type": "stream",
     "text": [
      "Ivy Default Cache set to: /root/.ivy2/cache\n",
      "The jars for the packages stored in: /root/.ivy2/jars\n",
      "org.apache.spark#spark-sql-kafka-0-10_2.12 added as a dependency\n",
      ":: resolving dependencies :: org.apache.spark#spark-submit-parent-3ae5cfe3-9e16-4bc0-a8cc-57f8109918cf;1.0\n",
      "\tconfs: [default]\n",
      "\tfound org.apache.spark#spark-sql-kafka-0-10_2.12;3.1.2 in central\n",
      "\tfound org.apache.spark#spark-token-provider-kafka-0-10_2.12;3.1.2 in central\n",
      "\tfound org.apache.kafka#kafka-clients;2.6.0 in central\n",
      "\tfound com.github.luben#zstd-jni;1.4.8-1 in central\n",
      "\tfound org.lz4#lz4-java;1.7.1 in central\n",
      "\tfound org.xerial.snappy#snappy-java;1.1.8.2 in central\n",
      "\tfound org.slf4j#slf4j-api;1.7.30 in central\n",
      "\tfound org.spark-project.spark#unused;1.0.0 in central\n",
      "\tfound org.apache.commons#commons-pool2;2.6.2 in central\n",
      ":: resolution report :: resolve 1980ms :: artifacts dl 15ms\n",
      "\t:: modules in use:\n",
      "\tcom.github.luben#zstd-jni;1.4.8-1 from central in [default]\n",
      "\torg.apache.commons#commons-pool2;2.6.2 from central in [default]\n",
      "\torg.apache.kafka#kafka-clients;2.6.0 from central in [default]\n",
      "\torg.apache.spark#spark-sql-kafka-0-10_2.12;3.1.2 from central in [default]\n",
      "\torg.apache.spark#spark-token-provider-kafka-0-10_2.12;3.1.2 from central in [default]\n",
      "\torg.lz4#lz4-java;1.7.1 from central in [default]\n",
      "\torg.slf4j#slf4j-api;1.7.30 from central in [default]\n",
      "\torg.spark-project.spark#unused;1.0.0 from central in [default]\n",
      "\torg.xerial.snappy#snappy-java;1.1.8.2 from central in [default]\n",
      "\t---------------------------------------------------------------------\n",
      "\t|                  |            modules            ||   artifacts   |\n",
      "\t|       conf       | number| search|dwnlded|evicted|| number|dwnlded|\n",
      "\t---------------------------------------------------------------------\n",
      "\t|      default     |   9   |   0   |   0   |   0   ||   9   |   0   |\n",
      "\t---------------------------------------------------------------------\n",
      ":: retrieving :: org.apache.spark#spark-submit-parent-3ae5cfe3-9e16-4bc0-a8cc-57f8109918cf\n",
      "\tconfs: [default]\n",
      "\t0 artifacts copied, 9 already retrieved (0kB/16ms)\n",
      "21/10/06 13:47:45 WARN NativeCodeLoader: Unable to load native-hadoop library for your platform... using builtin-java classes where applicable\n",
      "Using Spark's default log4j profile: org/apache/spark/log4j-defaults.properties\n",
      "Setting default log level to \"WARN\".\n",
      "To adjust logging level use sc.setLogLevel(newLevel). For SparkR, use setLogLevel(newLevel).\n",
      "21/10/06 13:47:47 WARN Utils: Service 'SparkUI' could not bind on port 4040. Attempting port 4041.\n"
     ]
    }
   ],
   "source": [
    "import os\n",
    "# https://spark.apache.org/docs/latest/structured-streaming-kafka-integration.html\n",
    "\n",
    "# setup arguments\n",
    "# os.environ['PYSPARK_SUBMIT_ARGS']='--packages  org.zalando:spark-json-schema_2.12:0.6.3 pyspark-shell'\n",
    "os.environ['PYSPARK_SUBMIT_ARGS']='--packages  org.apache.spark:spark-sql-kafka-0-10_2.12:3.1.2 pyspark-shell'\n",
    "from pyspark import SparkContext, SparkConf\n",
    "from pyspark.sql import SparkSession\n",
    "from pyspark.sql.functions import *\n",
    "from pyspark.sql.types import *\n",
    "\n",
    "spark = SparkSession.builder \\\n",
    "    .master(\"spark://spark-master:7077\") \\\n",
    "    .appName(\"Step3_4-Count-Provinces\") \\\n",
    "    .config(\"spark.executor.memory\", \"500mb\") \\\n",
    "    .config(\"spark.executor.cores\",\"1\") \\\n",
    "    .config(\"spark.cores.max\", \"1\") \\\n",
    "    .config(\"spark.sql.session.timeZone\", \"Asia/Tehran\") \\\n",
    "    .getOrCreate()    \n",
    "    "
   ]
  },
  {
   "cell_type": "code",
   "execution_count": 4,
   "id": "2f62b9fa",
   "metadata": {},
   "outputs": [],
   "source": [
    "spark.sparkContext.setLogLevel(\"ERROR\")\n"
   ]
  },
  {
   "cell_type": "code",
   "execution_count": 5,
   "id": "7f193720",
   "metadata": {},
   "outputs": [],
   "source": [
    "df = spark \\\n",
    "  .readStream \\\n",
    "  .format(\"kafka\") \\\n",
    "  .option(\"kafka.bootstrap.servers\", KAFKA_SERVER) \\\n",
    "  .option(\"subscribe\", TOPIC_Step2_NAME) \\\n",
    "  .option(\"startingOffsets\", \"earliest\") \\\n",
    "  .option(\"kafka.group.id\", \"step3_4-Count-Province\")\\\n",
    "  .load()"
   ]
  },
  {
   "cell_type": "code",
   "execution_count": 6,
   "id": "daaaa7a2",
   "metadata": {},
   "outputs": [
    {
     "name": "stdout",
     "output_type": "stream",
     "text": [
      "root\n",
      " |-- key: binary (nullable = true)\n",
      " |-- value: binary (nullable = true)\n",
      " |-- topic: string (nullable = true)\n",
      " |-- partition: integer (nullable = true)\n",
      " |-- offset: long (nullable = true)\n",
      " |-- timestamp: timestamp (nullable = true)\n",
      " |-- timestampType: integer (nullable = true)\n",
      "\n"
     ]
    }
   ],
   "source": [
    "df.printSchema()"
   ]
  },
  {
   "cell_type": "code",
   "execution_count": 7,
   "id": "bc08678e",
   "metadata": {},
   "outputs": [
    {
     "name": "stderr",
     "output_type": "stream",
     "text": [
      "                                                                                \r"
     ]
    }
   ],
   "source": [
    "# sample json must be in jsonl format\n",
    "# cat user.json | jq -c\n",
    "df2 = spark.read.json(\"/opt/spark-data/user.json\")"
   ]
  },
  {
   "cell_type": "code",
   "execution_count": 8,
   "id": "edc3c0a3",
   "metadata": {},
   "outputs": [
    {
     "name": "stdout",
     "output_type": "stream",
     "text": [
      "root\n",
      " |-- cell: string (nullable = true)\n",
      " |-- dob: struct (nullable = true)\n",
      " |    |-- age: long (nullable = true)\n",
      " |    |-- date: string (nullable = true)\n",
      " |-- email: string (nullable = true)\n",
      " |-- gender: string (nullable = true)\n",
      " |-- id: struct (nullable = true)\n",
      " |    |-- name: string (nullable = true)\n",
      " |    |-- value: string (nullable = true)\n",
      " |-- location: struct (nullable = true)\n",
      " |    |-- city: string (nullable = true)\n",
      " |    |-- coordinates: struct (nullable = true)\n",
      " |    |    |-- latitude: string (nullable = true)\n",
      " |    |    |-- longitude: string (nullable = true)\n",
      " |    |-- country: string (nullable = true)\n",
      " |    |-- postcode: long (nullable = true)\n",
      " |    |-- state: string (nullable = true)\n",
      " |    |-- street: struct (nullable = true)\n",
      " |    |    |-- name: string (nullable = true)\n",
      " |    |    |-- number: long (nullable = true)\n",
      " |    |-- timezone: struct (nullable = true)\n",
      " |    |    |-- description: string (nullable = true)\n",
      " |    |    |-- offset: string (nullable = true)\n",
      " |-- login: struct (nullable = true)\n",
      " |    |-- md5: string (nullable = true)\n",
      " |    |-- password: string (nullable = true)\n",
      " |    |-- salt: string (nullable = true)\n",
      " |    |-- sha1: string (nullable = true)\n",
      " |    |-- sha256: string (nullable = true)\n",
      " |    |-- username: string (nullable = true)\n",
      " |    |-- uuid: string (nullable = true)\n",
      " |-- name: struct (nullable = true)\n",
      " |    |-- first: string (nullable = true)\n",
      " |    |-- last: string (nullable = true)\n",
      " |    |-- title: string (nullable = true)\n",
      " |-- nat: string (nullable = true)\n",
      " |-- phone: string (nullable = true)\n",
      " |-- picture: struct (nullable = true)\n",
      " |    |-- large: string (nullable = true)\n",
      " |    |-- medium: string (nullable = true)\n",
      " |    |-- thumbnail: string (nullable = true)\n",
      " |-- registered: struct (nullable = true)\n",
      " |    |-- age: long (nullable = true)\n",
      " |    |-- date: string (nullable = true)\n",
      "\n"
     ]
    }
   ],
   "source": [
    "df2.printSchema()"
   ]
  },
  {
   "cell_type": "code",
   "execution_count": 9,
   "id": "a186a849",
   "metadata": {},
   "outputs": [
    {
     "data": {
      "text/plain": [
       "StructType(List(StructField(cell,StringType,true),StructField(dob,StructType(List(StructField(age,LongType,true),StructField(date,StringType,true))),true),StructField(email,StringType,true),StructField(gender,StringType,true),StructField(id,StructType(List(StructField(name,StringType,true),StructField(value,StringType,true))),true),StructField(location,StructType(List(StructField(city,StringType,true),StructField(coordinates,StructType(List(StructField(latitude,StringType,true),StructField(longitude,StringType,true))),true),StructField(country,StringType,true),StructField(postcode,LongType,true),StructField(state,StringType,true),StructField(street,StructType(List(StructField(name,StringType,true),StructField(number,LongType,true))),true),StructField(timezone,StructType(List(StructField(description,StringType,true),StructField(offset,StringType,true))),true))),true),StructField(login,StructType(List(StructField(md5,StringType,true),StructField(password,StringType,true),StructField(salt,StringType,true),StructField(sha1,StringType,true),StructField(sha256,StringType,true),StructField(username,StringType,true),StructField(uuid,StringType,true))),true),StructField(name,StructType(List(StructField(first,StringType,true),StructField(last,StringType,true),StructField(title,StringType,true))),true),StructField(nat,StringType,true),StructField(phone,StringType,true),StructField(picture,StructType(List(StructField(large,StringType,true),StructField(medium,StringType,true),StructField(thumbnail,StringType,true))),true),StructField(registered,StructType(List(StructField(age,LongType,true),StructField(date,StringType,true))),true)))"
      ]
     },
     "execution_count": 9,
     "metadata": {},
     "output_type": "execute_result"
    }
   ],
   "source": [
    "user_schema = df2.schema\n",
    "user_schema"
   ]
  },
  {
   "cell_type": "code",
   "execution_count": 10,
   "id": "53e41ab3",
   "metadata": {},
   "outputs": [],
   "source": [
    "userStringDF = df.selectExpr(\"CAST(key AS STRING)\", \"CAST(value AS STRING)\")\n"
   ]
  },
  {
   "cell_type": "code",
   "execution_count": 11,
   "id": "a3f731c9",
   "metadata": {},
   "outputs": [],
   "source": [
    "userDF = userStringDF.select(from_json(col(\"value\"), user_schema).alias(\"data\")).select(\"data.*\")\n",
    "# tweetsDF = tweetsDF.withColumn(\"timestamp\", unix_timestamp(\"sendTime\", \"yyyy-MM-dd'T'HH:mm:ssz\").cast('timestamp')) \\\n",
    "#             .withColumn(\"persianYear\", tweetsDF['sendTimePersian'].substr(0, 4)) \\\n",
    "#             .withColumn(\"persianMonth\", tweetsDF['sendTimePersian'].substr(6, 2)) \\\n",
    "#             .withColumn(\"persianDay\", tweetsDF['sendTimePersian'].substr(9, 2))\n"
   ]
  },
  {
   "cell_type": "code",
   "execution_count": 12,
   "id": "d9c27e80",
   "metadata": {},
   "outputs": [],
   "source": [
    "# The User Defined Function (UDF)\n",
    "# Create a timestamp from the current time and return it\n",
    "import jdatetime\n",
    "def add_timestamp():\n",
    "         ts = time.time()\n",
    "         timestamp = datetime.datetime.fromtimestamp(ts).strftime('%Y-%m-%d %H:%M:%S')\n",
    "         return timestamp\n",
    "def add_persian_timestamp():\n",
    "         persian_timestamp = jdatetime.datetime.now().strftime('%Y-%m-%d %H:%M:%S')\n",
    "         return persian_timestamp"
   ]
  },
  {
   "cell_type": "code",
   "execution_count": 13,
   "id": "7c04fcde",
   "metadata": {},
   "outputs": [
    {
     "data": {
      "text/plain": [
       "'1400-07-14 13:52:21'"
      ]
     },
     "execution_count": 13,
     "metadata": {},
     "output_type": "execute_result"
    }
   ],
   "source": [
    "jdatetime.datetime.now().strftime('%Y-%m-%d %H:%M:%S')"
   ]
  },
  {
   "cell_type": "code",
   "execution_count": 14,
   "id": "ff327fdd",
   "metadata": {},
   "outputs": [],
   "source": [
    "# Register the UDF\n",
    "# Set the return type to be a String\n",
    "# A name is assigned to the registered function \n",
    "add_timestamp_udf = udf(add_timestamp, StringType())\n",
    "add_persian_timestamp_udf = udf(add_persian_timestamp, StringType())"
   ]
  },
  {
   "cell_type": "code",
   "execution_count": 15,
   "id": "e31b4070",
   "metadata": {},
   "outputs": [],
   "source": [
    "userDF = userDF.withColumn(\"timestamp\", add_timestamp_udf())\n",
    "userDF = userDF.withColumn(\"persian_timestamp\", add_persian_timestamp_udf())"
   ]
  },
  {
   "cell_type": "code",
   "execution_count": null,
   "id": "c5e95a74",
   "metadata": {},
   "outputs": [
    {
     "name": "stderr",
     "output_type": "stream",
     "text": [
      "                                                                                \r"
     ]
    },
    {
     "name": "stdout",
     "output_type": "stream",
     "text": [
      "-------------------------------------------\n",
      "Batch: 0\n",
      "-------------------------------------------\n",
      "+------------------------------------------+-------------------+-----+\n",
      "|window                                    |state              |count|\n",
      "+------------------------------------------+-------------------+-----+\n",
      "|{1400-07-14 13:25:44, 1400-07-14 14:25:44}|یزد                |148  |\n",
      "|{1400-07-14 13:25:44, 1400-07-14 14:25:44}|گلستان             |140  |\n",
      "|{1400-07-14 13:25:44, 1400-07-14 14:25:44}|سمنان              |137  |\n",
      "|{1400-07-14 13:25:44, 1400-07-14 14:25:44}|کرمان              |132  |\n",
      "|{1400-07-14 13:25:44, 1400-07-14 14:25:44}|آذربایجان شرقی     |132  |\n",
      "|{1400-07-14 13:25:44, 1400-07-14 14:25:44}|کهگیلویه و بویراحمد|131  |\n",
      "|{1400-07-14 13:25:44, 1400-07-14 14:25:44}|آذربایجان غربی     |128  |\n",
      "|{1400-07-14 13:25:44, 1400-07-14 14:25:44}|مازندران           |126  |\n",
      "|{1400-07-14 13:25:44, 1400-07-14 14:25:44}|زنجان              |125  |\n",
      "|{1400-07-14 13:25:44, 1400-07-14 14:25:44}|اصفهان             |121  |\n",
      "|{1400-07-14 13:25:44, 1400-07-14 14:25:44}|ایلام              |120  |\n",
      "|{1400-07-14 13:25:44, 1400-07-14 14:25:44}|چهارمحال و بختیاری |120  |\n",
      "|{1400-07-14 13:25:44, 1400-07-14 14:25:44}|همدان              |120  |\n",
      "|{1400-07-14 13:25:44, 1400-07-14 14:25:44}|فارس               |120  |\n",
      "|{1400-07-14 13:25:44, 1400-07-14 14:25:44}|لرستان             |119  |\n",
      "|{1400-07-14 13:25:44, 1400-07-14 14:25:44}|خراسان جنوبی       |119  |\n",
      "|{1400-07-14 13:25:44, 1400-07-14 14:25:44}|مرکزی              |118  |\n",
      "|{1400-07-14 13:25:44, 1400-07-14 14:25:44}|تهران              |116  |\n",
      "|{1400-07-14 13:25:44, 1400-07-14 14:25:44}|سیستان و بلوچستان  |114  |\n",
      "|{1400-07-14 13:25:44, 1400-07-14 14:25:44}|کرمانشاه           |113  |\n",
      "|{1400-07-14 13:25:44, 1400-07-14 14:25:44}|خوزستان            |113  |\n",
      "|{1400-07-14 13:25:44, 1400-07-14 14:25:44}|خراسان شمالی       |113  |\n",
      "|{1400-07-14 13:25:44, 1400-07-14 14:25:44}|گیلان              |112  |\n",
      "|{1400-07-14 13:25:44, 1400-07-14 14:25:44}|قزوین              |112  |\n",
      "|{1400-07-14 13:25:44, 1400-07-14 14:25:44}|هرمزگان            |111  |\n",
      "|{1400-07-14 13:25:44, 1400-07-14 14:25:44}|خراسان رضوی        |111  |\n",
      "|{1400-07-14 13:25:44, 1400-07-14 14:25:44}|اردبیل             |108  |\n",
      "|{1400-07-14 13:25:44, 1400-07-14 14:25:44}|البرز              |106  |\n",
      "|{1400-07-14 13:25:44, 1400-07-14 14:25:44}|کردستان            |105  |\n",
      "|{1400-07-14 13:25:44, 1400-07-14 14:25:44}|قم                 |104  |\n",
      "+------------------------------------------+-------------------+-----+\n",
      "only showing top 30 rows\n",
      "\n"
     ]
    },
    {
     "name": "stderr",
     "output_type": "stream",
     "text": [
      "[Stage 9:=====================================================> (193 + 1) / 200]\r"
     ]
    },
    {
     "name": "stdout",
     "output_type": "stream",
     "text": [
      "-------------------------------------------\n",
      "Batch: 1\n",
      "-------------------------------------------\n",
      "+------------------------------------------+-------------------+-----+\n",
      "|window                                    |state              |count|\n",
      "+------------------------------------------+-------------------+-----+\n",
      "|{1400-07-14 13:25:44, 1400-07-14 14:25:44}|یزد                |158  |\n",
      "|{1400-07-14 13:25:44, 1400-07-14 14:25:44}|سمنان              |145  |\n",
      "|{1400-07-14 13:25:44, 1400-07-14 14:25:44}|گلستان             |144  |\n",
      "|{1400-07-14 13:25:44, 1400-07-14 14:25:44}|کرمان              |139  |\n",
      "|{1400-07-14 13:25:44, 1400-07-14 14:25:44}|آذربایجان شرقی     |138  |\n",
      "|{1400-07-14 13:25:44, 1400-07-14 14:25:44}|آذربایجان غربی     |135  |\n",
      "|{1400-07-14 13:25:44, 1400-07-14 14:25:44}|کهگیلویه و بویراحمد|134  |\n",
      "|{1400-07-14 13:25:44, 1400-07-14 14:25:44}|زنجان              |132  |\n",
      "|{1400-07-14 13:25:44, 1400-07-14 14:25:44}|مازندران           |131  |\n",
      "|{1400-07-14 13:25:44, 1400-07-14 14:25:44}|همدان              |126  |\n",
      "|{1400-07-14 13:25:44, 1400-07-14 14:25:44}|لرستان             |124  |\n",
      "|{1400-07-14 13:25:44, 1400-07-14 14:25:44}|چهارمحال و بختیاری |124  |\n",
      "|{1400-07-14 13:25:44, 1400-07-14 14:25:44}|اصفهان             |124  |\n",
      "|{1400-07-14 13:25:44, 1400-07-14 14:25:44}|خراسان جنوبی       |124  |\n",
      "|{1400-07-14 13:25:44, 1400-07-14 14:25:44}|ایلام              |122  |\n",
      "|{1400-07-14 13:25:44, 1400-07-14 14:25:44}|تهران              |122  |\n",
      "|{1400-07-14 13:25:44, 1400-07-14 14:25:44}|سیستان و بلوچستان  |121  |\n",
      "|{1400-07-14 13:25:44, 1400-07-14 14:25:44}|فارس               |121  |\n",
      "|{1400-07-14 13:25:44, 1400-07-14 14:25:44}|مرکزی              |121  |\n",
      "|{1400-07-14 13:25:44, 1400-07-14 14:25:44}|قزوین              |119  |\n",
      "|{1400-07-14 13:25:44, 1400-07-14 14:25:44}|گیلان              |118  |\n",
      "|{1400-07-14 13:25:44, 1400-07-14 14:25:44}|کرمانشاه           |116  |\n",
      "|{1400-07-14 13:25:44, 1400-07-14 14:25:44}|خوزستان            |116  |\n",
      "|{1400-07-14 13:25:44, 1400-07-14 14:25:44}|خراسان رضوی        |116  |\n",
      "|{1400-07-14 13:25:44, 1400-07-14 14:25:44}|خراسان شمالی       |115  |\n",
      "|{1400-07-14 13:25:44, 1400-07-14 14:25:44}|هرمزگان            |115  |\n",
      "|{1400-07-14 13:25:44, 1400-07-14 14:25:44}|اردبیل             |114  |\n",
      "|{1400-07-14 13:25:44, 1400-07-14 14:25:44}|کردستان            |109  |\n",
      "|{1400-07-14 13:25:44, 1400-07-14 14:25:44}|قم                 |108  |\n",
      "|{1400-07-14 13:25:44, 1400-07-14 14:25:44}|البرز              |107  |\n",
      "+------------------------------------------+-------------------+-----+\n",
      "only showing top 30 rows\n",
      "\n"
     ]
    },
    {
     "name": "stderr",
     "output_type": "stream",
     "text": [
      "                                                                                \r"
     ]
    },
    {
     "name": "stdout",
     "output_type": "stream",
     "text": [
      "-------------------------------------------\n",
      "Batch: 2\n",
      "-------------------------------------------\n",
      "+------------------------------------------+-------------------+-----+\n",
      "|window                                    |state              |count|\n",
      "+------------------------------------------+-------------------+-----+\n",
      "|{1400-07-14 13:25:44, 1400-07-14 14:25:44}|یزد                |161  |\n",
      "|{1400-07-14 13:25:44, 1400-07-14 14:25:44}|گلستان             |150  |\n",
      "|{1400-07-14 13:25:44, 1400-07-14 14:25:44}|سمنان              |148  |\n",
      "|{1400-07-14 13:25:44, 1400-07-14 14:25:44}|آذربایجان شرقی     |142  |\n",
      "|{1400-07-14 13:25:44, 1400-07-14 14:25:44}|کرمان              |140  |\n",
      "|{1400-07-14 13:25:44, 1400-07-14 14:25:44}|کهگیلویه و بویراحمد|137  |\n",
      "|{1400-07-14 13:25:44, 1400-07-14 14:25:44}|آذربایجان غربی     |137  |\n",
      "|{1400-07-14 13:25:44, 1400-07-14 14:25:44}|زنجان              |136  |\n",
      "|{1400-07-14 13:25:44, 1400-07-14 14:25:44}|مازندران           |132  |\n",
      "|{1400-07-14 13:25:44, 1400-07-14 14:25:44}|همدان              |130  |\n",
      "|{1400-07-14 13:25:44, 1400-07-14 14:25:44}|چهارمحال و بختیاری |129  |\n",
      "|{1400-07-14 13:25:44, 1400-07-14 14:25:44}|خراسان جنوبی       |128  |\n",
      "|{1400-07-14 13:25:44, 1400-07-14 14:25:44}|لرستان             |127  |\n",
      "|{1400-07-14 13:25:44, 1400-07-14 14:25:44}|اصفهان             |127  |\n",
      "|{1400-07-14 13:25:44, 1400-07-14 14:25:44}|ایلام              |126  |\n",
      "|{1400-07-14 13:25:44, 1400-07-14 14:25:44}|فارس               |126  |\n",
      "|{1400-07-14 13:25:44, 1400-07-14 14:25:44}|سیستان و بلوچستان  |125  |\n",
      "|{1400-07-14 13:25:44, 1400-07-14 14:25:44}|مرکزی              |125  |\n",
      "|{1400-07-14 13:25:44, 1400-07-14 14:25:44}|تهران              |124  |\n",
      "|{1400-07-14 13:25:44, 1400-07-14 14:25:44}|گیلان              |122  |\n",
      "|{1400-07-14 13:25:44, 1400-07-14 14:25:44}|اردبیل             |120  |\n",
      "|{1400-07-14 13:25:44, 1400-07-14 14:25:44}|خراسان شمالی       |120  |\n",
      "|{1400-07-14 13:25:44, 1400-07-14 14:25:44}|کرمانشاه           |119  |\n",
      "|{1400-07-14 13:25:44, 1400-07-14 14:25:44}|خوزستان            |119  |\n",
      "|{1400-07-14 13:25:44, 1400-07-14 14:25:44}|هرمزگان            |119  |\n",
      "|{1400-07-14 13:25:44, 1400-07-14 14:25:44}|خراسان رضوی        |119  |\n",
      "|{1400-07-14 13:25:44, 1400-07-14 14:25:44}|قزوین              |119  |\n",
      "|{1400-07-14 13:25:44, 1400-07-14 14:25:44}|کردستان            |112  |\n",
      "|{1400-07-14 13:25:44, 1400-07-14 14:25:44}|البرز              |111  |\n",
      "|{1400-07-14 13:25:44, 1400-07-14 14:25:44}|بوشهر              |110  |\n",
      "+------------------------------------------+-------------------+-----+\n",
      "only showing top 30 rows\n",
      "\n"
     ]
    },
    {
     "name": "stderr",
     "output_type": "stream",
     "text": [
      "                                                                                \r"
     ]
    },
    {
     "name": "stdout",
     "output_type": "stream",
     "text": [
      "-------------------------------------------\n",
      "Batch: 3\n",
      "-------------------------------------------\n",
      "+------------------------------------------+-------------------+-----+\n",
      "|window                                    |state              |count|\n",
      "+------------------------------------------+-------------------+-----+\n",
      "|{1400-07-14 13:55:44, 1400-07-14 14:55:44}|گیلان              |7    |\n",
      "|{1400-07-14 13:55:44, 1400-07-14 14:55:44}|خراسان رضوی        |6    |\n",
      "|{1400-07-14 13:55:44, 1400-07-14 14:55:44}|خراسان شمالی       |6    |\n",
      "|{1400-07-14 13:55:44, 1400-07-14 14:55:44}|بوشهر              |5    |\n",
      "|{1400-07-14 13:55:44, 1400-07-14 14:55:44}|خوزستان            |5    |\n",
      "|{1400-07-14 13:55:44, 1400-07-14 14:55:44}|قم                 |5    |\n",
      "|{1400-07-14 13:55:44, 1400-07-14 14:55:44}|کرمانشاه           |4    |\n",
      "|{1400-07-14 13:55:44, 1400-07-14 14:55:44}|همدان              |3    |\n",
      "|{1400-07-14 13:55:44, 1400-07-14 14:55:44}|کرمان              |3    |\n",
      "|{1400-07-14 13:55:44, 1400-07-14 14:55:44}|مازندران           |3    |\n",
      "|{1400-07-14 13:55:44, 1400-07-14 14:55:44}|چهارمحال و بختیاری |3    |\n",
      "|{1400-07-14 13:55:44, 1400-07-14 14:55:44}|قزوین              |3    |\n",
      "|{1400-07-14 13:55:44, 1400-07-14 14:55:44}|اصفهان             |3    |\n",
      "|{1400-07-14 13:55:44, 1400-07-14 14:55:44}|خراسان جنوبی       |3    |\n",
      "|{1400-07-14 13:55:44, 1400-07-14 14:55:44}|یزد                |2    |\n",
      "|{1400-07-14 13:55:44, 1400-07-14 14:55:44}|لرستان             |2    |\n",
      "|{1400-07-14 13:55:44, 1400-07-14 14:55:44}|کردستان            |2    |\n",
      "|{1400-07-14 13:55:44, 1400-07-14 14:55:44}|ایلام              |2    |\n",
      "|{1400-07-14 13:55:44, 1400-07-14 14:55:44}|اردبیل             |2    |\n",
      "|{1400-07-14 13:55:44, 1400-07-14 14:55:44}|تهران              |2    |\n",
      "|{1400-07-14 13:55:44, 1400-07-14 14:55:44}|سمنان              |2    |\n",
      "|{1400-07-14 13:55:44, 1400-07-14 14:55:44}|زنجان              |1    |\n",
      "|{1400-07-14 13:55:44, 1400-07-14 14:55:44}|فارس               |1    |\n",
      "|{1400-07-14 13:55:44, 1400-07-14 14:55:44}|مرکزی              |1    |\n",
      "|{1400-07-14 13:55:44, 1400-07-14 14:55:44}|سیستان و بلوچستان  |1    |\n",
      "|{1400-07-14 13:55:44, 1400-07-14 14:55:44}|آذربایجان غربی     |1    |\n",
      "|{1400-07-14 13:55:44, 1400-07-14 14:55:44}|البرز              |1    |\n",
      "|{1400-07-14 13:55:44, 1400-07-14 14:55:44}|کهگیلویه و بویراحمد|1    |\n",
      "|{1400-07-14 13:25:44, 1400-07-14 14:25:44}|یزد                |163  |\n",
      "|{1400-07-14 13:25:44, 1400-07-14 14:25:44}|سمنان              |150  |\n",
      "+------------------------------------------+-------------------+-----+\n",
      "only showing top 30 rows\n",
      "\n"
     ]
    },
    {
     "name": "stderr",
     "output_type": "stream",
     "text": [
      "                                                                                \r"
     ]
    },
    {
     "name": "stdout",
     "output_type": "stream",
     "text": [
      "-------------------------------------------\n",
      "Batch: 4\n",
      "-------------------------------------------\n",
      "+------------------------------------------+-------------------+-----+\n",
      "|window                                    |state              |count|\n",
      "+------------------------------------------+-------------------+-----+\n",
      "|{1400-07-14 13:55:44, 1400-07-14 14:55:44}|خوزستان            |9    |\n",
      "|{1400-07-14 13:55:44, 1400-07-14 14:55:44}|بوشهر              |8    |\n",
      "|{1400-07-14 13:55:44, 1400-07-14 14:55:44}|خراسان رضوی        |8    |\n",
      "|{1400-07-14 13:55:44, 1400-07-14 14:55:44}|چهارمحال و بختیاری |8    |\n",
      "|{1400-07-14 13:55:44, 1400-07-14 14:55:44}|گیلان              |8    |\n",
      "|{1400-07-14 13:55:44, 1400-07-14 14:55:44}|همدان              |7    |\n",
      "|{1400-07-14 13:55:44, 1400-07-14 14:55:44}|خراسان شمالی       |7    |\n",
      "|{1400-07-14 13:55:44, 1400-07-14 14:55:44}|اردبیل             |6    |\n",
      "|{1400-07-14 13:55:44, 1400-07-14 14:55:44}|قزوین              |6    |\n",
      "|{1400-07-14 13:55:44, 1400-07-14 14:55:44}|یزد                |5    |\n",
      "|{1400-07-14 13:55:44, 1400-07-14 14:55:44}|کرمانشاه           |5    |\n",
      "|{1400-07-14 13:55:44, 1400-07-14 14:55:44}|قم                 |5    |\n",
      "|{1400-07-14 13:55:44, 1400-07-14 14:55:44}|سیستان و بلوچستان  |5    |\n",
      "|{1400-07-14 13:55:44, 1400-07-14 14:55:44}|ایلام              |5    |\n",
      "|{1400-07-14 13:55:44, 1400-07-14 14:55:44}|البرز              |5    |\n",
      "|{1400-07-14 13:55:44, 1400-07-14 14:55:44}|کهگیلویه و بویراحمد|5    |\n",
      "|{1400-07-14 13:55:44, 1400-07-14 14:55:44}|گلستان             |4    |\n",
      "|{1400-07-14 13:55:44, 1400-07-14 14:55:44}|لرستان             |4    |\n",
      "|{1400-07-14 13:55:44, 1400-07-14 14:55:44}|اصفهان             |4    |\n",
      "|{1400-07-14 13:55:44, 1400-07-14 14:55:44}|خراسان جنوبی       |4    |\n",
      "|{1400-07-14 13:55:44, 1400-07-14 14:55:44}|زنجان              |3    |\n",
      "|{1400-07-14 13:55:44, 1400-07-14 14:55:44}|کرمان              |3    |\n",
      "|{1400-07-14 13:55:44, 1400-07-14 14:55:44}|مازندران           |3    |\n",
      "|{1400-07-14 13:55:44, 1400-07-14 14:55:44}|مرکزی              |3    |\n",
      "|{1400-07-14 13:55:44, 1400-07-14 14:55:44}|آذربایجان شرقی     |3    |\n",
      "|{1400-07-14 13:55:44, 1400-07-14 14:55:44}|هرمزگان            |3    |\n",
      "|{1400-07-14 13:55:44, 1400-07-14 14:55:44}|آذربایجان غربی     |3    |\n",
      "|{1400-07-14 13:55:44, 1400-07-14 14:55:44}|تهران              |3    |\n",
      "|{1400-07-14 13:55:44, 1400-07-14 14:55:44}|فارس               |2    |\n",
      "|{1400-07-14 13:55:44, 1400-07-14 14:55:44}|کردستان            |2    |\n",
      "+------------------------------------------+-------------------+-----+\n",
      "only showing top 30 rows\n",
      "\n"
     ]
    },
    {
     "name": "stderr",
     "output_type": "stream",
     "text": [
      "                                                                                \r"
     ]
    },
    {
     "name": "stdout",
     "output_type": "stream",
     "text": [
      "-------------------------------------------\n",
      "Batch: 5\n",
      "-------------------------------------------\n",
      "+------------------------------------------+-------------------+-----+\n",
      "|window                                    |state              |count|\n",
      "+------------------------------------------+-------------------+-----+\n",
      "|{1400-07-14 13:55:44, 1400-07-14 14:55:44}|یزد                |11   |\n",
      "|{1400-07-14 13:55:44, 1400-07-14 14:55:44}|همدان              |10   |\n",
      "|{1400-07-14 13:55:44, 1400-07-14 14:55:44}|خوزستان            |10   |\n",
      "|{1400-07-14 13:55:44, 1400-07-14 14:55:44}|خراسان رضوی        |9    |\n",
      "|{1400-07-14 13:55:44, 1400-07-14 14:55:44}|خراسان شمالی       |9    |\n",
      "|{1400-07-14 13:55:44, 1400-07-14 14:55:44}|کهگیلویه و بویراحمد|9    |\n",
      "|{1400-07-14 13:55:44, 1400-07-14 14:55:44}|بوشهر              |8    |\n",
      "|{1400-07-14 13:55:44, 1400-07-14 14:55:44}|کرمان              |8    |\n",
      "|{1400-07-14 13:55:44, 1400-07-14 14:55:44}|لرستان             |8    |\n",
      "|{1400-07-14 13:55:44, 1400-07-14 14:55:44}|چهارمحال و بختیاری |8    |\n",
      "|{1400-07-14 13:55:44, 1400-07-14 14:55:44}|قزوین              |8    |\n",
      "|{1400-07-14 13:55:44, 1400-07-14 14:55:44}|گیلان              |8    |\n",
      "|{1400-07-14 13:55:44, 1400-07-14 14:55:44}|گلستان             |7    |\n",
      "|{1400-07-14 13:55:44, 1400-07-14 14:55:44}|قم                 |7    |\n",
      "|{1400-07-14 13:55:44, 1400-07-14 14:55:44}|ایلام              |7    |\n",
      "|{1400-07-14 13:55:44, 1400-07-14 14:55:44}|البرز              |7    |\n",
      "|{1400-07-14 13:55:44, 1400-07-14 14:55:44}|کرمانشاه           |6    |\n",
      "|{1400-07-14 13:55:44, 1400-07-14 14:55:44}|اردبیل             |6    |\n",
      "|{1400-07-14 13:55:44, 1400-07-14 14:55:44}|اصفهان             |6    |\n",
      "|{1400-07-14 13:55:44, 1400-07-14 14:55:44}|زنجان              |5    |\n",
      "|{1400-07-14 13:55:44, 1400-07-14 14:55:44}|مازندران           |5    |\n",
      "|{1400-07-14 13:55:44, 1400-07-14 14:55:44}|مرکزی              |5    |\n",
      "|{1400-07-14 13:55:44, 1400-07-14 14:55:44}|آذربایجان شرقی     |5    |\n",
      "|{1400-07-14 13:55:44, 1400-07-14 14:55:44}|سیستان و بلوچستان  |5    |\n",
      "|{1400-07-14 13:55:44, 1400-07-14 14:55:44}|آذربایجان غربی     |5    |\n",
      "|{1400-07-14 13:55:44, 1400-07-14 14:55:44}|هرمزگان            |4    |\n",
      "|{1400-07-14 13:55:44, 1400-07-14 14:55:44}|سمنان              |4    |\n",
      "|{1400-07-14 13:55:44, 1400-07-14 14:55:44}|خراسان جنوبی       |4    |\n",
      "|{1400-07-14 13:55:44, 1400-07-14 14:55:44}|تهران              |3    |\n",
      "|{1400-07-14 13:55:44, 1400-07-14 14:55:44}|فارس               |2    |\n",
      "+------------------------------------------+-------------------+-----+\n",
      "only showing top 30 rows\n",
      "\n"
     ]
    },
    {
     "name": "stderr",
     "output_type": "stream",
     "text": [
      "                                                                                \r"
     ]
    },
    {
     "name": "stdout",
     "output_type": "stream",
     "text": [
      "-------------------------------------------\n",
      "Batch: 6\n",
      "-------------------------------------------\n",
      "+------------------------------------------+-------------------+-----+\n",
      "|window                                    |state              |count|\n",
      "+------------------------------------------+-------------------+-----+\n",
      "|{1400-07-14 13:55:44, 1400-07-14 14:55:44}|یزد                |14   |\n",
      "|{1400-07-14 13:55:44, 1400-07-14 14:55:44}|همدان              |13   |\n",
      "|{1400-07-14 13:55:44, 1400-07-14 14:55:44}|خوزستان            |12   |\n",
      "|{1400-07-14 13:55:44, 1400-07-14 14:55:44}|چهارمحال و بختیاری |12   |\n",
      "|{1400-07-14 13:55:44, 1400-07-14 14:55:44}|خراسان شمالی       |12   |\n",
      "|{1400-07-14 13:55:44, 1400-07-14 14:55:44}|کرمان              |11   |\n",
      "|{1400-07-14 13:55:44, 1400-07-14 14:55:44}|خراسان رضوی        |10   |\n",
      "|{1400-07-14 13:55:44, 1400-07-14 14:55:44}|اردبیل             |10   |\n",
      "|{1400-07-14 13:55:44, 1400-07-14 14:55:44}|کهگیلویه و بویراحمد|10   |\n",
      "|{1400-07-14 13:55:44, 1400-07-14 14:55:44}|بوشهر              "
     ]
    },
    {
     "name": "stderr",
     "output_type": "stream",
     "text": [
      "                                                                                \r"
     ]
    }
   ],
   "source": [
    "windowedStateCounts = userDF.select(\"persian_timestamp\",\"location.state\")\\\n",
    "                                     .groupBy(\\\n",
    "                                            window(userDF.persian_timestamp, \\\n",
    "                                                    \"1 hours\", \\\n",
    "                                                    \"30 minutes\"),\\\n",
    "                                            \"state\")\\\n",
    "                                     .count()\\\n",
    "                                     .orderBy([col(\"window\").desc(),col(\"count\").desc() ])\n",
    "                                     # .orderBy(col(\"count\").desc())\n",
    "\n",
    "#                                      .filter(col('count')>2) \\\n",
    "#                                      \n",
    "                                     \n",
    "\n",
    "query = windowedStateCounts\\\n",
    "        .writeStream\\\n",
    "        .outputMode(\"complete\")\\\n",
    "        .format(\"console\")\\\n",
    "        .option(\"truncate\", \"false\")\\\n",
    "        .option(\"checkpointLocation\", \"/opt/spark/spark-apps/\")\\\n",
    "        .option(\"numRows\", 30)\\\n",
    "        .start()\\\n",
    "        .awaitTermination()"
   ]
  },
  {
   "cell_type": "code",
   "execution_count": null,
   "id": "e7c31d3f",
   "metadata": {},
   "outputs": [],
   "source": [
    "spark.stop()"
   ]
  }
 ],
 "metadata": {
  "kernelspec": {
   "display_name": "Python 3 (ipykernel)",
   "language": "python",
   "name": "python3"
  },
  "language_info": {
   "codemirror_mode": {
    "name": "ipython",
    "version": 3
   },
   "file_extension": ".py",
   "mimetype": "text/x-python",
   "name": "python",
   "nbconvert_exporter": "python",
   "pygments_lexer": "ipython3",
   "version": "3.7.3"
  }
 },
 "nbformat": 4,
 "nbformat_minor": 5
}
