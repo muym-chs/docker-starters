{
 "cells": [
  {
   "cell_type": "code",
   "execution_count": 1,
   "id": "1770c85c",
   "metadata": {},
   "outputs": [],
   "source": [
    "import sys, re\n",
    "import time\n",
    "import datetime"
   ]
  },
  {
   "cell_type": "code",
   "execution_count": 2,
   "id": "23f00def",
   "metadata": {},
   "outputs": [],
   "source": [
    "TOPIC_Step1_NAME=\"Sahamyab-Tweets\"\n",
    "TOPIC_Step2_NAME=\"Sahamyab-Tweets-Processed\"\n",
    "KAFKA_SERVER=\"kafka-broker:29092\""
   ]
  },
  {
   "cell_type": "code",
   "execution_count": 3,
   "id": "55e4c9f0",
   "metadata": {},
   "outputs": [
    {
     "name": "stderr",
     "output_type": "stream",
     "text": [
      "WARNING: An illegal reflective access operation has occurred\n",
      "WARNING: Illegal reflective access by org.apache.spark.unsafe.Platform (file:/opt/spark/jars/spark-unsafe_2.12-3.1.2.jar) to constructor java.nio.DirectByteBuffer(long,int)\n",
      "WARNING: Please consider reporting this to the maintainers of org.apache.spark.unsafe.Platform\n",
      "WARNING: Use --illegal-access=warn to enable warnings of further illegal reflective access operations\n",
      "WARNING: All illegal access operations will be denied in a future release\n"
     ]
    },
    {
     "name": "stdout",
     "output_type": "stream",
     "text": [
      ":: loading settings :: url = jar:file:/opt/spark/jars/ivy-2.4.0.jar!/org/apache/ivy/core/settings/ivysettings.xml\n"
     ]
    },
    {
     "name": "stderr",
     "output_type": "stream",
     "text": [
      "Ivy Default Cache set to: /root/.ivy2/cache\n",
      "The jars for the packages stored in: /root/.ivy2/jars\n",
      "org.apache.spark#spark-sql-kafka-0-10_2.12 added as a dependency\n",
      ":: resolving dependencies :: org.apache.spark#spark-submit-parent-b8ccb440-f252-4562-b718-ebdd90920735;1.0\n",
      "\tconfs: [default]\n",
      "\tfound org.apache.spark#spark-sql-kafka-0-10_2.12;3.1.2 in central\n",
      "\tfound org.apache.spark#spark-token-provider-kafka-0-10_2.12;3.1.2 in central\n",
      "\tfound org.apache.kafka#kafka-clients;2.6.0 in central\n",
      "\tfound com.github.luben#zstd-jni;1.4.8-1 in central\n",
      "\tfound org.lz4#lz4-java;1.7.1 in central\n",
      "\tfound org.xerial.snappy#snappy-java;1.1.8.2 in central\n",
      "\tfound org.slf4j#slf4j-api;1.7.30 in central\n",
      "\tfound org.spark-project.spark#unused;1.0.0 in central\n",
      "\tfound org.apache.commons#commons-pool2;2.6.2 in central\n",
      ":: resolution report :: resolve 486ms :: artifacts dl 8ms\n",
      "\t:: modules in use:\n",
      "\tcom.github.luben#zstd-jni;1.4.8-1 from central in [default]\n",
      "\torg.apache.commons#commons-pool2;2.6.2 from central in [default]\n",
      "\torg.apache.kafka#kafka-clients;2.6.0 from central in [default]\n",
      "\torg.apache.spark#spark-sql-kafka-0-10_2.12;3.1.2 from central in [default]\n",
      "\torg.apache.spark#spark-token-provider-kafka-0-10_2.12;3.1.2 from central in [default]\n",
      "\torg.lz4#lz4-java;1.7.1 from central in [default]\n",
      "\torg.slf4j#slf4j-api;1.7.30 from central in [default]\n",
      "\torg.spark-project.spark#unused;1.0.0 from central in [default]\n",
      "\torg.xerial.snappy#snappy-java;1.1.8.2 from central in [default]\n",
      "\t---------------------------------------------------------------------\n",
      "\t|                  |            modules            ||   artifacts   |\n",
      "\t|       conf       | number| search|dwnlded|evicted|| number|dwnlded|\n",
      "\t---------------------------------------------------------------------\n",
      "\t|      default     |   9   |   0   |   0   |   0   ||   9   |   0   |\n",
      "\t---------------------------------------------------------------------\n",
      ":: retrieving :: org.apache.spark#spark-submit-parent-b8ccb440-f252-4562-b718-ebdd90920735\n",
      "\tconfs: [default]\n",
      "\t0 artifacts copied, 9 already retrieved (0kB/14ms)\n",
      "21/10/06 13:38:29 WARN NativeCodeLoader: Unable to load native-hadoop library for your platform... using builtin-java classes where applicable\n",
      "Using Spark's default log4j profile: org/apache/spark/log4j-defaults.properties\n",
      "Setting default log level to \"WARN\".\n",
      "To adjust logging level use sc.setLogLevel(newLevel). For SparkR, use setLogLevel(newLevel).\n"
     ]
    }
   ],
   "source": [
    "import os\n",
    "# https://spark.apache.org/docs/latest/structured-streaming-kafka-integration.html\n",
    "\n",
    "# setup arguments\n",
    "os.environ['PYSPARK_SUBMIT_ARGS']='--packages org.apache.spark:spark-sql-kafka-0-10_2.12:3.1.2 pyspark-shell'\n",
    "\n",
    "from pyspark import SparkContext, SparkConf\n",
    "from pyspark.sql import SparkSession\n",
    "from pyspark.sql.functions import *\n",
    "from pyspark.sql.types import *\n",
    "\n",
    "\n",
    "spark = SparkSession.builder \\\n",
    "    .master(\"spark://spark-master:7077\") \\\n",
    "    .appName(\"Step3_2-Simple-Pipeline\") \\\n",
    "    .config(\"spark.executor.memory\", \"512mb\") \\\n",
    "    .config(\"spark.executor.cores\",\"1\") \\\n",
    "    .config(\"spark.cores.max\", \"1\") \\\n",
    "    .config(\"spark.sql.session.timeZone\", \"Asia/Tehran\") \\\n",
    "    .getOrCreate()    \n",
    "    \n",
    "    "
   ]
  },
  {
   "cell_type": "code",
   "execution_count": 4,
   "id": "2f62b9fa",
   "metadata": {},
   "outputs": [],
   "source": [
    "spark.sparkContext.setLogLevel(\"ERROR\")\n"
   ]
  },
  {
   "cell_type": "code",
   "execution_count": 5,
   "id": "044f353e",
   "metadata": {},
   "outputs": [],
   "source": [
    "def get_tags(text):\n",
    "    tags = re.findall(r\"#(\\w+)\", text)\n",
    "    return tags"
   ]
  },
  {
   "cell_type": "code",
   "execution_count": 6,
   "id": "bf9b823f",
   "metadata": {},
   "outputs": [],
   "source": [
    "get_tags_udf = udf(get_tags, ArrayType(StringType()))"
   ]
  },
  {
   "cell_type": "code",
   "execution_count": 7,
   "id": "90f05896",
   "metadata": {},
   "outputs": [],
   "source": [
    "# https://sparkbyexamples.com/spark/spark-sql-structtype-on-dataframe/\n",
    "schema = StructType([StructField(\"id\", StringType(), True),\\\n",
    "                         StructField(\"content\", StringType(), True),\\\n",
    "                         StructField(\"sendTime\", StringType(), True),\\\n",
    "                         StructField(\"sendTimePersian\", StringType(), True),\\\n",
    "                         StructField(\"senderName\", StringType(), True),\\\n",
    "                         StructField(\"senderUsername\", StringType(), True),\\\n",
    "                         StructField(\"type\", StringType(), True),\n",
    "                    ])"
   ]
  },
  {
   "cell_type": "code",
   "execution_count": 8,
   "id": "7f193720",
   "metadata": {},
   "outputs": [],
   "source": [
    "df = spark \\\n",
    "  .readStream \\\n",
    "  .format(\"kafka\") \\\n",
    "  .option(\"kafka.bootstrap.servers\", KAFKA_SERVER) \\\n",
    "  .option(\"subscribe\", TOPIC_Step1_NAME) \\\n",
    "  .option(\"startingOffsets\", \"earliest\") \\\n",
    "  .option(\"failOnDataLoss\", \"false\")\\\n",
    "  .option(\"kafka.group.id\", \"step3_2-Simple-Pipeline\")\\\n",
    "  .load()"
   ]
  },
  {
   "cell_type": "code",
   "execution_count": 9,
   "id": "53e41ab3",
   "metadata": {},
   "outputs": [],
   "source": [
    "tweetsStringDF = df.selectExpr(\"CAST(key AS STRING)\", \"CAST(value AS STRING)\")\n",
    "\n",
    "tweetsDF = tweetsStringDF.select(from_json(col(\"value\"), schema).alias(\"data\")).select(\"data.*\")\n",
    "tweetsDF = tweetsDF.withColumn(\"hashtags\", get_tags_udf(col(\"content\")) )\\\n",
    "            .withColumn(\"timestamp\", unix_timestamp(\"sendTime\", \"yyyy-MM-dd'T'HH:mm:ss'Z'\").cast('timestamp')) \\\n",
    "            .withColumn(\"persian_timestamp\", from_utc_timestamp(\"timestamp\", \"Asia/Tehran\").cast('timestamp')) \\\n",
    "            .withColumn(\"persianYear\", tweetsDF['sendTimePersian'].substr(0, 4)) \\\n",
    "            .withColumn(\"persianMonth\", tweetsDF['sendTimePersian'].substr(6, 2)) \\\n",
    "            .withColumn(\"persianDay\", tweetsDF['sendTimePersian'].substr(9, 2))\n",
    "            \n"
   ]
  },
  {
   "cell_type": "code",
   "execution_count": 10,
   "id": "6c65c660",
   "metadata": {},
   "outputs": [
    {
     "name": "stderr",
     "output_type": "stream",
     "text": [
      "                                                                                \r"
     ]
    }
   ],
   "source": [
    "kafka_writer = tweetsDF \\\n",
    "  .select(col(\"id\").alias(\"key\"),to_json(struct(\\\n",
    "                                                [coalesce(col(x), lit(\"\")).alias(x) if x!=\"hashtags\" else  coalesce(col(x), array([])).alias(x) for x in tweetsDF.columns ]\n",
    "                                               )).alias(\"value\"))\\\n",
    "  .writeStream\\\n",
    "  .format(\"kafka\") \\\n",
    "  .outputMode(\"append\")\\\n",
    "  .option(\"kafka.bootstrap.servers\", KAFKA_SERVER) \\\n",
    "  .option(\"topic\", TOPIC_Step2_NAME) \\\n",
    "  .option(\"checkpointLocation\",\"/opt/spark-apps/checkpoints/step3_2-simple-pipeline\")\\\n",
    "  .start()\n",
    "\n",
    "#     .writeStream \\\n",
    "#     .outputMode('append')\\\n",
    "#     .format('console')\\\n",
    "#     .start()"
   ]
  },
  {
   "cell_type": "code",
   "execution_count": 11,
   "id": "78a4e6ca",
   "metadata": {},
   "outputs": [],
   "source": [
    "kafka_writer.stop()"
   ]
  }
 ],
 "metadata": {
  "kernelspec": {
   "display_name": "Python 3 (ipykernel)",
   "language": "python",
   "name": "python3"
  },
  "language_info": {
   "codemirror_mode": {
    "name": "ipython",
    "version": 3
   },
   "file_extension": ".py",
   "mimetype": "text/x-python",
   "name": "python",
   "nbconvert_exporter": "python",
   "pygments_lexer": "ipython3",
   "version": "3.7.3"
  }
 },
 "nbformat": 4,
 "nbformat_minor": 5
}
