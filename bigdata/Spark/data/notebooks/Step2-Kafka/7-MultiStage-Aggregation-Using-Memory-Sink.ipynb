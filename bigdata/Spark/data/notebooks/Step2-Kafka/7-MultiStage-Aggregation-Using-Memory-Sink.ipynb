{
 "cells": [
  {
   "cell_type": "code",
   "execution_count": 2,
   "id": "1770c85c",
   "metadata": {},
   "outputs": [],
   "source": [
    "import sys\n",
    "import time\n",
    "import datetime"
   ]
  },
  {
   "cell_type": "code",
   "execution_count": 3,
   "id": "23f00def",
   "metadata": {},
   "outputs": [],
   "source": [
    "TOPIC_Step2_NAME=\"Sahamyab-Tweets2\"\n",
    "KAFKA_SERVER=\"kafka-broker:29092\""
   ]
  },
  {
   "cell_type": "code",
   "execution_count": 4,
   "id": "55e4c9f0",
   "metadata": {},
   "outputs": [
    {
     "name": "stderr",
     "output_type": "stream",
     "text": [
      "WARNING: An illegal reflective access operation has occurred\n",
      "WARNING: Illegal reflective access by org.apache.spark.unsafe.Platform (file:/opt/spark/jars/spark-unsafe_2.12-3.1.2.jar) to constructor java.nio.DirectByteBuffer(long,int)\n",
      "WARNING: Please consider reporting this to the maintainers of org.apache.spark.unsafe.Platform\n",
      "WARNING: Use --illegal-access=warn to enable warnings of further illegal reflective access operations\n",
      "WARNING: All illegal access operations will be denied in a future release\n"
     ]
    },
    {
     "name": "stdout",
     "output_type": "stream",
     "text": [
      ":: loading settings :: url = jar:file:/opt/spark/jars/ivy-2.4.0.jar!/org/apache/ivy/core/settings/ivysettings.xml\n"
     ]
    },
    {
     "name": "stderr",
     "output_type": "stream",
     "text": [
      "Ivy Default Cache set to: /root/.ivy2/cache\n",
      "The jars for the packages stored in: /root/.ivy2/jars\n",
      "org.apache.spark#spark-sql-kafka-0-10_2.12 added as a dependency\n",
      ":: resolving dependencies :: org.apache.spark#spark-submit-parent-12fd304e-9d13-4f2e-883f-4facb9778158;1.0\n",
      "\tconfs: [default]\n",
      "\tfound org.apache.spark#spark-sql-kafka-0-10_2.12;3.1.2 in central\n",
      "\tfound org.apache.spark#spark-token-provider-kafka-0-10_2.12;3.1.2 in central\n",
      "\tfound org.apache.kafka#kafka-clients;2.6.0 in central\n",
      "\tfound com.github.luben#zstd-jni;1.4.8-1 in central\n",
      "\tfound org.lz4#lz4-java;1.7.1 in central\n",
      "\tfound org.xerial.snappy#snappy-java;1.1.8.2 in central\n",
      "\tfound org.slf4j#slf4j-api;1.7.30 in central\n",
      "\tfound org.spark-project.spark#unused;1.0.0 in central\n",
      "\tfound org.apache.commons#commons-pool2;2.6.2 in central\n",
      ":: resolution report :: resolve 810ms :: artifacts dl 23ms\n",
      "\t:: modules in use:\n",
      "\tcom.github.luben#zstd-jni;1.4.8-1 from central in [default]\n",
      "\torg.apache.commons#commons-pool2;2.6.2 from central in [default]\n",
      "\torg.apache.kafka#kafka-clients;2.6.0 from central in [default]\n",
      "\torg.apache.spark#spark-sql-kafka-0-10_2.12;3.1.2 from central in [default]\n",
      "\torg.apache.spark#spark-token-provider-kafka-0-10_2.12;3.1.2 from central in [default]\n",
      "\torg.lz4#lz4-java;1.7.1 from central in [default]\n",
      "\torg.slf4j#slf4j-api;1.7.30 from central in [default]\n",
      "\torg.spark-project.spark#unused;1.0.0 from central in [default]\n",
      "\torg.xerial.snappy#snappy-java;1.1.8.2 from central in [default]\n",
      "\t---------------------------------------------------------------------\n",
      "\t|                  |            modules            ||   artifacts   |\n",
      "\t|       conf       | number| search|dwnlded|evicted|| number|dwnlded|\n",
      "\t---------------------------------------------------------------------\n",
      "\t|      default     |   9   |   0   |   0   |   0   ||   9   |   0   |\n",
      "\t---------------------------------------------------------------------\n",
      ":: retrieving :: org.apache.spark#spark-submit-parent-12fd304e-9d13-4f2e-883f-4facb9778158\n",
      "\tconfs: [default]\n",
      "\t0 artifacts copied, 9 already retrieved (0kB/15ms)\n",
      "21/10/08 19:33:55 WARN NativeCodeLoader: Unable to load native-hadoop library for your platform... using builtin-java classes where applicable\n",
      "Using Spark's default log4j profile: org/apache/spark/log4j-defaults.properties\n",
      "Setting default log level to \"WARN\".\n",
      "To adjust logging level use sc.setLogLevel(newLevel). For SparkR, use setLogLevel(newLevel).\n",
      "21/10/08 19:33:57 WARN Utils: Service 'SparkUI' could not bind on port 4040. Attempting port 4041.\n"
     ]
    }
   ],
   "source": [
    "import os\n",
    "# https://spark.apache.org/docs/latest/structured-streaming-kafka-integration.html\n",
    "\n",
    "# setup arguments\n",
    "os.environ['PYSPARK_SUBMIT_ARGS']='--packages org.apache.spark:spark-sql-kafka-0-10_2.12:3.1.2 pyspark-shell'\n",
    "\n",
    "from pyspark import SparkContext, SparkConf\n",
    "from pyspark.sql import SparkSession\n",
    "from pyspark.sql.functions import *\n",
    "from pyspark.sql.types import *\n",
    "\n",
    "\n",
    "spark = SparkSession.builder \\\n",
    "    .master(\"spark://spark-master:7077\") \\\n",
    "    .appName(\"Step2_7-Memory-Sink\") \\\n",
    "    .config(\"spark.executor.memory\", \"1024mb\") \\\n",
    "    .config(\"spark.executor.cores\",\"1\") \\\n",
    "    .config(\"spark.cores.max\", \"1\") \\\n",
    "    .config(\"spark.sql.session.timeZone\", \"Asia/Tehran\") \\\n",
    "    .getOrCreate()    \n",
    "    \n",
    "    "
   ]
  },
  {
   "cell_type": "code",
   "execution_count": 5,
   "id": "2f62b9fa",
   "metadata": {},
   "outputs": [],
   "source": [
    "spark.sparkContext.setLogLevel(\"ERROR\")\n"
   ]
  },
  {
   "cell_type": "code",
   "execution_count": 6,
   "id": "90f05896",
   "metadata": {},
   "outputs": [],
   "source": [
    "# https://sparkbyexamples.com/spark/spark-sql-structtype-on-dataframe/\n",
    "schema = StructType([StructField(\"id\", StringType(), True),\\\n",
    "                         StructField(\"content\", StringType(), True),\\\n",
    "                         StructField(\"sendTime\", StringType(), True),\\\n",
    "                         StructField(\"sendTimePersian\", StringType(), True),\\\n",
    "                         StructField(\"senderName\", StringType(), True),\\\n",
    "                         StructField(\"senderUsername\", StringType(), True),\\\n",
    "                         StructField(\"type\", StringType(), True),\\\n",
    "                         StructField(\"hashtags\", ArrayType(StringType()), True)\n",
    "                    ])"
   ]
  },
  {
   "cell_type": "code",
   "execution_count": 7,
   "id": "7f193720",
   "metadata": {},
   "outputs": [],
   "source": [
    "df = spark \\\n",
    "  .readStream \\\n",
    "  .format(\"kafka\") \\\n",
    "  .option(\"kafka.bootstrap.servers\", KAFKA_SERVER) \\\n",
    "  .option(\"subscribe\", TOPIC_Step2_NAME) \\\n",
    "  .option(\"startingOffsets\", \"earliest\") \\\n",
    "  .option(\"kafka.group.id\", \"step2_7-Memory-Sink\")\\\n",
    "  .load()"
   ]
  },
  {
   "cell_type": "code",
   "execution_count": 8,
   "id": "53e41ab3",
   "metadata": {},
   "outputs": [],
   "source": [
    "tweetsStringDF = df.selectExpr(\"CAST(key AS STRING)\", \"CAST(value AS STRING)\")\n",
    "\n",
    "tweetsDF = tweetsStringDF.select(from_json(col(\"value\"), schema).alias(\"data\")).select(\"data.*\")\n",
    "tweetsDF = tweetsDF.withColumn(\"timestamp\", unix_timestamp(\"sendTime\", \"yyyy-MM-dd'T'HH:mm:ss'Z'\").cast('timestamp')) \\\n",
    "            .withColumn(\"persian_timestamp\", from_utc_timestamp(\"timestamp\", \"Asia/Tehran\").cast('timestamp')) \\\n",
    "            .withColumn(\"persianYear\", tweetsDF['sendTimePersian'].substr(0, 4)) \\\n",
    "            .withColumn(\"persianMonth\", tweetsDF['sendTimePersian'].substr(6, 2)) \\\n",
    "            .withColumn(\"persianDay\", tweetsDF['sendTimePersian'].substr(9, 2))\n"
   ]
  },
  {
   "cell_type": "code",
   "execution_count": 9,
   "id": "879986ad",
   "metadata": {},
   "outputs": [],
   "source": [
    "user_activity_count = tweetsDF\\\n",
    "    .withWatermark(\"persian_timestamp\", \"10 minutes\") \\\n",
    "    .groupBy(\n",
    "        window(col(\"persian_timestamp\"), \"1 hours\", \"1 hours\"), # 10 minute window, updating every 10 minutes\n",
    "        col(\"senderUsername\"))\\\n",
    "    .count()"
   ]
  },
  {
   "cell_type": "code",
   "execution_count": 10,
   "id": "aa7e09c9",
   "metadata": {},
   "outputs": [],
   "source": [
    "# Create query stream with memory sink\n",
    "queryStream = user_activity_count\\\n",
    " .writeStream\\\n",
    " .format(\"memory\")\\\n",
    " .queryName(\"user_activity\")\\\n",
    " .outputMode(\"update\")\\\n",
    " .start()"
   ]
  },
  {
   "cell_type": "code",
   "execution_count": null,
   "id": "4d8bff13",
   "metadata": {},
   "outputs": [
    {
     "name": "stdout",
     "output_type": "stream",
     "text": [
      "-=--=--=--=--=--=--=--=--=--=--=--=--=--=--=--=--=--=--=--=-\n",
      "Round :#   1\n"
     ]
    },
    {
     "name": "stderr",
     "output_type": "stream",
     "text": [
      "                                                                                \r"
     ]
    },
    {
     "name": "stdout",
     "output_type": "stream",
     "text": [
      "+-----+---+--------------+-----+\n",
      "|start|end|senderUsername|count|\n",
      "+-----+---+--------------+-----+\n",
      "+-----+---+--------------+-----+\n",
      "\n"
     ]
    },
    {
     "name": "stderr",
     "output_type": "stream",
     "text": [
      "[Stage 8:===============================================>       (173 + 2) / 200]\r"
     ]
    },
    {
     "name": "stdout",
     "output_type": "stream",
     "text": [
      "-=--=--=--=--=--=--=--=--=--=--=--=--=--=--=--=--=--=--=--=-\n",
      "Round :#   2\n"
     ]
    },
    {
     "name": "stderr",
     "output_type": "stream",
     "text": [
      "                                                                                \r"
     ]
    },
    {
     "name": "stdout",
     "output_type": "stream",
     "text": [
      "+-------------------+-------------------+--------------+-----+\n",
      "|              start|                end|senderUsername|count|\n",
      "+-------------------+-------------------+--------------+-----+\n",
      "|2021-10-08 22:30:00|2021-10-08 23:30:00|      abo09906|  222|\n",
      "|2021-10-08 22:30:00|2021-10-08 23:30:00|     measam313|  111|\n",
      "|2021-10-08 22:30:00|2021-10-08 23:30:00|      alis3394|  111|\n",
      "|2021-10-08 22:30:00|2021-10-08 23:30:00|        agooly|  111|\n",
      "|2021-10-08 22:30:00|2021-10-08 23:30:00|mohammad_17799|  111|\n",
      "|2021-10-08 22:30:00|2021-10-08 23:30:00|      amir2489|  111|\n",
      "|2021-10-08 22:30:00|2021-10-08 23:30:00|     matin2930|  111|\n",
      "|2021-10-08 22:30:00|2021-10-08 23:30:00|  tavakolizade|  111|\n",
      "+-------------------+-------------------+--------------+-----+\n",
      "\n"
     ]
    },
    {
     "name": "stderr",
     "output_type": "stream",
     "text": [
      "[Stage 17:=====>                                                 (21 + 1) / 200]\r"
     ]
    },
    {
     "name": "stdout",
     "output_type": "stream",
     "text": [
      "-=--=--=--=--=--=--=--=--=--=--=--=--=--=--=--=--=--=--=--=-\n",
      "Round :#   3\n"
     ]
    },
    {
     "name": "stderr",
     "output_type": "stream",
     "text": [
      "                                                                                \r"
     ]
    },
    {
     "name": "stdout",
     "output_type": "stream",
     "text": [
      "+-------------------+-------------------+--------------+-----+\n",
      "|              start|                end|senderUsername|count|\n",
      "+-------------------+-------------------+--------------+-----+\n",
      "|2021-10-08 22:30:00|2021-10-08 23:30:00|      abo09906|  692|\n",
      "|2021-10-08 22:30:00|2021-10-08 23:30:00|     measam313|  346|\n",
      "|2021-10-08 22:30:00|2021-10-08 23:30:00|      alis3394|  346|\n",
      "|2021-10-08 22:30:00|2021-10-08 23:30:00|        agooly|  346|\n",
      "|2021-10-08 22:30:00|2021-10-08 23:30:00|mohammad_17799|  346|\n",
      "|2021-10-08 22:30:00|2021-10-08 23:30:00|      amir2489|  346|\n",
      "|2021-10-08 22:30:00|2021-10-08 23:30:00|     matin2930|  346|\n",
      "|2021-10-08 22:30:00|2021-10-08 23:30:00|  tavakolizade|  346|\n",
      "+-------------------+-------------------+--------------+-----+\n",
      "\n"
     ]
    },
    {
     "name": "stderr",
     "output_type": "stream",
     "text": [
      "[Stage 24:================>                                      (60 + 1) / 200]\r"
     ]
    },
    {
     "name": "stdout",
     "output_type": "stream",
     "text": [
      "-=--=--=--=--=--=--=--=--=--=--=--=--=--=--=--=--=--=--=--=-\n",
      "Round :#   4\n"
     ]
    },
    {
     "name": "stderr",
     "output_type": "stream",
     "text": [
      "[Stage 24:=======>      (100 + 1) / 200][Stage 25:>                 (0 + 0) / 2]\r"
     ]
    }
   ],
   "source": [
    "\n",
    "from time import sleep\n",
    "cnt=1\n",
    "while True : \n",
    "    print(\"-=-\"*20)\n",
    "    print(f\"Round :#{cnt:4}\")\n",
    "    cnt+=1\n",
    "    top10_last_housr_df = spark.sql(\n",
    "        \"\"\"\n",
    "            select\n",
    "                window.start\n",
    "                ,window.end\n",
    "                ,senderUsername\n",
    "                ,sum(count) as count\n",
    "            from\n",
    "                user_activity\n",
    "            where\n",
    "                window.start = (select max(window.start) from user_activity)\n",
    "            group by\n",
    "                window.start\n",
    "                ,window.end\n",
    "                ,senderUsername\n",
    "            order by\n",
    "                4 desc\n",
    "            limit 10\n",
    "        \"\"\"\n",
    "    )\n",
    "    top10_last_housr_df.show()\n",
    "    sleep(20)\n"
   ]
  },
  {
   "cell_type": "markdown",
   "id": "be70a500",
   "metadata": {},
   "source": [
    "### Submit Sample Spark App in Pyspark Container Bash "
   ]
  },
  {
   "cell_type": "markdown",
   "id": "5fae7c3a",
   "metadata": {},
   "source": [
    "- Go to Pyspark Shell :\n",
    "```bash\n",
    "docker exec -it pyspark bash\n",
    "```\n",
    "- cd /opt/spark-app/\n",
    "- run this command :\n",
    "```bash\n",
    "unset PYSPARK_DRIVER_PYTHON\n",
    "spark-submit --master  spark-master:7077  --packages org.apache.spark:spark-sql-kafka-0-10_2.12:3.1.2 memory_sink.py\n",
    "export PYSPARK_DRIVER_PYTHON=python\n",
    "```"
   ]
  }
 ],
 "metadata": {
  "kernelspec": {
   "display_name": "Python 3 (ipykernel)",
   "language": "python",
   "name": "python3"
  },
  "language_info": {
   "codemirror_mode": {
    "name": "ipython",
    "version": 3
   },
   "file_extension": ".py",
   "mimetype": "text/x-python",
   "name": "python",
   "nbconvert_exporter": "python",
   "pygments_lexer": "ipython3",
   "version": "3.7.3"
  }
 },
 "nbformat": 4,
 "nbformat_minor": 5
}
