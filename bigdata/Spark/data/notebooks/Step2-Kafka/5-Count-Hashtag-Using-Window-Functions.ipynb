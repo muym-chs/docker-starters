{
 "cells": [
  {
   "cell_type": "code",
   "execution_count": 1,
   "id": "1770c85c",
   "metadata": {
    "scrolled": true
   },
   "outputs": [],
   "source": [
    "import sys\n",
    "import time\n",
    "import datetime"
   ]
  },
  {
   "cell_type": "code",
   "execution_count": 2,
   "id": "23f00def",
   "metadata": {
    "scrolled": true
   },
   "outputs": [],
   "source": [
    "TOPIC_Step2_NAME=\"Sahamyab-Tweets2\"\n",
    "KAFKA_SERVER=\"kafka-broker:29092\""
   ]
  },
  {
   "cell_type": "code",
   "execution_count": 3,
   "id": "55e4c9f0",
   "metadata": {
    "scrolled": true
   },
   "outputs": [
    {
     "name": "stderr",
     "output_type": "stream",
     "text": [
      "WARNING: An illegal reflective access operation has occurred\n",
      "WARNING: Illegal reflective access by org.apache.spark.unsafe.Platform (file:/opt/spark/jars/spark-unsafe_2.12-3.1.2.jar) to constructor java.nio.DirectByteBuffer(long,int)\n",
      "WARNING: Please consider reporting this to the maintainers of org.apache.spark.unsafe.Platform\n",
      "WARNING: Use --illegal-access=warn to enable warnings of further illegal reflective access operations\n",
      "WARNING: All illegal access operations will be denied in a future release\n"
     ]
    },
    {
     "name": "stdout",
     "output_type": "stream",
     "text": [
      ":: loading settings :: url = jar:file:/opt/spark/jars/ivy-2.4.0.jar!/org/apache/ivy/core/settings/ivysettings.xml\n"
     ]
    },
    {
     "name": "stderr",
     "output_type": "stream",
     "text": [
      "Ivy Default Cache set to: /root/.ivy2/cache\n",
      "The jars for the packages stored in: /root/.ivy2/jars\n",
      "org.apache.spark#spark-sql-kafka-0-10_2.12 added as a dependency\n",
      ":: resolving dependencies :: org.apache.spark#spark-submit-parent-462884e4-ebd1-456c-b3fb-0b256b2fe056;1.0\n",
      "\tconfs: [default]\n",
      "\tfound org.apache.spark#spark-sql-kafka-0-10_2.12;3.1.2 in central\n",
      "\tfound org.apache.spark#spark-token-provider-kafka-0-10_2.12;3.1.2 in central\n",
      "\tfound org.apache.kafka#kafka-clients;2.6.0 in central\n",
      "\tfound com.github.luben#zstd-jni;1.4.8-1 in central\n",
      "\tfound org.lz4#lz4-java;1.7.1 in central\n",
      "\tfound org.xerial.snappy#snappy-java;1.1.8.2 in central\n",
      "\tfound org.slf4j#slf4j-api;1.7.30 in central\n",
      "\tfound org.spark-project.spark#unused;1.0.0 in central\n",
      "\tfound org.apache.commons#commons-pool2;2.6.2 in central\n",
      ":: resolution report :: resolve 983ms :: artifacts dl 22ms\n",
      "\t:: modules in use:\n",
      "\tcom.github.luben#zstd-jni;1.4.8-1 from central in [default]\n",
      "\torg.apache.commons#commons-pool2;2.6.2 from central in [default]\n",
      "\torg.apache.kafka#kafka-clients;2.6.0 from central in [default]\n",
      "\torg.apache.spark#spark-sql-kafka-0-10_2.12;3.1.2 from central in [default]\n",
      "\torg.apache.spark#spark-token-provider-kafka-0-10_2.12;3.1.2 from central in [default]\n",
      "\torg.lz4#lz4-java;1.7.1 from central in [default]\n",
      "\torg.slf4j#slf4j-api;1.7.30 from central in [default]\n",
      "\torg.spark-project.spark#unused;1.0.0 from central in [default]\n",
      "\torg.xerial.snappy#snappy-java;1.1.8.2 from central in [default]\n",
      "\t---------------------------------------------------------------------\n",
      "\t|                  |            modules            ||   artifacts   |\n",
      "\t|       conf       | number| search|dwnlded|evicted|| number|dwnlded|\n",
      "\t---------------------------------------------------------------------\n",
      "\t|      default     |   9   |   0   |   0   |   0   ||   9   |   0   |\n",
      "\t---------------------------------------------------------------------\n",
      ":: retrieving :: org.apache.spark#spark-submit-parent-462884e4-ebd1-456c-b3fb-0b256b2fe056\n",
      "\tconfs: [default]\n",
      "\t0 artifacts copied, 9 already retrieved (0kB/21ms)\n",
      "21/10/08 18:48:32 WARN NativeCodeLoader: Unable to load native-hadoop library for your platform... using builtin-java classes where applicable\n",
      "Using Spark's default log4j profile: org/apache/spark/log4j-defaults.properties\n",
      "Setting default log level to \"WARN\".\n",
      "To adjust logging level use sc.setLogLevel(newLevel). For SparkR, use setLogLevel(newLevel).\n"
     ]
    }
   ],
   "source": [
    "import os\n",
    "# https://spark.apache.org/docs/latest/structured-streaming-kafka-integration.html\n",
    "\n",
    "# setup arguments\n",
    "os.environ['PYSPARK_SUBMIT_ARGS']='--packages org.apache.spark:spark-sql-kafka-0-10_2.12:3.1.2 pyspark-shell'\n",
    "\n",
    "from pyspark import SparkContext, SparkConf\n",
    "from pyspark.sql import SparkSession\n",
    "from pyspark.sql.functions import *\n",
    "from pyspark.sql.types import *\n",
    "\n",
    "\n",
    "spark = SparkSession.builder \\\n",
    "    .master(\"spark://spark-master:7077\") \\\n",
    "    .appName(\"Step2_5-Count-Hashtags-Window\") \\\n",
    "    .config(\"spark.executor.memory\", \"1024mb\") \\\n",
    "    .config(\"spark.executor.cores\",\"1\") \\\n",
    "    .config(\"spark.cores.max\", \"1\") \\\n",
    "    .config(\"spark.sql.session.timeZone\", \"Asia/Tehran\") \\\n",
    "    .getOrCreate()    \n",
    "    \n",
    "    "
   ]
  },
  {
   "cell_type": "code",
   "execution_count": 4,
   "id": "2f62b9fa",
   "metadata": {
    "scrolled": true
   },
   "outputs": [],
   "source": [
    "spark.sparkContext.setLogLevel(\"ERROR\")\n"
   ]
  },
  {
   "cell_type": "code",
   "execution_count": 5,
   "id": "90f05896",
   "metadata": {
    "scrolled": true
   },
   "outputs": [],
   "source": [
    "# https://sparkbyexamples.com/spark/spark-sql-structtype-on-dataframe/\n",
    "schema = StructType([StructField(\"id\", StringType(), True),\\\n",
    "                         StructField(\"content\", StringType(), True),\\\n",
    "                         StructField(\"sendTime\", StringType(), True),\\\n",
    "                         StructField(\"sendTimePersian\", StringType(), True),\\\n",
    "                         StructField(\"senderName\", StringType(), True),\\\n",
    "                         StructField(\"senderUsername\", StringType(), True),\\\n",
    "                         StructField(\"type\", StringType(), True),\\\n",
    "                         StructField(\"hashtags\", ArrayType(StringType()), True)\n",
    "                    ])"
   ]
  },
  {
   "cell_type": "code",
   "execution_count": 6,
   "id": "7f193720",
   "metadata": {
    "scrolled": true
   },
   "outputs": [],
   "source": [
    "df = spark \\\n",
    "  .readStream \\\n",
    "  .format(\"kafka\") \\\n",
    "  .option(\"kafka.bootstrap.servers\", KAFKA_SERVER) \\\n",
    "  .option(\"subscribe\", TOPIC_Step2_NAME) \\\n",
    "  .option(\"startingOffsets\", \"earliest\") \\\n",
    "  .option(\"kafka.group.id\", \"step2_5-count-hashtags-window\")\\\n",
    "  .load()"
   ]
  },
  {
   "cell_type": "code",
   "execution_count": 7,
   "id": "53e41ab3",
   "metadata": {
    "scrolled": true
   },
   "outputs": [],
   "source": [
    "tweetsStringDF = df.selectExpr(\"CAST(key AS STRING)\", \"CAST(value AS STRING)\")\n",
    "\n",
    "tweetsDF = tweetsStringDF.select(from_json(col(\"value\"), schema).alias(\"data\")).select(\"data.*\")\n",
    "tweetsDF = tweetsDF.withColumn(\"timestamp\", unix_timestamp(\"sendTime\", \"yyyy-MM-dd'T'HH:mm:ss'Z'\").cast('timestamp')) \\\n",
    "            .withColumn(\"persian_timestamp\", from_utc_timestamp(\"timestamp\", \"Asia/Tehran\").cast('timestamp')) \\\n",
    "            .withColumn(\"persianYear\", tweetsDF['sendTimePersian'].substr(0, 4)) \\\n",
    "            .withColumn(\"persianMonth\", tweetsDF['sendTimePersian'].substr(6, 2)) \\\n",
    "            .withColumn(\"persianDay\", tweetsDF['sendTimePersian'].substr(9, 2))\n"
   ]
  },
  {
   "cell_type": "code",
   "execution_count": null,
   "id": "6e13232c",
   "metadata": {
    "scrolled": false
   },
   "outputs": [
    {
     "name": "stderr",
     "output_type": "stream",
     "text": [
      "                                                                                \r"
     ]
    },
    {
     "name": "stdout",
     "output_type": "stream",
     "text": [
      "-------------------------------------------\n",
      "Batch: 0\n",
      "-------------------------------------------\n",
      "+------------------------------------------+---------+-----+\n",
      "|window                                    |hashtag  |count|\n",
      "+------------------------------------------+---------+-----+\n",
      "|{2021-10-08 22:00:00, 2021-10-08 23:00:00}|غفارس    |67   |\n",
      "|{2021-10-08 22:00:00, 2021-10-08 23:00:00}|نظرسنجی  |67   |\n",
      "|{2021-10-08 22:00:00, 2021-10-08 23:00:00}|شگویا    |67   |\n",
      "|{2021-10-08 22:00:00, 2021-10-08 23:00:00}|پالایش   |67   |\n",
      "|{2021-10-08 22:00:00, 2021-10-08 23:00:00}|وبملت    |67   |\n",
      "|{2021-10-08 22:00:00, 2021-10-08 23:00:00}|میدکو    |67   |\n",
      "|{2021-10-08 22:00:00, 2021-10-08 23:00:00}|شاخص_بورس|67   |\n",
      "|{2021-10-08 22:00:00, 2021-10-08 23:00:00}|فافق     |67   |\n",
      "|{2021-10-08 22:00:00, 2021-10-08 23:00:00}|خودرو    |67   |\n",
      "|{2021-10-08 22:00:00, 2021-10-08 23:00:00}|غصینو    |67   |\n",
      "|{2021-10-08 21:30:00, 2021-10-08 22:30:00}|غفارس    |232  |\n",
      "|{2021-10-08 21:30:00, 2021-10-08 22:30:00}|شاخص_بورس|232  |\n",
      "|{2021-10-08 21:30:00, 2021-10-08 22:30:00}|تپمپی    |165  |\n",
      "|{2021-10-08 21:30:00, 2021-10-08 22:30:00}|وسپهر    |165  |\n",
      "|{2021-10-08 21:30:00, 2021-10-08 22:30:00}|سبجنو    |165  |\n",
      "|{2021-10-08 21:30:00, 2021-10-08 22:30:00}|لخانه    |165  |\n",
      "|{2021-10-08 21:30:00, 2021-10-08 22:30:00}|خگستر    |165  |\n",
      "|{2021-10-08 21:30:00, 2021-10-08 22:30:00}|شگویا    |67   |\n",
      "|{2021-10-08 21:30:00, 2021-10-08 22:30:00}|وبملت    |67   |\n",
      "|{2021-10-08 21:30:00, 2021-10-08 22:30:00}|نظرسنجی  |67   |\n",
      "+------------------------------------------+---------+-----+\n",
      "only showing top 20 rows\n",
      "\n"
     ]
    },
    {
     "name": "stderr",
     "output_type": "stream",
     "text": [
      "                                                                                \r"
     ]
    },
    {
     "name": "stdout",
     "output_type": "stream",
     "text": [
      "-------------------------------------------\n",
      "Batch: 1\n",
      "-------------------------------------------\n",
      "+------------------------------------------+---------+-----+\n",
      "|window                                    |hashtag  |count|\n",
      "+------------------------------------------+---------+-----+\n",
      "|{2021-10-08 22:00:00, 2021-10-08 23:00:00}|غفارس    |84   |\n",
      "|{2021-10-08 22:00:00, 2021-10-08 23:00:00}|نظرسنجی  |84   |\n",
      "|{2021-10-08 22:00:00, 2021-10-08 23:00:00}|شگویا    |84   |\n",
      "|{2021-10-08 22:00:00, 2021-10-08 23:00:00}|پالایش   |84   |\n",
      "|{2021-10-08 22:00:00, 2021-10-08 23:00:00}|وبملت    |84   |\n",
      "|{2021-10-08 22:00:00, 2021-10-08 23:00:00}|میدکو    |84   |\n",
      "|{2021-10-08 22:00:00, 2021-10-08 23:00:00}|شاخص_بورس|84   |\n",
      "|{2021-10-08 22:00:00, 2021-10-08 23:00:00}|فافق     |84   |\n",
      "|{2021-10-08 22:00:00, 2021-10-08 23:00:00}|خودرو    |84   |\n",
      "|{2021-10-08 22:00:00, 2021-10-08 23:00:00}|غصینو    |84   |\n",
      "|{2021-10-08 21:30:00, 2021-10-08 22:30:00}|غفارس    |249  |\n",
      "|{2021-10-08 21:30:00, 2021-10-08 22:30:00}|شاخص_بورس|249  |\n",
      "|{2021-10-08 21:30:00, 2021-10-08 22:30:00}|تپمپی    |165  |\n",
      "|{2021-10-08 21:30:00, 2021-10-08 22:30:00}|وسپهر    |165  |\n",
      "|{2021-10-08 21:30:00, 2021-10-08 22:30:00}|سبجنو    |165  |\n",
      "|{2021-10-08 21:30:00, 2021-10-08 22:30:00}|لخانه    |165  |\n",
      "|{2021-10-08 21:30:00, 2021-10-08 22:30:00}|خگستر    |165  |\n",
      "|{2021-10-08 21:30:00, 2021-10-08 22:30:00}|شگویا    |84   |\n",
      "|{2021-10-08 21:30:00, 2021-10-08 22:30:00}|وبملت    |84   |\n",
      "|{2021-10-08 21:30:00, 2021-10-08 22:30:00}|نظرسنجی  |84   |\n",
      "+------------------------------------------+---------+-----+\n",
      "only showing top 20 rows\n",
      "\n"
     ]
    },
    {
     "name": "stderr",
     "output_type": "stream",
     "text": [
      "[Stage 13:=====================================================>(199 + 1) / 200]\r"
     ]
    },
    {
     "name": "stdout",
     "output_type": "stream",
     "text": [
      "-------------------------------------------\n",
      "Batch: 2\n",
      "-------------------------------------------\n",
      "+------------------------------------------+---------+-----+\n",
      "|window                                    |hashtag  |count|\n",
      "+------------------------------------------+---------+-----+\n",
      "|{2021-10-08 22:00:00, 2021-10-08 23:00:00}|غفارس    |95   |\n",
      "|{2021-10-08 22:00:00, 2021-10-08 23:00:00}|نظرسنجی  |95   |\n",
      "|{2021-10-08 22:00:00, 2021-10-08 23:00:00}|شگویا    |95   |\n",
      "|{2021-10-08 22:00:00, 2021-10-08 23:00:00}|پالایش   |95   |\n",
      "|{2021-10-08 22:00:00, 2021-10-08 23:00:00}|وبملت    |95   |\n",
      "|{2021-10-08 22:00:00, 2021-10-08 23:00:00}|میدکو    |95   |\n",
      "|{2021-10-08 22:00:00, 2021-10-08 23:00:00}|شاخص_بورس|95   |\n",
      "|{2021-10-08 22:00:00, 2021-10-08 23:00:00}|فافق     |95   |\n",
      "|{2021-10-08 22:00:00, 2021-10-08 23:00:00}|خودرو    |95   |\n",
      "|{2021-10-08 22:00:00, 2021-10-08 23:00:00}|غصینو    |95   |\n",
      "|{2021-10-08 21:30:00, 2021-10-08 22:30:00}|غفارس    |260  |\n",
      "|{2021-10-08 21:30:00, 2021-10-08 22:30:00}|شاخص_بورس|260  |\n",
      "|{2021-10-08 21:30:00, 2021-10-08 22:30:00}|تپمپی    |165  |\n",
      "|{2021-10-08 21:30:00, 2021-10-08 22:30:00}|وسپهر    |165  |\n",
      "|{2021-10-08 21:30:00, 2021-10-08 22:30:00}|سبجنو    |165  |\n",
      "|{2021-10-08 21:30:00, 2021-10-08 22:30:00}|لخانه    |165  |\n",
      "|{2021-10-08 21:30:00, 2021-10-08 22:30:00}|خگستر    |165  |\n",
      "|{2021-10-08 21:30:00, 2021-10-08 22:30:00}|شگویا    |95   |\n",
      "|{2021-10-08 21:30:00, 2021-10-08 22:30:00}|وبملت    |95   |\n",
      "|{2021-10-08 21:30:00, 2021-10-08 22:30:00}|نظرسنجی  |95   |\n",
      "+------------------------------------------+---------+-----+\n",
      "only showing top 20 rows\n",
      "\n"
     ]
    },
    {
     "name": "stderr",
     "output_type": "stream",
     "text": [
      "                                                                                \r"
     ]
    },
    {
     "name": "stdout",
     "output_type": "stream",
     "text": [
      "-------------------------------------------\n",
      "Batch: 3\n",
      "-------------------------------------------\n",
      "+------------------------------------------+---------+-----+\n",
      "|window                                    |hashtag  |count|\n",
      "+------------------------------------------+---------+-----+\n",
      "|{2021-10-08 22:00:00, 2021-10-08 23:00:00}|غفارس    |104  |\n",
      "|{2021-10-08 22:00:00, 2021-10-08 23:00:00}|نظرسنجی  |104  |\n",
      "|{2021-10-08 22:00:00, 2021-10-08 23:00:00}|شگویا    |104  |\n",
      "|{2021-10-08 22:00:00, 2021-10-08 23:00:00}|پالایش   |104  |\n",
      "|{2021-10-08 22:00:00, 2021-10-08 23:00:00}|وبملت    |104  |\n",
      "|{2021-10-08 22:00:00, 2021-10-08 23:00:00}|میدکو    |104  |\n",
      "|{2021-10-08 22:00:00, 2021-10-08 23:00:00}|شاخص_بورس|104  |\n",
      "|{2021-10-08 22:00:00, 2021-10-08 23:00:00}|فافق     |104  |\n",
      "|{2021-10-08 22:00:00, 2021-10-08 23:00:00}|خودرو    |104  |\n",
      "|{2021-10-08 22:00:00, 2021-10-08 23:00:00}|غصینو    |104  |\n",
      "|{2021-10-08 21:30:00, 2021-10-08 22:30:00}|غفارس    |269  |\n",
      "|{2021-10-08 21:30:00, 2021-10-08 22:30:00}|شاخص_بورس|269  |\n",
      "|{2021-10-08 21:30:00, 2021-10-08 22:30:00}|تپمپی    |165  |\n",
      "|{2021-10-08 21:30:00, 2021-10-08 22:30:00}|وسپهر    |165  |\n",
      "|{2021-10-08 21:30:00, 2021-10-08 22:30:00}|سبجنو    |165  |\n",
      "|{2021-10-08 21:30:00, 2021-10-08 22:30:00}|لخانه    |165  |\n",
      "|{2021-10-08 21:30:00, 2021-10-08 22:30:00}|خگستر    |165  |\n",
      "|{2021-10-08 21:30:00, 2021-10-08 22:30:00}|شگویا    |104  |\n",
      "|{2021-10-08 21:30:00, 2021-10-08 22:30:00}|وبملت    |104  |\n",
      "|{2021-10-08 21:30:00, 2021-10-08 22:30:00}|نظرسنجی  |104  |\n",
      "+------------------------------------------+---------+-----+\n",
      "only showing top 20 rows\n",
      "\n"
     ]
    },
    {
     "name": "stderr",
     "output_type": "stream",
     "text": [
      "                                                                                \r"
     ]
    },
    {
     "name": "stdout",
     "output_type": "stream",
     "text": [
      "-------------------------------------------\n",
      "Batch: 4\n",
      "-------------------------------------------\n",
      "+------------------------------------------+---------+-----+\n",
      "|window                                    |hashtag  |count|\n",
      "+------------------------------------------+---------+-----+\n",
      "|{2021-10-08 22:00:00, 2021-10-08 23:00:00}|غفارس    |114  |\n",
      "|{2021-10-08 22:00:00, 2021-10-08 23:00:00}|نظرسنجی  |114  |\n",
      "|{2021-10-08 22:00:00, 2021-10-08 23:00:00}|شگویا    |114  |\n",
      "|{2021-10-08 22:00:00, 2021-10-08 23:00:00}|پالایش   |114  |\n",
      "|{2021-10-08 22:00:00, 2021-10-08 23:00:00}|وبملت    |114  |\n",
      "|{2021-10-08 22:00:00, 2021-10-08 23:00:00}|میدکو    |114  |\n",
      "|{2021-10-08 22:00:00, 2021-10-08 23:00:00}|شاخص_بورس|114  |\n",
      "|{2021-10-08 22:00:00, 2021-10-08 23:00:00}|فافق     |114  |\n",
      "|{2021-10-08 22:00:00, 2021-10-08 23:00:00}|خودرو    |114  |\n",
      "|{2021-10-08 22:00:00, 2021-10-08 23:00:00}|غصینو    |114  |\n",
      "|{2021-10-08 21:30:00, 2021-10-08 22:30:00}|غفارس    |279  |\n",
      "|{2021-10-08 21:30:00, 2021-10-08 22:30:00}|شاخص_بورس|279  |\n",
      "|{2021-10-08 21:30:00, 2021-10-08 22:30:00}|تپمپی    |165  |\n",
      "|{2021-10-08 21:30:00, 2021-10-08 22:30:00}|وسپهر    |165  |\n",
      "|{2021-10-08 21:30:00, 2021-10-08 22:30:00}|سبجنو    |165  |\n",
      "|{2021-10-08 21:30:00, 2021-10-08 22:30:00}|لخانه    |165  |\n",
      "|{2021-10-08 21:30:00, 2021-10-08 22:30:00}|خگستر    |165  |\n",
      "|{2021-10-08 21:30:00, 2021-10-08 22:30:00}|شگویا    |114  |\n",
      "|{2021-10-08 21:30:00, 2021-10-08 22:30:00}|وبملت    |114  |\n",
      "|{2021-10-08 21:30:00, 2021-10-08 22:30:00}|نظرسنجی  |114  |\n",
      "+------------------------------------------+---------+-----+\n",
      "only showing top 20 rows\n",
      "\n"
     ]
    },
    {
     "name": "stderr",
     "output_type": "stream",
     "text": [
      "                                                                                \r"
     ]
    },
    {
     "name": "stdout",
     "output_type": "stream",
     "text": [
      "-------------------------------------------\n",
      "Batch: 5\n",
      "-------------------------------------------\n",
      "+------------------------------------------+---------+-----+\n",
      "|window                                    |hashtag  |count|\n",
      "+------------------------------------------+---------+-----+\n",
      "|{2021-10-08 22:00:00, 2021-10-08 23:00:00}|غفارس    |124  |\n",
      "|{2021-10-08 22:00:00, 2021-10-08 23:00:00}|نظرسنجی  |124  |\n",
      "|{2021-10-08 22:00:00, 2021-10-08 23:00:00}|شگویا    |124  |\n",
      "|{2021-10-08 22:00:00, 2021-10-08 23:00:00}|پالایش   |124  |\n",
      "|{2021-10-08 22:00:00, 2021-10-08 23:00:00}|وبملت    |124  |\n",
      "|{2021-10-08 22:00:00, 2021-10-08 23:00:00}|میدکو    |124  |\n",
      "|{2021-10-08 22:00:00, 2021-10-08 23:00:00}|شاخص_بورس|124  |\n",
      "|{2021-10-08 22:00:00, 2021-10-08 23:00:00}|فافق     |124  |\n",
      "|{2021-10-08 22:00:00, 2021-10-08 23:00:00}|خودرو    |124  |\n",
      "|{2021-10-08 22:00:00, 2021-10-08 23:00:00}|غصینو    |124  |\n",
      "|{2021-10-08 21:30:00, 2021-10-08 22:30:00}|غفارس    |289  |\n",
      "|{2021-10-08 21:30:00, 2021-10-08 22:30:00}|شاخص_بورس|289  |\n",
      "|{2021-10-08 21:30:00, 2021-10-08 22:30:00}|تپمپی    |165  |\n",
      "|{2021-10-08 21:30:00, 2021-10-08 22:30:00}|وسپهر    |165  |\n",
      "|{2021-10-08 21:30:00, 2021-10-08 22:30:00}|سبجنو    |165  |\n",
      "|{2021-10-08 21:30:00, 2021-10-08 22:30:00}|لخانه    |165  |\n",
      "|{2021-10-08 21:30:00, 2021-10-08 22:30:00}|خگستر    |165  |\n",
      "|{2021-10-08 21:30:00, 2021-10-08 22:30:00}|شگویا    |124  |\n",
      "|{2021-10-08 21:30:00, 2021-10-08 22:30:00}|وبملت    |124  |\n",
      "|{2021-10-08 21:30:00, 2021-10-08 22:30:00}|نظرسنجی  |124  |\n",
      "+------------------------------------------+---------+-----+\n",
      "only showing top 20 rows\n",
      "\n"
     ]
    },
    {
     "name": "stderr",
     "output_type": "stream",
     "text": [
      "                                                                                \r"
     ]
    },
    {
     "name": "stdout",
     "output_type": "stream",
     "text": [
      "-------------------------------------------\n",
      "Batch: 6\n",
      "-------------------------------------------\n",
      "+------------------------------------------+---------+-----+\n",
      "|window                                    |hashtag  |count|\n",
      "+------------------------------------------+---------+-----+\n",
      "|{2021-10-08 22:00:00, 2021-10-08 23:00:00}|غفارس    |133  |\n",
      "|{2021-10-08 22:00:00, 2021-10-08 23:00:00}|نظرسنجی  |133  |\n",
      "|{2021-10-08 22:00:00, 2021-10-08 23:00:00}|شگویا    |133  |\n",
      "|{2021-10-08 22:00:00, 2021-10-08 23:00:00}|پالایش   |133  |\n",
      "|{2021-10-08 22:00:00, 2021-10-08 23:00:00}|وبملت    |133  |\n",
      "|{2021-10-08 22:00:00, 2021-10-08 23:00:00}|میدکو    |133  |\n",
      "|{2021-10-08 22:00:00, 2021-10-08 23:00:00}|شاخص_بورس|133  |\n",
      "|{2021-10-08 22:00:00, 2021-10-08 23:00:00}|فافق     |133  |\n",
      "|{2021-10-08 22:00:00, 2021-10-08 23:00:00}|خودرو    |133  |\n",
      "|{2021-10-08 22:00:00, 2021-10-08 23:00:00}|غصینو    |133  |\n",
      "|{2021-10-08 21:30:00, 2021-10-08 22:30:00}|غفارس    |298  |\n",
      "|{2021-10-08 21:30:00, 2021-10-08 22:30:00}|شاخص_بورس|298  |\n",
      "|{2021-10-08 21:30:00, 2021-10-08 22:30:00}|تپمپی    |165  |\n",
      "|{2021-10-08 21:30:00, 2021-10-08 22:30:00}|وسپهر    |165  |\n",
      "|{2021-10-08 21:30:00, 2021-10-08 22:30:00}|سبجنو    |165  |\n",
      "|{2021-10-08 21:30:00, 2021-10-08 22:30:00}|لخانه    |165  |\n",
      "|{2021-10-08 21:30:00, 2021-10-08 22:30:00}|خگستر    |165  |\n",
      "|{2021-10-08 21:30:00, 2021-10-08 22:30:00}|شگویا    |133  |\n",
      "|{2021-10-08 21:30:00, 2021-10-08 22:30:00}|وبملت    |133  |\n",
      "|{2021-10-08 21:30:00, 2021-10-08 22:30:00}|نظرسنجی  |133  |\n",
      "+------------------------------------------+---------+-----+\n",
      "only showing top 20 rows\n",
      "\n"
     ]
    },
    {
     "name": "stderr",
     "output_type": "stream",
     "text": [
      "[Stage 38:===================>                                   (71 + 1) / 200]\r"
     ]
    }
   ],
   "source": [
    "# WithWatermark\n",
    "# CheckPoint Location\n",
    "windowedHashtagCounts = tweetsDF.withWatermark(\"persian_timestamp\", \"10 minutes\")\\\n",
    "                                .select(\"persian_timestamp\", explode(\"hashtags\").alias(\"hashtag\")) \\\n",
    "                                .groupBy(\n",
    "                                            window(tweetsDF.persian_timestamp, \n",
    "                                                    \"1 hours\", \n",
    "                                                    \"30 minutes\"),\n",
    "                                            \"hashtag\")\\\n",
    "                                .count()\\\n",
    "                                .filter(col('count')>2) \\\n",
    "                                .orderBy([ col(\"window\").desc(),col(\"count\").desc()])\n",
    "                                     \n",
    "\n",
    "query = windowedHashtagCounts.writeStream\\\n",
    "                              .outputMode(\"complete\")\\\n",
    "                              .format(\"console\")\\\n",
    "                              .option(\"truncate\", \"false\")\\\n",
    "                              .option(\"numRows\",\"20\")\\\n",
    "                              .option(\"checkpointLocation\", \"/opt/spark-apps/checkpoints/Step2_4-Count-Hashtags-Window\")\\\n",
    "                              .start()\\\n",
    "                              .awaitTermination()"
   ]
  },
  {
   "cell_type": "markdown",
   "id": "be70a500",
   "metadata": {},
   "source": [
    "### Submit Sample Spark App in Pyspark Container Bash "
   ]
  },
  {
   "cell_type": "markdown",
   "id": "5fae7c3a",
   "metadata": {},
   "source": [
    "- Go to Pyspark Shell :\n",
    "```bash\n",
    "docker exec -it pyspark bash\n",
    "```\n",
    "- cd /opt/spark-app/\n",
    "- run this command :\n",
    "```bash\n",
    "unset PYSPARK_DRIVER_PYTHON\n",
    "spark-submit --master  spark-master:7077  --packages org.apache.spark:spark-sql-kafka-0-10_2.12:3.1.2 count_hashtags-window.py\n",
    "export PYSPARK_DRIVER_PYTHON=python\n",
    "```"
   ]
  }
 ],
 "metadata": {
  "kernelspec": {
   "display_name": "Python 3 (ipykernel)",
   "language": "python",
   "name": "python3"
  },
  "language_info": {
   "codemirror_mode": {
    "name": "ipython",
    "version": 3
   },
   "file_extension": ".py",
   "mimetype": "text/x-python",
   "name": "python",
   "nbconvert_exporter": "python",
   "pygments_lexer": "ipython3",
   "version": "3.7.3"
  }
 },
 "nbformat": 4,
 "nbformat_minor": 5
}
