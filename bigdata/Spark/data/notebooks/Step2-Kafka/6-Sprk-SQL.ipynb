{
 "cells": [
  {
   "cell_type": "code",
   "execution_count": 5,
   "id": "1770c85c",
   "metadata": {},
   "outputs": [],
   "source": [
    "import sys\n",
    "import time\n",
    "import datetime"
   ]
  },
  {
   "cell_type": "code",
   "execution_count": 6,
   "id": "23f00def",
   "metadata": {},
   "outputs": [],
   "source": [
    "TOPIC_Step2_NAME=\"Sahamyab-Tweets2\"\n",
    "KAFKA_SERVER=\"kafka-broker:29092\""
   ]
  },
  {
   "cell_type": "code",
   "execution_count": 7,
   "id": "55e4c9f0",
   "metadata": {},
   "outputs": [],
   "source": [
    "import os\n",
    "# https://spark.apache.org/docs/latest/structured-streaming-kafka-integration.html\n",
    "\n",
    "# setup arguments\n",
    "os.environ['PYSPARK_SUBMIT_ARGS']='--packages org.apache.spark:spark-sql-kafka-0-10_2.12:3.1.2 pyspark-shell'\n",
    "\n",
    "from pyspark import SparkContext, SparkConf\n",
    "from pyspark.sql import SparkSession\n",
    "from pyspark.sql.functions import *\n",
    "from pyspark.sql.types import *\n",
    "\n",
    "\n",
    "spark = SparkSession.builder \\\n",
    "    .master(\"spark://spark-master:7077\") \\\n",
    "    .appName(\"Step2_6-SQL-Queries\") \\\n",
    "    .config(\"spark.executor.memory\", \"1024mb\") \\\n",
    "    .config(\"spark.executor.cores\",\"1\") \\\n",
    "    .config(\"spark.cores.max\", \"1\") \\\n",
    "    .config(\"spark.sql.session.timeZone\", \"Asia/Tehran\") \\\n",
    "    .getOrCreate()    \n",
    "    \n",
    "    "
   ]
  },
  {
   "cell_type": "code",
   "execution_count": 8,
   "id": "2f62b9fa",
   "metadata": {},
   "outputs": [],
   "source": [
    "spark.sparkContext.setLogLevel(\"ERROR\")\n"
   ]
  },
  {
   "cell_type": "code",
   "execution_count": 9,
   "id": "90f05896",
   "metadata": {},
   "outputs": [],
   "source": [
    "# https://sparkbyexamples.com/spark/spark-sql-structtype-on-dataframe/\n",
    "schema = StructType([StructField(\"id\", StringType(), True),\\\n",
    "                         StructField(\"content\", StringType(), True),\\\n",
    "                         StructField(\"sendTime\", StringType(), True),\\\n",
    "                         StructField(\"sendTimePersian\", StringType(), True),\\\n",
    "                         StructField(\"senderName\", StringType(), True),\\\n",
    "                         StructField(\"senderUsername\", StringType(), True),\\\n",
    "                         StructField(\"type\", StringType(), True),\\\n",
    "                         StructField(\"hashtags\", ArrayType(StringType()), True)\n",
    "                    ])"
   ]
  },
  {
   "cell_type": "code",
   "execution_count": 10,
   "id": "7f193720",
   "metadata": {},
   "outputs": [],
   "source": [
    "df = spark \\\n",
    "  .readStream \\\n",
    "  .format(\"kafka\") \\\n",
    "  .option(\"kafka.bootstrap.servers\", KAFKA_SERVER) \\\n",
    "  .option(\"subscribe\", TOPIC_Step2_NAME) \\\n",
    "  .option(\"startingOffsets\", \"earliest\") \\\n",
    "  .load()"
   ]
  },
  {
   "cell_type": "code",
   "execution_count": 11,
   "id": "53e41ab3",
   "metadata": {},
   "outputs": [],
   "source": [
    "tweetsStringDF = df.selectExpr(\"CAST(key AS STRING)\", \"CAST(value AS STRING)\")\n",
    "\n",
    "tweetsDF = tweetsStringDF.select(from_json(col(\"value\"), schema).alias(\"data\")).select(\"data.*\")\n",
    "tweetsDF = tweetsDF.withColumn(\"timestamp\", unix_timestamp(\"sendTime\", \"yyyy-MM-dd'T'HH:mm:ss'Z'\").cast('timestamp')) \\\n",
    "            .withColumn(\"persian_timestamp\", from_utc_timestamp(\"timestamp\", \"Asia/Tehran\").cast('timestamp')) \\\n",
    "            .withColumn(\"persianYear\", tweetsDF['sendTimePersian'].substr(0, 4)) \\\n",
    "            .withColumn(\"persianMonth\", tweetsDF['sendTimePersian'].substr(6, 2)) \\\n",
    "            .withColumn(\"persianDay\", tweetsDF['sendTimePersian'].substr(9, 2))\n"
   ]
  },
  {
   "cell_type": "code",
   "execution_count": 13,
   "id": "baef6eba",
   "metadata": {},
   "outputs": [],
   "source": [
    "tweetsDF.createOrReplaceTempView(\"Tweets\")\n"
   ]
  },
  {
   "cell_type": "code",
   "execution_count": 10,
   "id": "aa7e09c9",
   "metadata": {},
   "outputs": [
    {
     "name": "stderr",
     "output_type": "stream",
     "text": [
      "                                                                                \r"
     ]
    },
    {
     "name": "stdout",
     "output_type": "stream",
     "text": [
      "-------------------------------------------\n",
      "Batch: 0\n",
      "-------------------------------------------\n",
      "+--------------+----------+-----------+------------+----------+-----+--------+\n",
      "|senderUsername|senderName|persianYear|persianMonth|persianDay|type |Hashtags|\n",
      "+--------------+----------+-----------+------------+----------+-----+--------+\n",
      "|sftt          |نیمه سوم  |1400       |07          |16        |quote|[]      |\n",
      "|sarvarzadeh   |SHS       |1400       |07          |16        |twit |[فملی]  |\n",
      "|hassanferi100 |همای      |1400       |07          |16        |quote|[]      |\n",
      "|mohammad7543  |Mohammad  |1400       |07          |16        |twit |[پالایش]|\n",
      "|arashii       |ARASH     |1400       |07          |16        |twit |[کالا]  |\n",
      "|capitiz       |capitiz   |1400       |07          |16        |twit |[]      |\n",
      "|mir48833      |مازیار    |1400       |07          |16        |twit |[کاما]  |\n",
      "|parhambolet   |صدای بورس |1400       |07          |16        |quote|[دست]   |\n",
      "|rezarfatia    |Reza125   |1400       |07          |16        |quote|[]      |\n",
      "|po0oya        |پویا      |1400       |07          |16        |twit |[زمگسا] |\n",
      "|sftt          |نیمه سوم  |1400       |07          |16        |quote|[]      |\n",
      "|sarvarzadeh   |SHS       |1400       |07          |16        |twit |[فملی]  |\n",
      "|hassanferi100 |همای      |1400       |07          |16        |quote|[]      |\n",
      "|mohammad7543  |Mohammad  |1400       |07          |16        |twit |[پالایش]|\n",
      "|arashii       |ARASH     |1400       |07          |16        |twit |[کالا]  |\n",
      "|capitiz       |capitiz   |1400       |07          |16        |twit |[]      |\n",
      "|mir48833      |مازیار    |1400       |07          |16        |twit |[کاما]  |\n",
      "|parhambolet   |صدای بورس |1400       |07          |16        |quote|[دست]   |\n",
      "|rezarfatia    |Reza125   |1400       |07          |16        |quote|[]      |\n",
      "|po0oya        |پویا      |1400       |07          |16        |twit |[زمگسا] |\n",
      "|sftt          |نیمه سوم  |1400       |07          |16        |quote|[]      |\n",
      "|sarvarzadeh   |SHS       |1400       |07          |16        |twit |[فملی]  |\n",
      "|hassanferi100 |همای      |1400       |07          |16        |quote|[]      |\n",
      "|mohammad7543  |Mohammad  |1400       |07          |16        |twit |[پالایش]|\n",
      "|arashii       |ARASH     |1400       |07          |16        |twit |[کالا]  |\n",
      "|capitiz       |capitiz   |1400       |07          |16        |twit |[]      |\n",
      "|mir48833      |مازیار    |1400       |07          |16        |twit |[کاما]  |\n",
      "|parhambolet   |صدای بورس |1400       |07          |16        |quote|[دست]   |\n",
      "|rezarfatia    |Reza125   |1400       |07          |16        |quote|[]      |\n",
      "|po0oya        |پویا      |1400       |07          |16        |twit |[زمگسا] |\n",
      "+--------------+----------+-----------+------------+----------+-----+--------+\n",
      "only showing top 30 rows\n",
      "\n",
      "-------------------------------------------\n",
      "Batch: 1\n",
      "-------------------------------------------\n",
      "+---------------+---------------+-----------+------------+----------+------+--------+\n",
      "|senderUsername |senderName     |persianYear|persianMonth|persianDay|type  |Hashtags|\n",
      "+---------------+---------------+-----------+------------+----------+------+--------+\n",
      "|mohammad_17799 |محمد باجو      |1400       |07          |16        |twit  |[کنور]  |\n",
      "|agooly         |agooly         |1400       |07          |16        |quote |[شلرد]  |\n",
      "|abo09906       |عباس           |1400       |07          |16        |quote |[]      |\n",
      "|tavakolizade   |مهدی توکلی زاده|1400       |07          |16        |twit  |[زفکا]  |\n",
      "|hm8120775447890|گمنام          |1400       |07          |15        |retwit|[دی]    |\n",
      "|amir2489       |امیر           |1400       |07          |16        |twit  |[غبهار] |\n",
      "|measam313      |MA313          |1400       |07          |16        |twit  |[برکت]  |\n",
      "|alis3394       |محمدعلی صادقی  |1400       |07          |16        |quote |[]      |\n",
      "|matin2930      |اقتصاد فردا    |1400       |07          |16        |twit  |[بترانس]|\n",
      "|abo09906       |عباس           |1400       |07          |16        |quote |[]      |\n",
      "|mohammad_17799 |محمد باجو      |1400       |07          |16        |twit  |[کنور]  |\n",
      "|agooly         |agooly         |1400       |07          |16        |quote |[شلرد]  |\n",
      "|abo09906       |عباس           |1400       |07          |16        |quote |[]      |\n",
      "|tavakolizade   |مهدی توکلی زاده|1400       |07          |16        |twit  |[زفکا]  |\n",
      "|hm8120775447890|گمنام          |1400       |07          |15        |retwit|[دی]    |\n",
      "|amir2489       |امیر           |1400       |07          |16        |twit  |[غبهار] |\n",
      "|measam313      |MA313          |1400       |07          |16        |twit  |[برکت]  |\n",
      "|alis3394       |محمدعلی صادقی  |1400       |07          |16        |quote |[]      |\n",
      "|matin2930      |اقتصاد فردا    |1400       |07          |16        |twit  |[بترانس]|\n",
      "|abo09906       |عباس           |1400       |07          |16        |quote |[]      |\n",
      "+---------------+---------------+-----------+------------+----------+------+--------+\n",
      "\n"
     ]
    },
    {
     "name": "stderr",
     "output_type": "stream",
     "text": [
      "                                                                                \r"
     ]
    },
    {
     "name": "stdout",
     "output_type": "stream",
     "text": [
      "-------------------------------------------\n",
      "Batch: 2\n",
      "-------------------------------------------\n",
      "+--------------+----------+-----------+------------+----------+----+--------+\n",
      "|senderUsername|senderName|persianYear|persianMonth|persianDay|type|Hashtags|\n",
      "+--------------+----------+-----------+------------+----------+----+--------+\n",
      "|mohammad_17799|محمد باجو |1400       |07          |16        |twit|[کنور]  |\n",
      "+--------------+----------+-----------+------------+----------+----+--------+\n",
      "\n",
      "-------------------------------------------\n",
      "Batch: 3\n",
      "-------------------------------------------\n",
      "+---------------+---------------+-----------+------------+----------+------+--------+\n",
      "|senderUsername |senderName     |persianYear|persianMonth|persianDay|type  |Hashtags|\n",
      "+---------------+---------------+-----------+------------+----------+------+--------+\n",
      "|agooly         |agooly         |1400       |07          |16        |quote |[شلرد]  |\n",
      "|abo09906       |عباس           |1400       |07          |16        |quote |[]      |\n",
      "|tavakolizade   |مهدی توکلی زاده|1400       |07          |16        |twit  |[زفکا]  |\n",
      "|hm8120775447890|گمنام          |1400       |07          |15        |retwit|[دی]    |\n",
      "|amir2489       |امیر           |1400       |07          |16        |twit  |[غبهار] |\n",
      "|measam313      |MA313          |1400       |07          |16        |twit  |[برکت]  |\n",
      "|alis3394       |محمدعلی صادقی  |1400       |07          |16        |quote |[]      |\n",
      "|matin2930      |اقتصاد فردا    |1400       |07          |16        |twit  |[بترانس]|\n",
      "|abo09906       |عباس           |1400       |07          |16        |quote |[]      |\n",
      "+---------------+---------------+-----------+------------+----------+------+--------+\n",
      "\n"
     ]
    },
    {
     "name": "stderr",
     "output_type": "stream",
     "text": [
      "\r",
      "[Stage 4:>                                                          (0 + 1) / 1]\r"
     ]
    },
    {
     "name": "stdout",
     "output_type": "stream",
     "text": [
      "-------------------------------------------\n",
      "Batch: 4\n",
      "-------------------------------------------\n"
     ]
    },
    {
     "name": "stderr",
     "output_type": "stream",
     "text": [
      "\r",
      "                                                                                \r"
     ]
    },
    {
     "name": "stdout",
     "output_type": "stream",
     "text": [
      "+--------------+----------+-----------+------------+----------+-----+--------+\n",
      "|senderUsername|senderName|persianYear|persianMonth|persianDay|type |Hashtags|\n",
      "+--------------+----------+-----------+------------+----------+-----+--------+\n",
      "|mohammad_17799|محمد باجو |1400       |07          |16        |twit |[کنور]  |\n",
      "|agooly        |agooly    |1400       |07          |16        |quote|[شلرد]  |\n",
      "+--------------+----------+-----------+------------+----------+-----+--------+\n",
      "\n",
      "-------------------------------------------\n",
      "Batch: 5\n",
      "-------------------------------------------\n",
      "+---------------+---------------+-----------+------------+----------+------+--------+\n",
      "|senderUsername |senderName     |persianYear|persianMonth|persianDay|type  |Hashtags|\n",
      "+---------------+---------------+-----------+------------+----------+------+--------+\n",
      "|abo09906       |عباس           |1400       |07          |16        |quote |[]      |\n",
      "|tavakolizade   |مهدی توکلی زاده|1400       |07          |16        |twit  |[زفکا]  |\n",
      "|hm8120775447890|گمنام          |1400       |07          |15        |retwit|[دی]    |\n",
      "|amir2489       |امیر           |1400       |07          |16        |twit  |[غبهار] |\n",
      "|measam313      |MA313          |1400       |07          |16        |twit  |[برکت]  |\n",
      "|alis3394       |محمدعلی صادقی  |1400       |07          |16        |quote |[]      |\n",
      "|matin2930      |اقتصاد فردا    |1400       |07          |16        |twit  |[بترانس]|\n",
      "|abo09906       |عباس           |1400       |07          |16        |quote |[]      |\n",
      "+---------------+---------------+-----------+------------+----------+------+--------+\n",
      "\n"
     ]
    },
    {
     "name": "stderr",
     "output_type": "stream",
     "text": [
      "                                                                                \r"
     ]
    },
    {
     "name": "stdout",
     "output_type": "stream",
     "text": [
      "-------------------------------------------\n",
      "Batch: 6\n",
      "-------------------------------------------\n",
      "+--------------+----------+-----------+------------+----------+----+--------+\n",
      "|senderUsername|senderName|persianYear|persianMonth|persianDay|type|Hashtags|\n",
      "+--------------+----------+-----------+------------+----------+----+--------+\n",
      "|mohammad_17799|محمد باجو |1400       |07          |16        |twit|[کنور]  |\n",
      "+--------------+----------+-----------+------------+----------+----+--------+\n",
      "\n",
      "-------------------------------------------\n",
      "Batch: 7\n",
      "-------------------------------------------\n",
      "+---------------+---------------+-----------+------------+----------+------+--------+\n",
      "|senderUsername |senderName     |persianYear|persianMonth|persianDay|type  |Hashtags|\n",
      "+---------------+---------------+-----------+------------+----------+------+--------+\n",
      "|agooly         |agooly         |1400       |07          |16        |quote |[شلرد]  |\n",
      "|abo09906       |عباس           |1400       |07          |16        |quote |[]      |\n",
      "|tavakolizade   |مهدی توکلی زاده|1400       |07          |16        |twit  |[زفکا]  |\n",
      "|hm8120775447890|گمنام          |1400       |07          |15        |retwit|[دی]    |\n",
      "|amir2489       |امیر           |1400       |07          |16        |twit  |[غبهار] |\n",
      "|measam313      |MA313          |1400       |07          |16        |twit  |[برکت]  |\n",
      "|alis3394       |محمدعلی صادقی  |1400       |07          |16        |quote |[]      |\n",
      "|matin2930      |اقتصاد فردا    |1400       |07          |16        |twit  |[بترانس]|\n",
      "|abo09906       |عباس           |1400       |07          |16        |quote |[]      |\n",
      "+---------------+---------------+-----------+------------+----------+------+--------+\n",
      "\n"
     ]
    },
    {
     "name": "stderr",
     "output_type": "stream",
     "text": [
      "\r",
      "[Stage 8:>                                                          (0 + 1) / 1]\r",
      "\r",
      "                                                                                \r"
     ]
    },
    {
     "name": "stdout",
     "output_type": "stream",
     "text": [
      "-------------------------------------------\n",
      "Batch: 8\n",
      "-------------------------------------------\n",
      "+--------------+----------+-----------+------------+----------+-----+--------+\n",
      "|senderUsername|senderName|persianYear|persianMonth|persianDay|type |Hashtags|\n",
      "+--------------+----------+-----------+------------+----------+-----+--------+\n",
      "|mohammad_17799|محمد باجو |1400       |07          |16        |twit |[کنور]  |\n",
      "|agooly        |agooly    |1400       |07          |16        |quote|[شلرد]  |\n",
      "+--------------+----------+-----------+------------+----------+-----+--------+\n",
      "\n",
      "-------------------------------------------\n",
      "Batch: 9\n",
      "-------------------------------------------\n",
      "+---------------+---------------+-----------+------------+----------+------+--------+\n",
      "|senderUsername |senderName     |persianYear|persianMonth|persianDay|type  |Hashtags|\n",
      "+---------------+---------------+-----------+------------+----------+------+--------+\n",
      "|abo09906       |عباس           |1400       |07          |16        |quote |[]      |\n",
      "|tavakolizade   |مهدی توکلی زاده|1400       |07          |16        |twit  |[زفکا]  |\n",
      "|hm8120775447890|گمنام          |1400       |07          |15        |retwit|[دی]    |\n",
      "|amir2489       |امیر           |1400       |07          |16        |twit  |[غبهار] |\n",
      "|measam313      |MA313          |1400       |07          |16        |twit  |[برکت]  |\n",
      "|alis3394       |محمدعلی صادقی  |1400       |07          |16        |quote |[]      |\n",
      "|matin2930      |اقتصاد فردا    |1400       |07          |16        |twit  |[بترانس]|\n",
      "|abo09906       |عباس           |1400       |07          |16        |quote |[]      |\n",
      "+---------------+---------------+-----------+------------+----------+------+--------+\n",
      "\n"
     ]
    },
    {
     "name": "stderr",
     "output_type": "stream",
     "text": [
      "\r",
      "[Stage 10:>                                                         (0 + 1) / 1]\r",
      "\r",
      "                                                                                \r"
     ]
    },
    {
     "name": "stdout",
     "output_type": "stream",
     "text": [
      "-------------------------------------------\n",
      "Batch: 10\n",
      "-------------------------------------------\n",
      "+--------------+----------+-----------+------------+----------+----+--------+\n",
      "|senderUsername|senderName|persianYear|persianMonth|persianDay|type|Hashtags|\n",
      "+--------------+----------+-----------+------------+----------+----+--------+\n",
      "|mohammad_17799|محمد باجو |1400       |07          |16        |twit|[کنور]  |\n",
      "+--------------+----------+-----------+------------+----------+----+--------+\n",
      "\n",
      "-------------------------------------------\n",
      "Batch: 11\n",
      "-------------------------------------------\n",
      "+---------------+---------------+-----------+------------+----------+------+--------+\n",
      "|senderUsername |senderName     |persianYear|persianMonth|persianDay|type  |Hashtags|\n",
      "+---------------+---------------+-----------+------------+----------+------+--------+\n",
      "|agooly         |agooly         |1400       |07          |16        |quote |[شلرد]  |\n",
      "|abo09906       |عباس           |1400       |07          |16        |quote |[]      |\n",
      "|tavakolizade   |مهدی توکلی زاده|1400       |07          |16        |twit  |[زفکا]  |\n",
      "|hm8120775447890|گمنام          |1400       |07          |15        |retwit|[دی]    |\n",
      "|amir2489       |امیر           |1400       |07          |16        |twit  |[غبهار] |\n",
      "|measam313      |MA313          |1400       |07          |16        |twit  |[برکت]  |\n",
      "|alis3394       |محمدعلی صادقی  |1400       |07          |16        |quote |[]      |\n",
      "|matin2930      |اقتصاد فردا    |1400       |07          |16        |twit  |[بترانس]|\n",
      "|abo09906       |عباس           |1400       |07          |16        |quote |[]      |\n",
      "+---------------+---------------+-----------+------------+----------+------+--------+\n",
      "\n"
     ]
    },
    {
     "name": "stderr",
     "output_type": "stream",
     "text": [
      "\r",
      "[Stage 12:>                                                         (0 + 1) / 1]\r",
      "\r",
      "                                                                                \r"
     ]
    },
    {
     "name": "stdout",
     "output_type": "stream",
     "text": [
      "-------------------------------------------\n",
      "Batch: 12\n",
      "-------------------------------------------\n",
      "+--------------+----------+-----------+------------+----------+----+--------+\n",
      "|senderUsername|senderName|persianYear|persianMonth|persianDay|type|Hashtags|\n",
      "+--------------+----------+-----------+------------+----------+----+--------+\n",
      "|mohammad_17799|محمد باجو |1400       |07          |16        |twit|[کنور]  |\n",
      "+--------------+----------+-----------+------------+----------+----+--------+\n",
      "\n",
      "-------------------------------------------\n",
      "Batch: 13\n",
      "-------------------------------------------\n",
      "+---------------+---------------+-----------+------------+----------+------+--------+\n",
      "|senderUsername |senderName     |persianYear|persianMonth|persianDay|type  |Hashtags|\n",
      "+---------------+---------------+-----------+------------+----------+------+--------+\n",
      "|agooly         |agooly         |1400       |07          |16        |quote |[شلرد]  |\n",
      "|abo09906       |عباس           |1400       |07          |16        |quote |[]      |\n",
      "|tavakolizade   |مهدی توکلی زاده|1400       |07          |16        |twit  |[زفکا]  |\n",
      "|hm8120775447890|گمنام          |1400       |07          |15        |retwit|[دی]    |\n",
      "|amir2489       |امیر           |1400       |07          |16        |twit  |[غبهار] |\n",
      "|measam313      |MA313          |1400       |07          |16        |twit  |[برکت]  |\n",
      "|alis3394       |محمدعلی صادقی  |1400       |07          |16        |quote |[]      |\n",
      "|matin2930      |اقتصاد فردا    |1400       |07          |16        |twit  |[بترانس]|\n",
      "|abo09906       |عباس           |1400       |07          |16        |quote |[]      |\n",
      "+---------------+---------------+-----------+------------+----------+------+--------+\n",
      "\n",
      "-------------------------------------------\n",
      "Batch: 14\n",
      "-------------------------------------------\n",
      "+--------------+----------+-----------+------------+----------+-----+--------+\n",
      "|senderUsername|senderName|persianYear|persianMonth|persianDay|type |Hashtags|\n",
      "+--------------+----------+-----------+------------+----------+-----+--------+\n",
      "|mohammad_17799|محمد باجو |1400       |07          |16        |twit |[کنور]  |\n",
      "|agooly        |agooly    |1400       |07          |16        |quote|[شلرد]  |\n",
      "+--------------+----------+-----------+------------+----------+-----+--------+\n",
      "\n",
      "-------------------------------------------\n",
      "Batch: 15\n",
      "-------------------------------------------\n",
      "+---------------+---------------+-----------+------------+----------+------+--------+\n",
      "|senderUsername |senderName     |persianYear|persianMonth|persianDay|type  |Hashtags|\n",
      "+---------------+---------------+-----------+------------+----------+------+--------+\n",
      "|abo09906       |عباس           |1400       |07          |16        |quote |[]      |\n",
      "|tavakolizade   |مهدی توکلی زاده|1400       |07          |16        |twit  |[زفکا]  |\n",
      "|hm8120775447890|گمنام          |1400       |07          |15        |retwit|[دی]    |\n",
      "|amir2489       |امیر           |1400       |07          |16        |twit  |[غبهار] |\n",
      "|measam313      |MA313          |1400       |07          |16        |twit  |[برکت]  |\n",
      "|alis3394       |محمدعلی صادقی  |1400       |07          |16        |quote |[]      |\n",
      "|matin2930      |اقتصاد فردا    |1400       |07          |16        |twit  |[بترانس]|\n",
      "|abo09906       |عباس           |1400       |07          |16        |quote |[]      |\n",
      "+---------------+---------------+-----------+------------+----------+------+--------+\n",
      "\n",
      "-------------------------------------------\n",
      "Batch: 16\n",
      "-------------------------------------------\n",
      "+--------------+----------+-----------+------------+----------+----+--------+\n",
      "|senderUsername|senderName|persianYear|persianMonth|persianDay|type|Hashtags|\n",
      "+--------------+----------+-----------+------------+----------+----+--------+\n",
      "|mohammad_17799|محمد باجو |1400       |07          |16        |twit|[کنور]  |\n",
      "+--------------+----------+-----------+------------+----------+----+--------+\n",
      "\n"
     ]
    },
    {
     "name": "stderr",
     "output_type": "stream",
     "text": [
      "\r",
      "[Stage 16:>                                                         (0 + 1) / 1]\r",
      "\r",
      "                                                                                \r"
     ]
    },
    {
     "ename": "KeyboardInterrupt",
     "evalue": "",
     "output_type": "error",
     "traceback": [
      "\u001b[0;31m---------------------------------------------------------------------------\u001b[0m",
      "\u001b[0;31mKeyboardInterrupt\u001b[0m                         Traceback (most recent call last)",
      "\u001b[0;32m/tmp/ipykernel_8862/290032707.py\u001b[0m in \u001b[0;36m<module>\u001b[0;34m\u001b[0m\n\u001b[1;32m     11\u001b[0m                       \u001b[0;34m.\u001b[0m\u001b[0mformat\u001b[0m\u001b[0;34m(\u001b[0m\u001b[0;34m\"console\"\u001b[0m\u001b[0;34m)\u001b[0m\u001b[0;31m\\\u001b[0m\u001b[0;34m\u001b[0m\u001b[0;34m\u001b[0m\u001b[0m\n\u001b[1;32m     12\u001b[0m                       \u001b[0;34m.\u001b[0m\u001b[0moption\u001b[0m\u001b[0;34m(\u001b[0m\u001b[0;34m\"truncate\"\u001b[0m\u001b[0;34m,\u001b[0m \u001b[0;34m\"false\"\u001b[0m\u001b[0;34m)\u001b[0m\u001b[0;31m\\\u001b[0m\u001b[0;34m\u001b[0m\u001b[0;34m\u001b[0m\u001b[0m\n\u001b[0;32m---> 13\u001b[0;31m                       \u001b[0;34m.\u001b[0m\u001b[0moption\u001b[0m\u001b[0;34m(\u001b[0m\u001b[0;34m\"numRows\"\u001b[0m\u001b[0;34m,\u001b[0m \u001b[0;36m30\u001b[0m\u001b[0;34m)\u001b[0m\u001b[0;31m\\\u001b[0m\u001b[0;34m\u001b[0m\u001b[0;34m\u001b[0m\u001b[0m\n\u001b[0m\u001b[1;32m     14\u001b[0m                       \u001b[0;34m.\u001b[0m\u001b[0mstart\u001b[0m\u001b[0;34m(\u001b[0m\u001b[0;34m)\u001b[0m\u001b[0;31m\\\u001b[0m\u001b[0;34m\u001b[0m\u001b[0;34m\u001b[0m\u001b[0m\n\u001b[1;32m     15\u001b[0m                       \u001b[0;34m.\u001b[0m\u001b[0mawaitTermination\u001b[0m\u001b[0;34m(\u001b[0m\u001b[0;34m)\u001b[0m\u001b[0;34m\u001b[0m\u001b[0;34m\u001b[0m\u001b[0m\n",
      "\u001b[0;32m/usr/local/lib/python3.7/dist-packages/pyspark/sql/streaming.py\u001b[0m in \u001b[0;36mawaitTermination\u001b[0;34m(self, timeout)\u001b[0m\n\u001b[1;32m     99\u001b[0m             \u001b[0;32mreturn\u001b[0m \u001b[0mself\u001b[0m\u001b[0;34m.\u001b[0m\u001b[0m_jsq\u001b[0m\u001b[0;34m.\u001b[0m\u001b[0mawaitTermination\u001b[0m\u001b[0;34m(\u001b[0m\u001b[0mint\u001b[0m\u001b[0;34m(\u001b[0m\u001b[0mtimeout\u001b[0m \u001b[0;34m*\u001b[0m \u001b[0;36m1000\u001b[0m\u001b[0;34m)\u001b[0m\u001b[0;34m)\u001b[0m\u001b[0;34m\u001b[0m\u001b[0;34m\u001b[0m\u001b[0m\n\u001b[1;32m    100\u001b[0m         \u001b[0;32melse\u001b[0m\u001b[0;34m:\u001b[0m\u001b[0;34m\u001b[0m\u001b[0;34m\u001b[0m\u001b[0m\n\u001b[0;32m--> 101\u001b[0;31m             \u001b[0;32mreturn\u001b[0m \u001b[0mself\u001b[0m\u001b[0;34m.\u001b[0m\u001b[0m_jsq\u001b[0m\u001b[0;34m.\u001b[0m\u001b[0mawaitTermination\u001b[0m\u001b[0;34m(\u001b[0m\u001b[0;34m)\u001b[0m\u001b[0;34m\u001b[0m\u001b[0;34m\u001b[0m\u001b[0m\n\u001b[0m\u001b[1;32m    102\u001b[0m \u001b[0;34m\u001b[0m\u001b[0m\n\u001b[1;32m    103\u001b[0m     \u001b[0;34m@\u001b[0m\u001b[0mproperty\u001b[0m\u001b[0;34m\u001b[0m\u001b[0;34m\u001b[0m\u001b[0m\n",
      "\u001b[0;32m/usr/local/lib/python3.7/dist-packages/py4j/java_gateway.py\u001b[0m in \u001b[0;36m__call__\u001b[0;34m(self, *args)\u001b[0m\n\u001b[1;32m   1301\u001b[0m             \u001b[0mproto\u001b[0m\u001b[0;34m.\u001b[0m\u001b[0mEND_COMMAND_PART\u001b[0m\u001b[0;34m\u001b[0m\u001b[0;34m\u001b[0m\u001b[0m\n\u001b[1;32m   1302\u001b[0m \u001b[0;34m\u001b[0m\u001b[0m\n\u001b[0;32m-> 1303\u001b[0;31m         \u001b[0manswer\u001b[0m \u001b[0;34m=\u001b[0m \u001b[0mself\u001b[0m\u001b[0;34m.\u001b[0m\u001b[0mgateway_client\u001b[0m\u001b[0;34m.\u001b[0m\u001b[0msend_command\u001b[0m\u001b[0;34m(\u001b[0m\u001b[0mcommand\u001b[0m\u001b[0;34m)\u001b[0m\u001b[0;34m\u001b[0m\u001b[0;34m\u001b[0m\u001b[0m\n\u001b[0m\u001b[1;32m   1304\u001b[0m         return_value = get_return_value(\n\u001b[1;32m   1305\u001b[0m             answer, self.gateway_client, self.target_id, self.name)\n",
      "\u001b[0;32m/usr/local/lib/python3.7/dist-packages/py4j/java_gateway.py\u001b[0m in \u001b[0;36msend_command\u001b[0;34m(self, command, retry, binary)\u001b[0m\n\u001b[1;32m   1031\u001b[0m         \u001b[0mconnection\u001b[0m \u001b[0;34m=\u001b[0m \u001b[0mself\u001b[0m\u001b[0;34m.\u001b[0m\u001b[0m_get_connection\u001b[0m\u001b[0;34m(\u001b[0m\u001b[0;34m)\u001b[0m\u001b[0;34m\u001b[0m\u001b[0;34m\u001b[0m\u001b[0m\n\u001b[1;32m   1032\u001b[0m         \u001b[0;32mtry\u001b[0m\u001b[0;34m:\u001b[0m\u001b[0;34m\u001b[0m\u001b[0;34m\u001b[0m\u001b[0m\n\u001b[0;32m-> 1033\u001b[0;31m             \u001b[0mresponse\u001b[0m \u001b[0;34m=\u001b[0m \u001b[0mconnection\u001b[0m\u001b[0;34m.\u001b[0m\u001b[0msend_command\u001b[0m\u001b[0;34m(\u001b[0m\u001b[0mcommand\u001b[0m\u001b[0;34m)\u001b[0m\u001b[0;34m\u001b[0m\u001b[0;34m\u001b[0m\u001b[0m\n\u001b[0m\u001b[1;32m   1034\u001b[0m             \u001b[0;32mif\u001b[0m \u001b[0mbinary\u001b[0m\u001b[0;34m:\u001b[0m\u001b[0;34m\u001b[0m\u001b[0;34m\u001b[0m\u001b[0m\n\u001b[1;32m   1035\u001b[0m                 \u001b[0;32mreturn\u001b[0m \u001b[0mresponse\u001b[0m\u001b[0;34m,\u001b[0m \u001b[0mself\u001b[0m\u001b[0;34m.\u001b[0m\u001b[0m_create_connection_guard\u001b[0m\u001b[0;34m(\u001b[0m\u001b[0mconnection\u001b[0m\u001b[0;34m)\u001b[0m\u001b[0;34m\u001b[0m\u001b[0;34m\u001b[0m\u001b[0m\n",
      "\u001b[0;32m/usr/local/lib/python3.7/dist-packages/py4j/java_gateway.py\u001b[0m in \u001b[0;36msend_command\u001b[0;34m(self, command)\u001b[0m\n\u001b[1;32m   1198\u001b[0m \u001b[0;34m\u001b[0m\u001b[0m\n\u001b[1;32m   1199\u001b[0m         \u001b[0;32mtry\u001b[0m\u001b[0;34m:\u001b[0m\u001b[0;34m\u001b[0m\u001b[0;34m\u001b[0m\u001b[0m\n\u001b[0;32m-> 1200\u001b[0;31m             \u001b[0manswer\u001b[0m \u001b[0;34m=\u001b[0m \u001b[0msmart_decode\u001b[0m\u001b[0;34m(\u001b[0m\u001b[0mself\u001b[0m\u001b[0;34m.\u001b[0m\u001b[0mstream\u001b[0m\u001b[0;34m.\u001b[0m\u001b[0mreadline\u001b[0m\u001b[0;34m(\u001b[0m\u001b[0;34m)\u001b[0m\u001b[0;34m[\u001b[0m\u001b[0;34m:\u001b[0m\u001b[0;34m-\u001b[0m\u001b[0;36m1\u001b[0m\u001b[0;34m]\u001b[0m\u001b[0;34m)\u001b[0m\u001b[0;34m\u001b[0m\u001b[0;34m\u001b[0m\u001b[0m\n\u001b[0m\u001b[1;32m   1201\u001b[0m             \u001b[0mlogger\u001b[0m\u001b[0;34m.\u001b[0m\u001b[0mdebug\u001b[0m\u001b[0;34m(\u001b[0m\u001b[0;34m\"Answer received: {0}\"\u001b[0m\u001b[0;34m.\u001b[0m\u001b[0mformat\u001b[0m\u001b[0;34m(\u001b[0m\u001b[0manswer\u001b[0m\u001b[0;34m)\u001b[0m\u001b[0;34m)\u001b[0m\u001b[0;34m\u001b[0m\u001b[0;34m\u001b[0m\u001b[0m\n\u001b[1;32m   1202\u001b[0m             \u001b[0;32mif\u001b[0m \u001b[0manswer\u001b[0m\u001b[0;34m.\u001b[0m\u001b[0mstartswith\u001b[0m\u001b[0;34m(\u001b[0m\u001b[0mproto\u001b[0m\u001b[0;34m.\u001b[0m\u001b[0mRETURN_MESSAGE\u001b[0m\u001b[0;34m)\u001b[0m\u001b[0;34m:\u001b[0m\u001b[0;34m\u001b[0m\u001b[0;34m\u001b[0m\u001b[0m\n",
      "\u001b[0;32m/usr/lib/python3.7/socket.py\u001b[0m in \u001b[0;36mreadinto\u001b[0;34m(self, b)\u001b[0m\n\u001b[1;32m    587\u001b[0m         \u001b[0;32mwhile\u001b[0m \u001b[0;32mTrue\u001b[0m\u001b[0;34m:\u001b[0m\u001b[0;34m\u001b[0m\u001b[0;34m\u001b[0m\u001b[0m\n\u001b[1;32m    588\u001b[0m             \u001b[0;32mtry\u001b[0m\u001b[0;34m:\u001b[0m\u001b[0;34m\u001b[0m\u001b[0;34m\u001b[0m\u001b[0m\n\u001b[0;32m--> 589\u001b[0;31m                 \u001b[0;32mreturn\u001b[0m \u001b[0mself\u001b[0m\u001b[0;34m.\u001b[0m\u001b[0m_sock\u001b[0m\u001b[0;34m.\u001b[0m\u001b[0mrecv_into\u001b[0m\u001b[0;34m(\u001b[0m\u001b[0mb\u001b[0m\u001b[0;34m)\u001b[0m\u001b[0;34m\u001b[0m\u001b[0;34m\u001b[0m\u001b[0m\n\u001b[0m\u001b[1;32m    590\u001b[0m             \u001b[0;32mexcept\u001b[0m \u001b[0mtimeout\u001b[0m\u001b[0;34m:\u001b[0m\u001b[0;34m\u001b[0m\u001b[0;34m\u001b[0m\u001b[0m\n\u001b[1;32m    591\u001b[0m                 \u001b[0mself\u001b[0m\u001b[0;34m.\u001b[0m\u001b[0m_timeout_occurred\u001b[0m \u001b[0;34m=\u001b[0m \u001b[0;32mTrue\u001b[0m\u001b[0;34m\u001b[0m\u001b[0;34m\u001b[0m\u001b[0m\n",
      "\u001b[0;31mKeyboardInterrupt\u001b[0m: "
     ]
    }
   ],
   "source": [
    "\n",
    "New_DF = spark.sql(\"SELECT senderUsername, senderName,persianYear, persianMonth, persianDay,type, Hashtags \\\n",
    "                                    FROM Tweets \\\n",
    "                                    WHERE persianYear = '1400'\")\n",
    "\n",
    "\n",
    "# Write out our dataframe to the console\n",
    "query = New_DF.writeStream\\\n",
    "                      .outputMode(\"append\")\\\n",
    "                      .format(\"console\")\\\n",
    "                      .option(\"truncate\", \"false\")\\\n",
    "                      .option(\"numRows\", 30)\\\n",
    "                      .start()\\\n",
    "                      .awaitTermination()"
   ]
  },
  {
   "cell_type": "code",
   "execution_count": null,
   "id": "49c63754",
   "metadata": {},
   "outputs": [],
   "source": [
    "New_DF.stop()"
   ]
  },
  {
   "cell_type": "code",
   "execution_count": null,
   "id": "fa9df043",
   "metadata": {},
   "outputs": [
    {
     "name": "stderr",
     "output_type": "stream",
     "text": [
      "                                                                                \r"
     ]
    },
    {
     "name": "stdout",
     "output_type": "stream",
     "text": [
      "-------------------------------------------\n",
      "Batch: 51\n",
      "-------------------------------------------\n",
      "+--------------+----------+-----------+------------+----------+----+--------+\n",
      "|senderUsername|senderName|persianYear|persianMonth|persianDay|type|Hashtags|\n",
      "+--------------+----------+-----------+------------+----------+----+--------+\n",
      "|mohammad_17799|محمد باجو |1400       |07          |16        |twit|[کنور]  |\n",
      "+--------------+----------+-----------+------------+----------+----+--------+\n",
      "\n"
     ]
    },
    {
     "name": "stderr",
     "output_type": "stream",
     "text": [
      "                                                                                \r"
     ]
    },
    {
     "name": "stdout",
     "output_type": "stream",
     "text": [
      "-------------------------------------------\n",
      "Batch: 52\n",
      "-------------------------------------------\n",
      "+---------------+---------------+-----------+------------+----------+------+--------+\n",
      "|senderUsername |senderName     |persianYear|persianMonth|persianDay|type  |Hashtags|\n",
      "+---------------+---------------+-----------+------------+----------+------+--------+\n",
      "|agooly         |agooly         |1400       |07          |16        |quote |[شلرد]  |\n",
      "|abo09906       |عباس           |1400       |07          |16        |quote |[]      |\n",
      "|tavakolizade   |مهدی توکلی زاده|1400       |07          |16        |twit  |[زفکا]  |\n",
      "|hm8120775447890|گمنام          |1400       |07          |15        |retwit|[دی]    |\n",
      "|amir2489       |امیر           |1400       |07          |16        |twit  |[غبهار] |\n",
      "|measam313      |MA313          |1400       |07          |16        |twit  |[برکت]  |\n",
      "|alis3394       |محمدعلی صادقی  |1400       |07          |16        |quote |[]      |\n",
      "|matin2930      |اقتصاد فردا    |1400       |07          |16        |twit  |[بترانس]|\n",
      "|abo09906       |عباس           |1400       |07          |16        |quote |[]      |\n",
      "+---------------+---------------+-----------+------------+----------+------+--------+\n",
      "\n",
      "-------------------------------------------\n",
      "Batch: 0\n",
      "-------------------------------------------\n",
      "+---------------+-----------------+\n",
      "|senderUsername |UserActivityCount|\n",
      "+---------------+-----------------+\n",
      "|asdiran        |330              |\n",
      "|mohamadr7777   |165              |\n",
      "|ashkan8447     |165              |\n",
      "|meysam112288   |165              |\n",
      "|maar2          |165              |\n",
      "|hfzhoseen64    |165              |\n",
      "|mobinvad9648   |165              |\n",
      "|ghias          |165              |\n",
      "|mirzaei42      |165              |\n",
      "|saedimahdi13510|163              |\n",
      "+---------------+-----------------+\n",
      "only showing top 10 rows\n",
      "\n"
     ]
    },
    {
     "name": "stderr",
     "output_type": "stream",
     "text": [
      "                                                                                \r"
     ]
    },
    {
     "name": "stdout",
     "output_type": "stream",
     "text": [
      "-------------------------------------------\n",
      "Batch: 53\n",
      "-------------------------------------------\n",
      "+--------------+----------+-----------+------------+----------+----+--------+\n",
      "|senderUsername|senderName|persianYear|persianMonth|persianDay|type|Hashtags|\n",
      "+--------------+----------+-----------+------------+----------+----+--------+\n",
      "|mohammad_17799|محمد باجو |1400       |07          |16        |twit|[کنور]  |\n",
      "+--------------+----------+-----------+------------+----------+----+--------+\n",
      "\n"
     ]
    },
    {
     "name": "stderr",
     "output_type": "stream",
     "text": [
      "                                                                                \r"
     ]
    },
    {
     "name": "stdout",
     "output_type": "stream",
     "text": [
      "-------------------------------------------\n",
      "Batch: 54\n",
      "-------------------------------------------\n",
      "+---------------+---------------+-----------+------------+----------+------+--------+\n",
      "|senderUsername |senderName     |persianYear|persianMonth|persianDay|type  |Hashtags|\n",
      "+---------------+---------------+-----------+------------+----------+------+--------+\n",
      "|agooly         |agooly         |1400       |07          |16        |quote |[شلرد]  |\n",
      "|abo09906       |عباس           |1400       |07          |16        |quote |[]      |\n",
      "|tavakolizade   |مهدی توکلی زاده|1400       |07          |16        |twit  |[زفکا]  |\n",
      "|hm8120775447890|گمنام          |1400       |07          |15        |retwit|[دی]    |\n",
      "|amir2489       |امیر           |1400       |07          |16        |twit  |[غبهار] |\n",
      "|measam313      |MA313          |1400       |07          |16        |twit  |[برکت]  |\n",
      "|alis3394       |محمدعلی صادقی  |1400       |07          |16        |quote |[]      |\n",
      "|matin2930      |اقتصاد فردا    |1400       |07          |16        |twit  |[بترانس]|\n",
      "|abo09906       |عباس           |1400       |07          |16        |quote |[]      |\n",
      "+---------------+---------------+-----------+------------+----------+------+--------+\n",
      "\n",
      "-------------------------------------------\n",
      "Batch: 1\n",
      "-------------------------------------------\n",
      "+---------------+-----------------+\n",
      "|senderUsername |UserActivityCount|\n",
      "+---------------+-----------------+\n",
      "|asdiran        |330              |\n",
      "|mohamadr7777   |165              |\n",
      "|ashkan8447     |165              |\n",
      "|meysam112288   |165              |\n",
      "|maar2          |165              |\n",
      "|hfzhoseen64    |165              |\n",
      "|mobinvad9648   |165              |\n",
      "|ghias          |165              |\n",
      "|mirzaei42      |165              |\n",
      "|saedimahdi13510|163              |\n",
      "+---------------+-----------------+\n",
      "only showing top 10 rows\n",
      "\n"
     ]
    },
    {
     "name": "stderr",
     "output_type": "stream",
     "text": [
      "                                                                                \r"
     ]
    },
    {
     "name": "stdout",
     "output_type": "stream",
     "text": [
      "-------------------------------------------\n",
      "Batch: 55\n",
      "-------------------------------------------\n",
      "+--------------+----------+-----------+------------+----------+----+--------+\n",
      "|senderUsername|senderName|persianYear|persianMonth|persianDay|type|Hashtags|\n",
      "+--------------+----------+-----------+------------+----------+----+--------+\n",
      "|mohammad_17799|محمد باجو |1400       |07          |16        |twit|[کنور]  |\n",
      "+--------------+----------+-----------+------------+----------+----+--------+\n",
      "\n"
     ]
    },
    {
     "name": "stderr",
     "output_type": "stream",
     "text": [
      "                                                                                \r"
     ]
    },
    {
     "name": "stdout",
     "output_type": "stream",
     "text": [
      "-------------------------------------------\n",
      "Batch: 56\n",
      "-------------------------------------------\n",
      "+---------------+---------------+-----------+------------+----------+------+--------+\n",
      "|senderUsername |senderName     |persianYear|persianMonth|persianDay|type  |Hashtags|\n",
      "+---------------+---------------+-----------+------------+----------+------+--------+\n",
      "|agooly         |agooly         |1400       |07          |16        |quote |[شلرد]  |\n",
      "|abo09906       |عباس           |1400       |07          |16        |quote |[]      |\n",
      "|tavakolizade   |مهدی توکلی زاده|1400       |07          |16        |twit  |[زفکا]  |\n",
      "|hm8120775447890|گمنام          |1400       |07          |15        |retwit|[دی]    |\n",
      "|amir2489       |امیر           |1400       |07          |16        |twit  |[غبهار] |\n",
      "|measam313      |MA313          |1400       |07          |16        |twit  |[برکت]  |\n",
      "|alis3394       |محمدعلی صادقی  |1400       |07          |16        |quote |[]      |\n",
      "|matin2930      |اقتصاد فردا    |1400       |07          |16        |twit  |[بترانس]|\n",
      "|abo09906       |عباس           |1400       |07          |16        |quote |[]      |\n",
      "+---------------+---------------+-----------+------------+----------+------+--------+\n",
      "\n",
      "-------------------------------------------\n",
      "Batch: 2\n",
      "-------------------------------------------\n",
      "+---------------+-----------------+\n",
      "|senderUsername |UserActivityCount|\n",
      "+---------------+-----------------+\n",
      "|asdiran        |330              |\n",
      "|mohamadr7777   |165              |\n",
      "|ashkan8447     |165              |\n",
      "|meysam112288   |165              |\n",
      "|maar2          |165              |\n",
      "|hfzhoseen64    |165              |\n",
      "|mobinvad9648   |165              |\n",
      "|ghias          |165              |\n",
      "|mirzaei42      |165              |\n",
      "|saedimahdi13510|163              |\n",
      "+---------------+-----------------+\n",
      "only showing top 10 rows\n",
      "\n"
     ]
    },
    {
     "name": "stderr",
     "output_type": "stream",
     "text": [
      "                                                                                \r"
     ]
    },
    {
     "name": "stdout",
     "output_type": "stream",
     "text": [
      "-------------------------------------------\n",
      "Batch: 57\n",
      "-------------------------------------------\n",
      "+--------------+----------+-----------+------------+----------+-----+--------+\n",
      "|senderUsername|senderName|persianYear|persianMonth|persianDay|type |Hashtags|\n",
      "+--------------+----------+-----------+------------+----------+-----+--------+\n",
      "|mohammad_17799|محمد باجو |1400       |07          |16        |twit |[کنور]  |\n",
      "|agooly        |agooly    |1400       |07          |16        |quote|[شلرد]  |\n",
      "+--------------+----------+-----------+------------+----------+-----+--------+\n",
      "\n"
     ]
    },
    {
     "name": "stderr",
     "output_type": "stream",
     "text": [
      "                                                                                \r"
     ]
    },
    {
     "name": "stdout",
     "output_type": "stream",
     "text": [
      "-------------------------------------------\n",
      "Batch: 58\n",
      "-------------------------------------------\n",
      "+---------------+---------------+-----------+------------+----------+------+--------+\n",
      "|senderUsername |senderName     |persianYear|persianMonth|persianDay|type  |Hashtags|\n",
      "+---------------+---------------+-----------+------------+----------+------+--------+\n",
      "|abo09906       |عباس           |1400       |07          |16        |quote |[]      |\n",
      "|tavakolizade   |مهدی توکلی زاده|1400       |07          |16        |twit  |[زفکا]  |\n",
      "|hm8120775447890|گمنام          |1400       |07          |15        |retwit|[دی]    |\n",
      "|amir2489       |امیر           |1400       |07          |16        |twit  |[غبهار] |\n",
      "|measam313      |MA313          |1400       |07          |16        |twit  |[برکت]  |\n",
      "|alis3394       |محمدعلی صادقی  |1400       |07          |16        |quote |[]      |\n",
      "|matin2930      |اقتصاد فردا    |1400       |07          |16        |twit  |[بترانس]|\n",
      "|abo09906       |عباس           |1400       |07          |16        |quote |[]      |\n",
      "+---------------+---------------+-----------+------------+----------+------+--------+\n",
      "\n",
      "-------------------------------------------\n",
      "Batch: 3\n",
      "-------------------------------------------\n",
      "+---------------+-----------------+\n",
      "|senderUsername |UserActivityCount|\n",
      "+---------------+-----------------+\n",
      "|asdiran        |330              |\n",
      "|mohamadr7777   |165              |\n",
      "|ashkan8447     |165              |\n",
      "|meysam112288   |165              |\n",
      "|maar2          |165              |\n",
      "|hfzhoseen64    |165              |\n",
      "|mobinvad9648   |165              |\n",
      "|ghias          |165              |\n",
      "|mirzaei42      |165              |\n",
      "|saedimahdi13510|163              |\n",
      "+---------------+-----------------+\n",
      "only showing top 10 rows\n",
      "\n"
     ]
    },
    {
     "name": "stderr",
     "output_type": "stream",
     "text": [
      "                                                                                \r"
     ]
    },
    {
     "name": "stdout",
     "output_type": "stream",
     "text": [
      "-------------------------------------------\n",
      "Batch: 59\n",
      "-------------------------------------------\n",
      "+--------------+----------+-----------+------------+----------+----+--------+\n",
      "|senderUsername|senderName|persianYear|persianMonth|persianDay|type|Hashtags|\n",
      "+--------------+----------+-----------+------------+----------+----+--------+\n",
      "|mohammad_17799|محمد باجو |1400       |07          |16        |twit|[کنور]  |\n",
      "+--------------+----------+-----------+------------+----------+----+--------+\n",
      "\n"
     ]
    },
    {
     "name": "stderr",
     "output_type": "stream",
     "text": [
      "                                                                                \r"
     ]
    },
    {
     "name": "stdout",
     "output_type": "stream",
     "text": [
      "-------------------------------------------\n",
      "Batch: 60\n",
      "-------------------------------------------\n",
      "+---------------+---------------+-----------+------------+----------+------+--------+\n",
      "|senderUsername |senderName     |persianYear|persianMonth|persianDay|type  |Hashtags|\n",
      "+---------------+---------------+-----------+------------+----------+------+--------+\n",
      "|agooly         |agooly         |1400       |07          |16        |quote |[شلرد]  |\n",
      "|abo09906       |عباس           |1400       |07          |16        |quote |[]      |\n",
      "|tavakolizade   |مهدی توکلی زاده|1400       |07          |16        |twit  |[زفکا]  |\n",
      "|hm8120775447890|گمنام          |1400       |07          |15        |retwit|[دی]    |\n",
      "|amir2489       |امیر           |1400       |07          |16        |twit  |[غبهار] |\n",
      "|measam313      |MA313          |1400       |07          |16        |twit  |[برکت]  |\n",
      "|alis3394       |محمدعلی صادقی  |1400       |07          |16        |quote |[]      |\n",
      "|matin2930      |اقتصاد فردا    |1400       |07          |16        |twit  |[بترانس]|\n",
      "|abo09906       |عباس           |1400       |07          |16        |quote |[]      |\n",
      "+---------------+---------------+-----------+------------+----------+------+--------+\n",
      "\n",
      "-------------------------------------------\n",
      "Batch: 4\n",
      "-------------------------------------------\n",
      "+---------------+-----------------+\n",
      "|senderUsername |UserActivityCount|\n",
      "+---------------+-----------------+\n",
      "|asdiran        |330              |\n",
      "|mohamadr7777   |165              |\n",
      "|ashkan8447     |165              |\n",
      "|meysam112288   |165              |\n",
      "|maar2          |165              |\n",
      "|hfzhoseen64    |165              |\n",
      "|mobinvad9648   |165              |\n",
      "|ghias          |165              |\n",
      "|mirzaei42      |165              |\n",
      "|saedimahdi13510|163              |\n",
      "+---------------+-----------------+\n",
      "only showing top 10 rows\n",
      "\n"
     ]
    },
    {
     "name": "stderr",
     "output_type": "stream",
     "text": [
      "                                                                                \r"
     ]
    },
    {
     "name": "stdout",
     "output_type": "stream",
     "text": [
      "-------------------------------------------\n",
      "Batch: 61\n",
      "-------------------------------------------\n",
      "+--------------+----------+-----------+------------+----------+----+--------+\n",
      "|senderUsername|senderName|persianYear|persianMonth|persianDay|type|Hashtags|\n",
      "+--------------+----------+-----------+------------+----------+----+--------+\n",
      "|mohammad_17799|محمد باجو |1400       |07          |16        |twit|[کنور]  |\n",
      "+--------------+----------+-----------+------------+----------+----+--------+\n",
      "\n"
     ]
    },
    {
     "name": "stderr",
     "output_type": "stream",
     "text": [
      "                                                                                \r"
     ]
    },
    {
     "name": "stdout",
     "output_type": "stream",
     "text": [
      "-------------------------------------------\n",
      "Batch: 62\n",
      "-------------------------------------------\n",
      "+---------------+---------------+-----------+------------+----------+------+--------+\n",
      "|senderUsername |senderName     |persianYear|persianMonth|persianDay|type  |Hashtags|\n",
      "+---------------+---------------+-----------+------------+----------+------+--------+\n",
      "|agooly         |agooly         |1400       |07          |16        |quote |[شلرد]  |\n",
      "|abo09906       |عباس           |1400       |07          |16        |quote |[]      |\n",
      "|tavakolizade   |مهدی توکلی زاده|1400       |07          |16        |twit  |[زفکا]  |\n",
      "|hm8120775447890|گمنام          |1400       |07          |15        |retwit|[دی]    |\n",
      "|amir2489       |امیر           |1400       |07          |16        |twit  |[غبهار] |\n",
      "|measam313      |MA313          |1400       |07          |16        |twit  |[برکت]  |\n",
      "|alis3394       |محمدعلی صادقی  |1400       |07          |16        |quote |[]      |\n",
      "|matin2930      |اقتصاد فردا    |1400       |07          |16        |twit  |[بترانس]|\n",
      "|abo09906       |عباس           |1400       |07          |16        |quote |[]      |\n",
      "+---------------+---------------+-----------+------------+----------+------+--------+\n",
      "\n",
      "-------------------------------------------\n",
      "Batch: 5\n",
      "-------------------------------------------\n",
      "+---------------+-----------------+\n",
      "|senderUsername |UserActivityCount|\n",
      "+---------------+-----------------+\n",
      "|asdiran        |330              |\n",
      "|mohamadr7777   |165              |\n",
      "|ashkan8447     |165              |\n",
      "|meysam112288   |165              |\n",
      "|maar2          |165              |\n",
      "|hfzhoseen64    |165              |\n",
      "|mobinvad9648   |165              |\n",
      "|ghias          |165              |\n",
      "|mirzaei42      |165              |\n",
      "|saedimahdi13510|163              |\n",
      "+---------------+-----------------+\n",
      "only showing top 10 rows\n",
      "\n"
     ]
    },
    {
     "name": "stderr",
     "output_type": "stream",
     "text": [
      "                                                                                \r"
     ]
    },
    {
     "name": "stdout",
     "output_type": "stream",
     "text": [
      "-------------------------------------------\n",
      "Batch: 63\n",
      "-------------------------------------------\n",
      "+---------------+---------------+-----------+------------+----------+------+--------+\n",
      "|senderUsername |senderName     |persianYear|persianMonth|persianDay|type  |Hashtags|\n",
      "+---------------+---------------+-----------+------------+----------+------+--------+\n",
      "|mohammad_17799 |محمد باجو      |1400       |07          |16        |twit  |[کنور]  |\n",
      "|agooly         |agooly         |1400       |07          |16        |quote |[شلرد]  |\n",
      "|abo09906       |عباس           |1400       |07          |16        |quote |[]      |\n",
      "|tavakolizade   |مهدی توکلی زاده|1400       |07          |16        |twit  |[زفکا]  |\n",
      "|hm8120775447890|گمنام          |1400       |07          |15        |retwit|[دی]    |\n",
      "|amir2489       |امیر           |1400       |07          |16        |twit  |[غبهار] |\n",
      "|measam313      |MA313          |1400       |07          |16        |twit  |[برکت]  |\n",
      "|alis3394       |محمدعلی صادقی  |1400       |07          |16        |quote |[]      |\n",
      "|matin2930      |اقتصاد فردا    |1400       |07          |16        |twit  |[بترانس]|\n",
      "|abo09906       |عباس           |1400       |07          |16        |quote |[]      |\n",
      "+---------------+---------------+-----------+------------+----------+------+--------+\n",
      "\n"
     ]
    },
    {
     "name": "stderr",
     "output_type": "stream",
     "text": [
      "                                                                                \r"
     ]
    },
    {
     "name": "stdout",
     "output_type": "stream",
     "text": [
      "-------------------------------------------\n",
      "Batch: 6\n",
      "-------------------------------------------\n",
      "+---------------+-----------------+\n",
      "|senderUsername |UserActivityCount|\n",
      "+---------------+-----------------+\n",
      "|asdiran        |330              |\n",
      "|mohamadr7777   |165              |\n",
      "|ashkan8447     |165              |\n",
      "|meysam112288   |165              |\n",
      "|maar2          |165              |\n",
      "|hfzhoseen64    |165              |\n",
      "|mobinvad9648   |165              |\n",
      "|ghias          |165              |\n",
      "|mirzaei42      |165              |\n",
      "|saedimahdi13510|163              |\n",
      "+---------------+-----------------+\n",
      "only showing top 10 rows\n",
      "\n"
     ]
    },
    {
     "name": "stderr",
     "output_type": "stream",
     "text": [
      "                                                                                \r"
     ]
    },
    {
     "name": "stdout",
     "output_type": "stream",
     "text": [
      "-------------------------------------------\n",
      "Batch: 64\n",
      "-------------------------------------------\n",
      "+--------------+----------+-----------+------------+----------+----+--------+\n",
      "|senderUsername|senderName|persianYear|persianMonth|persianDay|type|Hashtags|\n",
      "+--------------+----------+-----------+------------+----------+----+--------+\n",
      "|mohammad_17799|محمد باجو |1400       |07          |16        |twit|[کنور]  |\n",
      "+--------------+----------+-----------+------------+----------+----+--------+\n",
      "\n"
     ]
    },
    {
     "name": "stderr",
     "output_type": "stream",
     "text": [
      "                                                                                \r"
     ]
    },
    {
     "name": "stdout",
     "output_type": "stream",
     "text": [
      "-------------------------------------------\n",
      "Batch: 65\n",
      "-------------------------------------------\n",
      "+---------------+---------------+-----------+------------+----------+------+--------+\n",
      "|senderUsername |senderName     |persianYear|persianMonth|persianDay|type  |Hashtags|\n",
      "+---------------+---------------+-----------+------------+----------+------+--------+\n",
      "|agooly         |agooly         |1400       |07          |16        |quote |[شلرد]  |\n",
      "|abo09906       |عباس           |1400       |07          |16        |quote |[]      |\n",
      "|tavakolizade   |مهدی توکلی زاده|1400       |07          |16        |twit  |[زفکا]  |\n",
      "|hm8120775447890|گمنام          |1400       |07          |15        |retwit|[دی]    |\n",
      "|amir2489       |امیر           |1400       |07          |16        |twit  |[غبهار] |\n",
      "|measam313      |MA313          |1400       |07          |16        |twit  |[برکت]  |\n",
      "|alis3394       |محمدعلی صادقی  |1400       |07          |16        |quote |[]      |\n",
      "|matin2930      |اقتصاد فردا    |1400       |07          |16        |twit  |[بترانس]|\n",
      "|abo09906       |عباس           |1400       |07          |16        |quote |[]      |\n",
      "+---------------+---------------+-----------+------------+----------+------+--------+\n",
      "\n",
      "-------------------------------------------\n",
      "Batch: 7\n",
      "-------------------------------------------\n",
      "+---------------+-----------------+\n",
      "|senderUsername |UserActivityCount|\n",
      "+---------------+-----------------+\n",
      "|asdiran        |330              |\n",
      "|mohamadr7777   |165              |\n",
      "|ashkan8447     |165              |\n",
      "|meysam112288   |165              |\n",
      "|maar2          |165              |\n",
      "|hfzhoseen64    |165              |\n",
      "|mobinvad9648   |165              |\n",
      "|ghias          |165              |\n",
      "|mirzaei42      |165              |\n",
      "|saedimahdi13510|163              |\n",
      "+---------------+-----------------+\n",
      "only showing top 10 rows\n",
      "\n"
     ]
    },
    {
     "name": "stderr",
     "output_type": "stream",
     "text": [
      "                                                                                \r"
     ]
    },
    {
     "name": "stdout",
     "output_type": "stream",
     "text": [
      "-------------------------------------------\n",
      "Batch: 66\n",
      "-------------------------------------------\n",
      "+--------------+----------+-----------+------------+----------+----+--------+\n",
      "|senderUsername|senderName|persianYear|persianMonth|persianDay|type|Hashtags|\n",
      "+--------------+----------+-----------+------------+----------+----+--------+\n",
      "|mohammad_17799|محمد باجو |1400       |07          |16        |twit|[کنور]  |\n",
      "+--------------+----------+-----------+------------+----------+----+--------+\n",
      "\n"
     ]
    },
    {
     "name": "stderr",
     "output_type": "stream",
     "text": [
      "                                                                                \r"
     ]
    },
    {
     "name": "stdout",
     "output_type": "stream",
     "text": [
      "-------------------------------------------\n",
      "Batch: 67\n",
      "-------------------------------------------\n",
      "+---------------+---------------+-----------+------------+----------+------+--------+\n",
      "|senderUsername |senderName     |persianYear|persianMonth|persianDay|type  |Hashtags|\n",
      "+---------------+---------------+-----------+------------+----------+------+--------+\n",
      "|agooly         |agooly         |1400       |07          |16        |quote |[شلرد]  |\n",
      "|abo09906       |عباس           |1400       |07          |16        |quote |[]      |\n",
      "|tavakolizade   |مهدی توکلی زاده|1400       |07          |16        |twit  |[زفکا]  |\n",
      "|hm8120775447890|گمنام          |1400       |07          |15        |retwit|[دی]    |\n",
      "|amir2489       |امیر           |1400       |07          |16        |twit  |[غبهار] |\n",
      "|measam313      |MA313          |1400       |07          |16        |twit  |[برکت]  |\n",
      "|alis3394       |محمدعلی صادقی  |1400       |07          |16        |quote |[]      |\n",
      "|matin2930      |اقتصاد فردا    |1400       |07          |16        |twit  |[بترانس]|\n",
      "|abo09906       |عباس           |1400       |07          |16        |quote |[]      |\n",
      "+---------------+---------------+-----------+------------+----------+------+--------+\n",
      "\n",
      "-------------------------------------------\n",
      "Batch: 8\n",
      "-------------------------------------------\n",
      "+---------------+-----------------+\n",
      "|senderUsername |UserActivityCount|\n",
      "+---------------+-----------------+\n",
      "|asdiran        |330              |\n",
      "|mohamadr7777   |165              |\n",
      "|ashkan8447     |165              |\n",
      "|meysam112288   |165              |\n",
      "|maar2          |165              |\n",
      "|hfzhoseen64    |165              |\n",
      "|mobinvad9648   |165              |\n",
      "|ghias          |165              |\n",
      "|mirzaei42      |165              |\n",
      "|saedimahdi13510|163              |\n",
      "+---------------+-----------------+\n",
      "only showing top 10 rows\n",
      "\n"
     ]
    },
    {
     "name": "stderr",
     "output_type": "stream",
     "text": [
      "                                                                                \r"
     ]
    },
    {
     "name": "stdout",
     "output_type": "stream",
     "text": [
      "-------------------------------------------\n",
      "Batch: 68\n",
      "-------------------------------------------\n",
      "+--------------+----------+-----------+------------+----------+-----+--------+\n",
      "|senderUsername|senderName|persianYear|persianMonth|persianDay|type |Hashtags|\n",
      "+--------------+----------+-----------+------------+----------+-----+--------+\n",
      "|mohammad_17799|محمد باجو |1400       |07          |16        |twit |[کنور]  |\n",
      "|agooly        |agooly    |1400       |07          |16        |quote|[شلرد]  |\n",
      "+--------------+----------+-----------+------------+----------+-----+--------+\n",
      "\n"
     ]
    },
    {
     "name": "stderr",
     "output_type": "stream",
     "text": [
      "                                                                                \r"
     ]
    },
    {
     "name": "stdout",
     "output_type": "stream",
     "text": [
      "-------------------------------------------\n",
      "Batch: 69\n",
      "-------------------------------------------\n",
      "+---------------+---------------+-----------+------------+----------+------+--------+\n",
      "|senderUsername |senderName     |persianYear|persianMonth|persianDay|type  |Hashtags|\n",
      "+---------------+---------------+-----------+------------+----------+------+--------+\n",
      "|abo09906       |عباس           |1400       |07          |16        |quote |[]      |\n",
      "|tavakolizade   |مهدی توکلی زاده|1400       |07          |16        |twit  |[زفکا]  |\n",
      "|hm8120775447890|گمنام          |1400       |07          |15        |retwit|[دی]    |\n",
      "|amir2489       |امیر           |1400       |07          |16        |twit  |[غبهار] |\n",
      "|measam313      |MA313          |1400       |07          |16        |twit  |[برکت]  |\n",
      "|alis3394       |محمدعلی صادقی  |1400       |07          |16        |quote |[]      |\n",
      "|matin2930      |اقتصاد فردا    |1400       |07          |16        |twit  |[بترانس]|\n",
      "|abo09906       |عباس           |1400       |07          |16        |quote |[]      |\n",
      "+---------------+---------------+-----------+------------+----------+------+--------+\n",
      "\n",
      "-------------------------------------------\n",
      "Batch: 9\n",
      "-------------------------------------------\n",
      "+---------------+-----------------+\n",
      "|senderUsername |UserActivityCount|\n",
      "+---------------+-----------------+\n",
      "|asdiran        |330              |\n",
      "|mohamadr7777   |165              |\n",
      "|ashkan8447     |165              |\n",
      "|meysam112288   |165              |\n",
      "|maar2          |165              |\n",
      "|hfzhoseen64    |165              |\n",
      "|mobinvad9648   |165              |\n",
      "|ghias          |165              |\n",
      "|mirzaei42      |165              |\n",
      "|saedimahdi13510|163              |\n",
      "+---------------+-----------------+\n",
      "only showing top 10 rows\n",
      "\n"
     ]
    },
    {
     "name": "stderr",
     "output_type": "stream",
     "text": [
      "                                                                                \r"
     ]
    },
    {
     "name": "stdout",
     "output_type": "stream",
     "text": [
      "-------------------------------------------\n",
      "Batch: 70\n",
      "-------------------------------------------\n",
      "+--------------+----------+-----------+------------+----------+-----+--------+\n",
      "|senderUsername|senderName|persianYear|persianMonth|persianDay|type |Hashtags|\n",
      "+--------------+----------+-----------+------------+----------+-----+--------+\n",
      "|mohammad_17799|محمد باجو |1400       |07          |16        |twit |[کنور]  |\n",
      "|agooly        |agooly    |1400       |07          |16        |quote|[شلرد]  |\n",
      "|abo09906      |عباس      |1400       |07          |16        |quote|[]      |\n",
      "+--------------+----------+-----------+------------+----------+-----+--------+\n",
      "\n"
     ]
    },
    {
     "name": "stderr",
     "output_type": "stream",
     "text": [
      "                                                                                \r"
     ]
    },
    {
     "name": "stdout",
     "output_type": "stream",
     "text": [
      "-------------------------------------------\n",
      "Batch: 71\n",
      "-------------------------------------------\n",
      "+---------------+---------------+-----------+------------+----------+------+--------+\n",
      "|senderUsername |senderName     |persianYear|persianMonth|persianDay|type  |Hashtags|\n",
      "+---------------+---------------+-----------+------------+----------+------+--------+\n",
      "|tavakolizade   |مهدی توکلی زاده|1400       |07          |16        |twit  |[زفکا]  |\n",
      "|hm8120775447890|گمنام          |1400       |07          |15        |retwit|[دی]    |\n",
      "|amir2489       |امیر           |1400       |07          |16        |twit  |[غبهار] |\n",
      "|measam313      |MA313          |1400       |07          |16        |twit  |[برکت]  |\n",
      "|alis3394       |محمدعلی صادقی  |1400       |07          |16        |quote |[]      |\n",
      "|matin2930      |اقتصاد فردا    |1400       |07          |16        |twit  |[بترانس]|\n",
      "|abo09906       |عباس           |1400       |07          |16        |quote |[]      |\n",
      "+---------------+---------------+-----------+------------+----------+------+--------+\n",
      "\n",
      "-------------------------------------------\n",
      "Batch: 10\n",
      "-------------------------------------------\n",
      "+---------------+-----------------+\n",
      "|senderUsername |UserActivityCount|\n",
      "+---------------+-----------------+\n",
      "|asdiran        |330              |\n",
      "|mohamadr7777   |165              |\n",
      "|ashkan8447     |165              |\n",
      "|meysam112288   |165              |\n",
      "|maar2          |165              |\n",
      "|hfzhoseen64    |165              |\n",
      "|mobinvad9648   |165              |\n",
      "|ghias          |165              |\n",
      "|mirzaei42      |165              |\n",
      "|saedimahdi13510|163              |\n",
      "+---------------+-----------------+\n",
      "only showing top 10 rows\n",
      "\n"
     ]
    },
    {
     "name": "stderr",
     "output_type": "stream",
     "text": [
      "                                                                                \r"
     ]
    },
    {
     "name": "stdout",
     "output_type": "stream",
     "text": [
      "-------------------------------------------\n",
      "Batch: 72\n",
      "-------------------------------------------\n",
      "+--------------+----------+-----------+------------+----------+-----+--------+\n",
      "|senderUsername|senderName|persianYear|persianMonth|persianDay|type |Hashtags|\n",
      "+--------------+----------+-----------+------------+----------+-----+--------+\n",
      "|mohammad_17799|محمد باجو |1400       |07          |16        |twit |[کنور]  |\n",
      "|agooly        |agooly    |1400       |07          |16        |quote|[شلرد]  |\n",
      "+--------------+----------+-----------+------------+----------+-----+--------+\n",
      "\n"
     ]
    },
    {
     "name": "stderr",
     "output_type": "stream",
     "text": [
      "[Stage 131:============>(193 + 1) / 200][Stage 133:>                (0 + 0) / 1]\r"
     ]
    },
    {
     "name": "stdout",
     "output_type": "stream",
     "text": [
      "-------------------------------------------\n",
      "Batch: 73\n",
      "-------------------------------------------\n",
      "+---------------+---------------+-----------+------------+----------+------+--------+\n",
      "|senderUsername |senderName     |persianYear|persianMonth|persianDay|type  |Hashtags|\n",
      "+---------------+---------------+-----------+------------+----------+------+--------+\n",
      "|abo09906       |عباس           |1400       |07          |16        |quote |[]      |\n",
      "|tavakolizade   |مهدی توکلی زاده|1400       |07          |16        |twit  |[زفکا]  |\n",
      "|hm8120775447890|گمنام          |1400       |07          |15        |retwit|[دی]    |\n",
      "|amir2489       |امیر           |1400       |07          |16        |twit  |[غبهار] |\n",
      "|measam313      |MA313          |1400       |07          |16        |twit  |[برکت]  |\n",
      "|alis3394       |محمدعلی صادقی  |1400       |07          |16        |quote |[]      |\n",
      "|matin2930      |اقتصاد فردا    |1400       |07          |16        |twit  |[بترانس]|\n",
      "|abo09906       |عباس           |1400       |07          |16        |quote |[]      |\n",
      "+---------------+---------------+-----------+------------+----------+------+--------+\n",
      "\n",
      "-------------------------------------------\n",
      "Batch: 11\n",
      "-------------------------------------------\n",
      "+---------------+-----------------+\n",
      "|senderUsername |UserActivityCount|\n",
      "+---------------+-----------------+\n",
      "|asdiran        |330              |\n",
      "|mohamadr7777   |165              |\n",
      "|ashkan8447     |165              |\n",
      "|meysam112288   |165              |\n",
      "|maar2          |165              |\n",
      "|hfzhoseen64    |165              |\n",
      "|mobinvad9648   |165              |\n",
      "|ghias          |165              |\n",
      "|mirzaei42      |165              |\n",
      "|saedimahdi13510|163              |\n",
      "+---------------+-----------------+\n",
      "only showing top 10 rows\n",
      "\n"
     ]
    },
    {
     "name": "stderr",
     "output_type": "stream",
     "text": [
      "                                                                                \r"
     ]
    },
    {
     "name": "stdout",
     "output_type": "stream",
     "text": [
      "-------------------------------------------\n",
      "Batch: 74\n",
      "-------------------------------------------\n",
      "+--------------+----------+-----------+------------+----------+-----+--------+\n",
      "|senderUsername|senderName|persianYear|persianMonth|persianDay|type |Hashtags|\n",
      "+--------------+----------+-----------+------------+----------+-----+--------+\n",
      "|mohammad_17799|محمد باجو |1400       |07          |16        |twit |[کنور]  |\n",
      "|agooly        |agooly    |1400       |07          |16        |quote|[شلرد]  |\n",
      "+--------------+----------+-----------+------------+----------+-----+--------+\n",
      "\n"
     ]
    },
    {
     "name": "stderr",
     "output_type": "stream",
     "text": [
      "                                                                                \r"
     ]
    },
    {
     "name": "stdout",
     "output_type": "stream",
     "text": [
      "-------------------------------------------\n",
      "Batch: 75\n",
      "-------------------------------------------\n",
      "+---------------+---------------+-----------+------------+----------+------+--------+\n",
      "|senderUsername |senderName     |persianYear|persianMonth|persianDay|type  |Hashtags|\n",
      "+---------------+---------------+-----------+------------+----------+------+--------+\n",
      "|abo09906       |عباس           |1400       |07          |16        |quote |[]      |\n",
      "|tavakolizade   |مهدی توکلی زاده|1400       |07          |16        |twit  |[زفکا]  |\n",
      "|hm8120775447890|گمنام          |1400       |07          |15        |retwit|[دی]    |\n",
      "|amir2489       |امیر           |1400       |07          |16        |twit  |[غبهار] |\n",
      "|measam313      |MA313          |1400       |07          |16        |twit  |[برکت]  |\n",
      "|alis3394       |محمدعلی صادقی  |1400       |07          |16        |quote |[]      |\n",
      "|matin2930      |اقتصاد فردا    |1400       |07          |16        |twit  |[بترانس]|\n",
      "|abo09906       |عباس           |1400       |07          |16        |quote |[]      |\n",
      "+---------------+---------------+-----------+------------+----------+------+--------+\n",
      "\n",
      "-------------------------------------------\n",
      "Batch: 12\n",
      "-------------------------------------------\n",
      "+---------------+-----------------+\n",
      "|senderUsername |UserActivityCount|\n",
      "+---------------+-----------------+\n",
      "|asdiran        |330              |\n",
      "|mohamadr7777   |165              |\n",
      "|ashkan8447     |165              |\n",
      "|meysam112288   |165              |\n",
      "|maar2          |165              |\n",
      "|hfzhoseen64    |165              |\n",
      "|mobinvad9648   |165              |\n",
      "|ghias          |165              |\n",
      "|mirzaei42      |165              |\n",
      "|saedimahdi13510|163              |\n",
      "+---------------+-----------------+\n",
      "only showing top 10 rows\n",
      "\n"
     ]
    },
    {
     "name": "stderr",
     "output_type": "stream",
     "text": [
      "[Stage 142:=============================>                       (111 + 1) / 200]\r"
     ]
    }
   ],
   "source": [
    "User_Activity_DF = spark.sql(\"SELECT senderUsername, count(*) as UserActivityCount \\\n",
    "                    FROM Tweets\\\n",
    "                    WHERE persianYear='1400' \\\n",
    "                    GROUP BY senderUsername\\\n",
    "                    order by UserActivityCount desc \\\n",
    "                \")\n",
    "\n",
    "User_Activity_DF.createOrReplaceTempView(\"UserTweetCounts\")\n",
    "\n",
    "\n",
    "# Write out our dataframe to the console\n",
    "query = User_Activity_DF.writeStream \\\n",
    "                .outputMode(\"complete\")\\\n",
    "                .format(\"console\")\\\n",
    "                .option(\"truncate\", \"false\")\\\n",
    "                .option(\"numRows\", 10)\\\n",
    "                .start()\\\n",
    "                .awaitTermination()"
   ]
  },
  {
   "cell_type": "code",
   "execution_count": null,
   "id": "dfede435",
   "metadata": {},
   "outputs": [
    {
     "name": "stderr",
     "output_type": "stream",
     "text": [
      "[Stage 3:==========================================>            (154 + 1) / 200]\r"
     ]
    }
   ],
   "source": [
    "# tweetsDF.createOrReplaceTempView(\"Tweets\")\n",
    "\n",
    "New_DF = spark.sql(\"SELECT persianYear,persianMonth,persianDay, senderUsername,count(*) as UserActivityCount \\\n",
    "                                    FROM Tweets \\\n",
    "                                    WHERE persianYear = '1400'\\\n",
    "                                    GROUP BY persianYear,persianMonth,persianDay, senderUsername\\\n",
    "                                    ORDER BY persianYear desc,persianMonth desc,persianDay desc,UserActivityCount desc\\\n",
    "                   \")\n",
    "\n",
    "\n",
    "# Write out our dataframe to the console\n",
    "query = New_DF.writeStream\\\n",
    "                      .outputMode(\"complete\")\\\n",
    "                      .format(\"console\")\\\n",
    "                      .option(\"truncate\", \"false\")\\\n",
    "                      .option(\"numRows\", 30)\\\n",
    "                      .start()\\\n",
    "                      .awaitTermination()"
   ]
  },
  {
   "cell_type": "markdown",
   "id": "be70a500",
   "metadata": {},
   "source": [
    "### Submit Sample Spark App in Pyspark Container Bash "
   ]
  },
  {
   "cell_type": "markdown",
   "id": "5fae7c3a",
   "metadata": {},
   "source": [
    "- Go to Pyspark Shell :\n",
    "```bash\n",
    "docker exec -it pyspark bash\n",
    "```\n",
    "- cd /opt/spark-app/\n",
    "- run this command :\n",
    "```bash\n",
    "unset PYSPARK_DRIVER_PYTHON\n",
    "spark-submit --master  spark-master:7077  --packages org.apache.spark:spark-sql-kafka-0-10_2.12:3.1.2 sql_queries.py\n",
    "export PYSPARK_DRIVER_PYTHON=python\n",
    "```"
   ]
  }
 ],
 "metadata": {
  "kernelspec": {
   "display_name": "Python 3 (ipykernel)",
   "language": "python",
   "name": "python3"
  },
  "language_info": {
   "codemirror_mode": {
    "name": "ipython",
    "version": 3
   },
   "file_extension": ".py",
   "mimetype": "text/x-python",
   "name": "python",
   "nbconvert_exporter": "python",
   "pygments_lexer": "ipython3",
   "version": "3.7.3"
  }
 },
 "nbformat": 4,
 "nbformat_minor": 5
}
