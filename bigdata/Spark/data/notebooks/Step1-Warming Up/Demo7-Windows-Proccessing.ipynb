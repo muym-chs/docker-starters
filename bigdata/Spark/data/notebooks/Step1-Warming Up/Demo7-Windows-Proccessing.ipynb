{
 "cells": [
  {
   "cell_type": "code",
   "execution_count": 1,
   "id": "1770c85c",
   "metadata": {},
   "outputs": [],
   "source": [
    "import sys\n",
    "from pyspark.sql import SparkSession\n",
    "from pyspark.sql.functions import *\n",
    "from pyspark.sql.types import *\n",
    "import time\n",
    "import datetime"
   ]
  },
  {
   "cell_type": "code",
   "execution_count": 2,
   "id": "55e4c9f0",
   "metadata": {},
   "outputs": [
    {
     "name": "stderr",
     "output_type": "stream",
     "text": [
      "WARNING: An illegal reflective access operation has occurred\n",
      "WARNING: Illegal reflective access by org.apache.spark.unsafe.Platform (file:/opt/spark/jars/spark-unsafe_2.12-3.1.2.jar) to constructor java.nio.DirectByteBuffer(long,int)\n",
      "WARNING: Please consider reporting this to the maintainers of org.apache.spark.unsafe.Platform\n",
      "WARNING: Use --illegal-access=warn to enable warnings of further illegal reflective access operations\n",
      "WARNING: All illegal access operations will be denied in a future release\n",
      "21/10/06 09:19:32 WARN NativeCodeLoader: Unable to load native-hadoop library for your platform... using builtin-java classes where applicable\n",
      "Using Spark's default log4j profile: org/apache/spark/log4j-defaults.properties\n",
      "Setting default log level to \"WARN\".\n",
      "To adjust logging level use sc.setLogLevel(newLevel). For SparkR, use setLogLevel(newLevel).\n",
      "21/10/06 09:19:37 WARN Utils: Service 'SparkUI' could not bind on port 4040. Attempting port 4041.\n"
     ]
    }
   ],
   "source": [
    "spark = SparkSession.builder \\\n",
    "    .master(\"spark://spark-master:7077\") \\\n",
    "    .appName(\"Step1_7-Windows-Proccessing\") \\\n",
    "    .config(\"spark.executor.memory\", \"500mb\") \\\n",
    "    .config(\"spark.executor.cores\",\"1\") \\\n",
    "    .config(\"spark.cores.max\", \"2\") \\\n",
    "    .getOrCreate()"
   ]
  },
  {
   "cell_type": "code",
   "execution_count": 3,
   "id": "2f62b9fa",
   "metadata": {},
   "outputs": [],
   "source": [
    "spark.sparkContext.setLogLevel(\"ERROR\")\n"
   ]
  },
  {
   "cell_type": "code",
   "execution_count": 4,
   "id": "98907184",
   "metadata": {},
   "outputs": [
    {
     "name": "stdout",
     "output_type": "stream",
     "text": [
      "total 1.4M\r\n",
      "-rwxrwxrwx 1 root root 1.5K Sep 20 18:13 sample.csv\r\n",
      "-rwxrwxrwx 1 root root  68K May 15  2018 xad.csv\r\n",
      "-rwxrwxrwx 1 root root  68K May 15  2018 xae.csv\r\n",
      "-rwxrwxrwx 1 root root  69K May 15  2018 xag.csv\r\n",
      "-rwxrwxrwx 1 root root  68K May 15  2018 xah.csv\r\n",
      "-rwxrwxrwx 1 root root  68K May 15  2018 xai.csv\r\n",
      "-rwxrwxrwx 1 root root  68K May 15  2018 xaj.csv\r\n",
      "-rwxrwxrwx 1 root root  68K May 15  2018 xak.csv\r\n",
      "-rwxrwxrwx 1 root root  68K May 15  2018 xam.csv\r\n",
      "-rwxrwxrwx 1 root root  68K May 15  2018 xao.csv\r\n",
      "-rwxrwxrwx 1 root root  68K May 15  2018 xap.csv\r\n",
      "-rwxrwxrwx 1 root root  68K May 15  2018 xaq.csv\r\n",
      "-rwxrwxrwx 1 root root  68K May 15  2018 xar.csv\r\n",
      "-rwxrwxrwx 1 root root  68K May 15  2018 xas.csv\r\n",
      "-rwxrwxrwx 1 root root  68K May 15  2018 xat.csv\r\n",
      "-rwxrwxrwx 1 root root  68K May 15  2018 xau.csv\r\n",
      "-rwxrwxrwx 1 root root  67K May 15  2018 xav.csv\r\n",
      "-rwxrwxrwx 1 root root  68K May 15  2018 xax.csv\r\n",
      "-rwxr-xr-x 1 root root  69K Oct  6 05:50 xay.csv\r\n",
      "-rwxrwxrwx 1 root root  68K May 15  2018 xaz.csv\r\n",
      "-rwxrwxrwx 1 root root  68K May 15  2018 xbb.csv\r\n"
     ]
    }
   ],
   "source": [
    "! ls -lh /opt/spark-data/datasets/droplocation\n"
   ]
  },
  {
   "cell_type": "code",
   "execution_count": 5,
   "id": "90f05896",
   "metadata": {},
   "outputs": [],
   "source": [
    "schema = StructType([StructField(\"lsoa_code\", StringType(), True),\\\n",
    "                         StructField(\"borough\", StringType(), True),\\\n",
    "                         StructField(\"major_category\", StringType(), True),\\\n",
    "                         StructField(\"minor_category\", StringType(), True),\\\n",
    "                         StructField(\"value\", StringType(), True),\\\n",
    "                         StructField(\"year\", StringType(), True),\\\n",
    "                         StructField(\"month\", StringType(), True)])\n"
   ]
  },
  {
   "cell_type": "code",
   "execution_count": 6,
   "id": "52059ebb",
   "metadata": {},
   "outputs": [],
   "source": [
    "fileStreamDF = spark.readStream\\\n",
    "                               .option(\"header\", \"true\")\\\n",
    "                               .schema(schema)\\\n",
    "                               .option(\"maxFilesPerTrigger\", 2)\\\n",
    "                               .csv(\"/opt/spark-data/datasets/droplocation\")"
   ]
  },
  {
   "cell_type": "code",
   "execution_count": 7,
   "id": "f88a65d6",
   "metadata": {},
   "outputs": [],
   "source": [
    "# The User Defined Function (UDF)\n",
    "# Create a timestamp from the current time and return it\n",
    "def add_timestamp():\n",
    "         ts = time.time()\n",
    "         timestamp = datetime.datetime.fromtimestamp(ts).strftime('%Y-%m-%d %H:%M:%S')\n",
    "         return timestamp"
   ]
  },
  {
   "cell_type": "code",
   "execution_count": 8,
   "id": "1362f7a9",
   "metadata": {},
   "outputs": [],
   "source": [
    "# Register the UDF\n",
    "# Set the return type to be a String\n",
    "# A name is assigned to the registered function \n",
    "add_timestamp_udf = udf(add_timestamp, StringType())"
   ]
  },
  {
   "cell_type": "code",
   "execution_count": 9,
   "id": "028b31e0",
   "metadata": {},
   "outputs": [],
   "source": [
    "# Create a new column called \"timestamp\" in fileStreamDF\n",
    "# Apply the UDF to every row in fileStreamDF - assign its return value to timestamp column\n",
    "fileStreamWithTS = fileStreamDF.withColumn(\"timestamp\", add_timestamp_udf())"
   ]
  },
  {
   "cell_type": "code",
   "execution_count": 10,
   "id": "6a89584d",
   "metadata": {},
   "outputs": [
    {
     "name": "stderr",
     "output_type": "stream",
     "text": [
      "                                                                                \r"
     ]
    },
    {
     "name": "stdout",
     "output_type": "stream",
     "text": [
      "-------------------------------------------\n",
      "Batch: 0\n",
      "-------------------------------------------\n",
      "+------------------------------------------+-----------+\n",
      "|window                                    |convictions|\n",
      "+------------------------------------------+-----------+\n",
      "|{2021-10-06 09:15:00, 2021-10-06 09:25:00}|899.0      |\n",
      "|{2021-10-06 09:20:00, 2021-10-06 09:30:00}|899.0      |\n",
      "+------------------------------------------+-----------+\n",
      "\n"
     ]
    },
    {
     "name": "stderr",
     "output_type": "stream",
     "text": [
      "                                                                                \r"
     ]
    },
    {
     "name": "stdout",
     "output_type": "stream",
     "text": [
      "-------------------------------------------\n",
      "Batch: 1\n",
      "-------------------------------------------\n",
      "+------------------------------------------+-----------+\n",
      "|window                                    |convictions|\n",
      "+------------------------------------------+-----------+\n",
      "|{2021-10-06 09:20:00, 2021-10-06 09:30:00}|1925.0     |\n",
      "|{2021-10-06 09:15:00, 2021-10-06 09:25:00}|1925.0     |\n",
      "+------------------------------------------+-----------+\n",
      "\n"
     ]
    },
    {
     "name": "stderr",
     "output_type": "stream",
     "text": [
      "                                                                                \r"
     ]
    },
    {
     "name": "stdout",
     "output_type": "stream",
     "text": [
      "-------------------------------------------\n",
      "Batch: 2\n",
      "-------------------------------------------\n",
      "+------------------------------------------+-----------+\n",
      "|window                                    |convictions|\n",
      "+------------------------------------------+-----------+\n",
      "|{2021-10-06 09:20:00, 2021-10-06 09:30:00}|2984.0     |\n",
      "|{2021-10-06 09:15:00, 2021-10-06 09:25:00}|2984.0     |\n",
      "+------------------------------------------+-----------+\n",
      "\n"
     ]
    },
    {
     "name": "stderr",
     "output_type": "stream",
     "text": [
      "                                                                                \r"
     ]
    },
    {
     "name": "stdout",
     "output_type": "stream",
     "text": [
      "-------------------------------------------\n",
      "Batch: 3\n",
      "-------------------------------------------\n",
      "+------------------------------------------+-----------+\n",
      "|window                                    |convictions|\n",
      "+------------------------------------------+-----------+\n",
      "|{2021-10-06 09:15:00, 2021-10-06 09:25:00}|3942.0     |\n",
      "|{2021-10-06 09:20:00, 2021-10-06 09:30:00}|3942.0     |\n",
      "+------------------------------------------+-----------+\n",
      "\n"
     ]
    },
    {
     "name": "stderr",
     "output_type": "stream",
     "text": [
      "                                                                                \r"
     ]
    },
    {
     "name": "stdout",
     "output_type": "stream",
     "text": [
      "-------------------------------------------\n",
      "Batch: 4\n",
      "-------------------------------------------\n",
      "+------------------------------------------+-----------+\n",
      "|window                                    |convictions|\n",
      "+------------------------------------------+-----------+\n",
      "|{2021-10-06 09:15:00, 2021-10-06 09:25:00}|4985.0     |\n",
      "|{2021-10-06 09:20:00, 2021-10-06 09:30:00}|4985.0     |\n",
      "+------------------------------------------+-----------+\n",
      "\n"
     ]
    },
    {
     "name": "stderr",
     "output_type": "stream",
     "text": [
      "                                                                                \r"
     ]
    },
    {
     "name": "stdout",
     "output_type": "stream",
     "text": [
      "-------------------------------------------\n",
      "Batch: 5\n",
      "-------------------------------------------\n",
      "+------------------------------------------+-----------+\n",
      "|window                                    |convictions|\n",
      "+------------------------------------------+-----------+\n",
      "|{2021-10-06 09:15:00, 2021-10-06 09:25:00}|5890.0     |\n",
      "|{2021-10-06 09:20:00, 2021-10-06 09:30:00}|5890.0     |\n",
      "+------------------------------------------+-----------+\n",
      "\n"
     ]
    },
    {
     "name": "stderr",
     "output_type": "stream",
     "text": [
      "                                                                                \r"
     ]
    },
    {
     "name": "stdout",
     "output_type": "stream",
     "text": [
      "-------------------------------------------\n",
      "Batch: 6\n",
      "-------------------------------------------\n",
      "+------------------------------------------+-----------+\n",
      "|window                                    |convictions|\n",
      "+------------------------------------------+-----------+\n",
      "|{2021-10-06 09:15:00, 2021-10-06 09:25:00}|6969.0     |\n",
      "|{2021-10-06 09:20:00, 2021-10-06 09:30:00}|6969.0     |\n",
      "+------------------------------------------+-----------+\n",
      "\n"
     ]
    },
    {
     "name": "stderr",
     "output_type": "stream",
     "text": [
      "                                                                                \r"
     ]
    },
    {
     "name": "stdout",
     "output_type": "stream",
     "text": [
      "-------------------------------------------\n",
      "Batch: 7\n",
      "-------------------------------------------\n",
      "+------------------------------------------+-----------+\n",
      "|window                                    |convictions|\n",
      "+------------------------------------------+-----------+\n",
      "|{2021-10-06 09:20:00, 2021-10-06 09:30:00}|7931.0     |\n",
      "|{2021-10-06 09:15:00, 2021-10-06 09:25:00}|7931.0     |\n",
      "+------------------------------------------+-----------+\n",
      "\n"
     ]
    },
    {
     "name": "stderr",
     "output_type": "stream",
     "text": [
      "                                                                                \r"
     ]
    },
    {
     "name": "stdout",
     "output_type": "stream",
     "text": [
      "-------------------------------------------\n",
      "Batch: 8\n",
      "-------------------------------------------\n",
      "+------------------------------------------+-----------+\n",
      "|window                                    |convictions|\n",
      "+------------------------------------------+-----------+\n",
      "|{2021-10-06 09:15:00, 2021-10-06 09:25:00}|8790.0     |\n",
      "|{2021-10-06 09:20:00, 2021-10-06 09:30:00}|8790.0     |\n",
      "+------------------------------------------+-----------+\n",
      "\n"
     ]
    },
    {
     "name": "stderr",
     "output_type": "stream",
     "text": [
      "                                                                                \r"
     ]
    },
    {
     "name": "stdout",
     "output_type": "stream",
     "text": [
      "-------------------------------------------\n",
      "Batch: 9\n",
      "-------------------------------------------\n",
      "+------------------------------------------+-----------+\n",
      "|window                                    |convictions|\n",
      "+------------------------------------------+-----------+\n",
      "|{2021-10-06 09:20:00, 2021-10-06 09:30:00}|9306.0     |\n",
      "|{2021-10-06 09:15:00, 2021-10-06 09:25:00}|9306.0     |\n",
      "+------------------------------------------+-----------+\n",
      "\n"
     ]
    },
    {
     "name": "stderr",
     "output_type": "stream",
     "text": [
      "                                                                                \r"
     ]
    },
    {
     "name": "stdout",
     "output_type": "stream",
     "text": [
      "-------------------------------------------\n",
      "Batch: 10\n",
      "-------------------------------------------\n",
      "+------------------------------------------+-----------+\n",
      "|window                                    |convictions|\n",
      "+------------------------------------------+-----------+\n",
      "|{2021-10-06 09:20:00, 2021-10-06 09:30:00}|9837.0     |\n",
      "|{2021-10-06 09:15:00, 2021-10-06 09:25:00}|9837.0     |\n",
      "+------------------------------------------+-----------+\n",
      "\n"
     ]
    },
    {
     "ename": "KeyboardInterrupt",
     "evalue": "",
     "output_type": "error",
     "traceback": [
      "\u001b[0;31m---------------------------------------------------------------------------\u001b[0m",
      "\u001b[0;31mKeyboardInterrupt\u001b[0m                         Traceback (most recent call last)",
      "\u001b[0;32m/tmp/ipykernel_5519/1264419771.py\u001b[0m in \u001b[0;36m<module>\u001b[0;34m\u001b[0m\n\u001b[1;32m     19\u001b[0m                       \u001b[0;34m.\u001b[0m\u001b[0moutputMode\u001b[0m\u001b[0;34m(\u001b[0m\u001b[0;34m\"complete\"\u001b[0m\u001b[0;34m)\u001b[0m\u001b[0;31m\\\u001b[0m\u001b[0;34m\u001b[0m\u001b[0;34m\u001b[0m\u001b[0m\n\u001b[1;32m     20\u001b[0m                       \u001b[0;34m.\u001b[0m\u001b[0mformat\u001b[0m\u001b[0;34m(\u001b[0m\u001b[0;34m\"console\"\u001b[0m\u001b[0;34m)\u001b[0m\u001b[0;31m\\\u001b[0m\u001b[0;34m\u001b[0m\u001b[0;34m\u001b[0m\u001b[0m\n\u001b[0;32m---> 21\u001b[0;31m                       \u001b[0;34m.\u001b[0m\u001b[0moption\u001b[0m\u001b[0;34m(\u001b[0m\u001b[0;34m\"truncate\"\u001b[0m\u001b[0;34m,\u001b[0m\u001b[0;34m\"false\"\u001b[0m\u001b[0;34m)\u001b[0m\u001b[0;31m\\\u001b[0m\u001b[0;34m\u001b[0m\u001b[0;34m\u001b[0m\u001b[0m\n\u001b[0m\u001b[1;32m     22\u001b[0m                       \u001b[0;34m.\u001b[0m\u001b[0mstart\u001b[0m\u001b[0;34m(\u001b[0m\u001b[0;34m)\u001b[0m\u001b[0;31m\\\u001b[0m\u001b[0;34m\u001b[0m\u001b[0;34m\u001b[0m\u001b[0m\n\u001b[1;32m     23\u001b[0m                       \u001b[0;34m.\u001b[0m\u001b[0mawaitTermination\u001b[0m\u001b[0;34m(\u001b[0m\u001b[0;34m)\u001b[0m\u001b[0;34m\u001b[0m\u001b[0;34m\u001b[0m\u001b[0m\n",
      "\u001b[0;32m/usr/local/lib/python3.7/dist-packages/pyspark/sql/streaming.py\u001b[0m in \u001b[0;36mawaitTermination\u001b[0;34m(self, timeout)\u001b[0m\n\u001b[1;32m     99\u001b[0m             \u001b[0;32mreturn\u001b[0m \u001b[0mself\u001b[0m\u001b[0;34m.\u001b[0m\u001b[0m_jsq\u001b[0m\u001b[0;34m.\u001b[0m\u001b[0mawaitTermination\u001b[0m\u001b[0;34m(\u001b[0m\u001b[0mint\u001b[0m\u001b[0;34m(\u001b[0m\u001b[0mtimeout\u001b[0m \u001b[0;34m*\u001b[0m \u001b[0;36m1000\u001b[0m\u001b[0;34m)\u001b[0m\u001b[0;34m)\u001b[0m\u001b[0;34m\u001b[0m\u001b[0;34m\u001b[0m\u001b[0m\n\u001b[1;32m    100\u001b[0m         \u001b[0;32melse\u001b[0m\u001b[0;34m:\u001b[0m\u001b[0;34m\u001b[0m\u001b[0;34m\u001b[0m\u001b[0m\n\u001b[0;32m--> 101\u001b[0;31m             \u001b[0;32mreturn\u001b[0m \u001b[0mself\u001b[0m\u001b[0;34m.\u001b[0m\u001b[0m_jsq\u001b[0m\u001b[0;34m.\u001b[0m\u001b[0mawaitTermination\u001b[0m\u001b[0;34m(\u001b[0m\u001b[0;34m)\u001b[0m\u001b[0;34m\u001b[0m\u001b[0;34m\u001b[0m\u001b[0m\n\u001b[0m\u001b[1;32m    102\u001b[0m \u001b[0;34m\u001b[0m\u001b[0m\n\u001b[1;32m    103\u001b[0m     \u001b[0;34m@\u001b[0m\u001b[0mproperty\u001b[0m\u001b[0;34m\u001b[0m\u001b[0;34m\u001b[0m\u001b[0m\n",
      "\u001b[0;32m/usr/local/lib/python3.7/dist-packages/py4j/java_gateway.py\u001b[0m in \u001b[0;36m__call__\u001b[0;34m(self, *args)\u001b[0m\n\u001b[1;32m   1301\u001b[0m             \u001b[0mproto\u001b[0m\u001b[0;34m.\u001b[0m\u001b[0mEND_COMMAND_PART\u001b[0m\u001b[0;34m\u001b[0m\u001b[0;34m\u001b[0m\u001b[0m\n\u001b[1;32m   1302\u001b[0m \u001b[0;34m\u001b[0m\u001b[0m\n\u001b[0;32m-> 1303\u001b[0;31m         \u001b[0manswer\u001b[0m \u001b[0;34m=\u001b[0m \u001b[0mself\u001b[0m\u001b[0;34m.\u001b[0m\u001b[0mgateway_client\u001b[0m\u001b[0;34m.\u001b[0m\u001b[0msend_command\u001b[0m\u001b[0;34m(\u001b[0m\u001b[0mcommand\u001b[0m\u001b[0;34m)\u001b[0m\u001b[0;34m\u001b[0m\u001b[0;34m\u001b[0m\u001b[0m\n\u001b[0m\u001b[1;32m   1304\u001b[0m         return_value = get_return_value(\n\u001b[1;32m   1305\u001b[0m             answer, self.gateway_client, self.target_id, self.name)\n",
      "\u001b[0;32m/usr/local/lib/python3.7/dist-packages/py4j/java_gateway.py\u001b[0m in \u001b[0;36msend_command\u001b[0;34m(self, command, retry, binary)\u001b[0m\n\u001b[1;32m   1031\u001b[0m         \u001b[0mconnection\u001b[0m \u001b[0;34m=\u001b[0m \u001b[0mself\u001b[0m\u001b[0;34m.\u001b[0m\u001b[0m_get_connection\u001b[0m\u001b[0;34m(\u001b[0m\u001b[0;34m)\u001b[0m\u001b[0;34m\u001b[0m\u001b[0;34m\u001b[0m\u001b[0m\n\u001b[1;32m   1032\u001b[0m         \u001b[0;32mtry\u001b[0m\u001b[0;34m:\u001b[0m\u001b[0;34m\u001b[0m\u001b[0;34m\u001b[0m\u001b[0m\n\u001b[0;32m-> 1033\u001b[0;31m             \u001b[0mresponse\u001b[0m \u001b[0;34m=\u001b[0m \u001b[0mconnection\u001b[0m\u001b[0;34m.\u001b[0m\u001b[0msend_command\u001b[0m\u001b[0;34m(\u001b[0m\u001b[0mcommand\u001b[0m\u001b[0;34m)\u001b[0m\u001b[0;34m\u001b[0m\u001b[0;34m\u001b[0m\u001b[0m\n\u001b[0m\u001b[1;32m   1034\u001b[0m             \u001b[0;32mif\u001b[0m \u001b[0mbinary\u001b[0m\u001b[0;34m:\u001b[0m\u001b[0;34m\u001b[0m\u001b[0;34m\u001b[0m\u001b[0m\n\u001b[1;32m   1035\u001b[0m                 \u001b[0;32mreturn\u001b[0m \u001b[0mresponse\u001b[0m\u001b[0;34m,\u001b[0m \u001b[0mself\u001b[0m\u001b[0;34m.\u001b[0m\u001b[0m_create_connection_guard\u001b[0m\u001b[0;34m(\u001b[0m\u001b[0mconnection\u001b[0m\u001b[0;34m)\u001b[0m\u001b[0;34m\u001b[0m\u001b[0;34m\u001b[0m\u001b[0m\n",
      "\u001b[0;32m/usr/local/lib/python3.7/dist-packages/py4j/java_gateway.py\u001b[0m in \u001b[0;36msend_command\u001b[0;34m(self, command)\u001b[0m\n\u001b[1;32m   1198\u001b[0m \u001b[0;34m\u001b[0m\u001b[0m\n\u001b[1;32m   1199\u001b[0m         \u001b[0;32mtry\u001b[0m\u001b[0;34m:\u001b[0m\u001b[0;34m\u001b[0m\u001b[0;34m\u001b[0m\u001b[0m\n\u001b[0;32m-> 1200\u001b[0;31m             \u001b[0manswer\u001b[0m \u001b[0;34m=\u001b[0m \u001b[0msmart_decode\u001b[0m\u001b[0;34m(\u001b[0m\u001b[0mself\u001b[0m\u001b[0;34m.\u001b[0m\u001b[0mstream\u001b[0m\u001b[0;34m.\u001b[0m\u001b[0mreadline\u001b[0m\u001b[0;34m(\u001b[0m\u001b[0;34m)\u001b[0m\u001b[0;34m[\u001b[0m\u001b[0;34m:\u001b[0m\u001b[0;34m-\u001b[0m\u001b[0;36m1\u001b[0m\u001b[0;34m]\u001b[0m\u001b[0;34m)\u001b[0m\u001b[0;34m\u001b[0m\u001b[0;34m\u001b[0m\u001b[0m\n\u001b[0m\u001b[1;32m   1201\u001b[0m             \u001b[0mlogger\u001b[0m\u001b[0;34m.\u001b[0m\u001b[0mdebug\u001b[0m\u001b[0;34m(\u001b[0m\u001b[0;34m\"Answer received: {0}\"\u001b[0m\u001b[0;34m.\u001b[0m\u001b[0mformat\u001b[0m\u001b[0;34m(\u001b[0m\u001b[0manswer\u001b[0m\u001b[0;34m)\u001b[0m\u001b[0;34m)\u001b[0m\u001b[0;34m\u001b[0m\u001b[0;34m\u001b[0m\u001b[0m\n\u001b[1;32m   1202\u001b[0m             \u001b[0;32mif\u001b[0m \u001b[0manswer\u001b[0m\u001b[0;34m.\u001b[0m\u001b[0mstartswith\u001b[0m\u001b[0;34m(\u001b[0m\u001b[0mproto\u001b[0m\u001b[0;34m.\u001b[0m\u001b[0mRETURN_MESSAGE\u001b[0m\u001b[0;34m)\u001b[0m\u001b[0;34m:\u001b[0m\u001b[0;34m\u001b[0m\u001b[0;34m\u001b[0m\u001b[0m\n",
      "\u001b[0;32m/usr/lib/python3.7/socket.py\u001b[0m in \u001b[0;36mreadinto\u001b[0;34m(self, b)\u001b[0m\n\u001b[1;32m    587\u001b[0m         \u001b[0;32mwhile\u001b[0m \u001b[0;32mTrue\u001b[0m\u001b[0;34m:\u001b[0m\u001b[0;34m\u001b[0m\u001b[0;34m\u001b[0m\u001b[0m\n\u001b[1;32m    588\u001b[0m             \u001b[0;32mtry\u001b[0m\u001b[0;34m:\u001b[0m\u001b[0;34m\u001b[0m\u001b[0;34m\u001b[0m\u001b[0m\n\u001b[0;32m--> 589\u001b[0;31m                 \u001b[0;32mreturn\u001b[0m \u001b[0mself\u001b[0m\u001b[0;34m.\u001b[0m\u001b[0m_sock\u001b[0m\u001b[0;34m.\u001b[0m\u001b[0mrecv_into\u001b[0m\u001b[0;34m(\u001b[0m\u001b[0mb\u001b[0m\u001b[0;34m)\u001b[0m\u001b[0;34m\u001b[0m\u001b[0;34m\u001b[0m\u001b[0m\n\u001b[0m\u001b[1;32m    590\u001b[0m             \u001b[0;32mexcept\u001b[0m \u001b[0mtimeout\u001b[0m\u001b[0;34m:\u001b[0m\u001b[0;34m\u001b[0m\u001b[0;34m\u001b[0m\u001b[0m\n\u001b[1;32m    591\u001b[0m                 \u001b[0mself\u001b[0m\u001b[0;34m.\u001b[0m\u001b[0m_timeout_occurred\u001b[0m \u001b[0;34m=\u001b[0m \u001b[0;32mTrue\u001b[0m\u001b[0;34m\u001b[0m\u001b[0;34m\u001b[0m\u001b[0m\n",
      "\u001b[0;31mKeyboardInterrupt\u001b[0m: "
     ]
    }
   ],
   "source": [
    "\n",
    "# window(timeColumn, windowDuration, slideDuration=None, startTime=None)\n",
    "# timeColumn gives the time field to use when creating a window\n",
    "# windowDuration gives the length of the window\n",
    "# slideDuration is the gap between each window (Windows can overlap)\n",
    "# slideDuration must be <= windowDuration\n",
    "# The #convictions for a particular window will likely increase with each batch of files processed - \n",
    "# this is because more timestamps within that window will be encountered in the new batch\n",
    "windowedCounts = fileStreamWithTS.groupBy(\n",
    "                                    window(fileStreamWithTS.timestamp, \n",
    "                                            \"10 minutes\", \n",
    "                                            \"5 minutes\"))\\\n",
    "                                  .agg({\"value\": \"sum\"})\\\n",
    "                                  .withColumnRenamed(\"sum(value)\", \"convictions\")\\\n",
    "                                  .orderBy('convictions', ascending=False)\n",
    "\n",
    "\n",
    "# Write output to the console\n",
    "query = windowedCounts.writeStream\\\n",
    "                      .outputMode(\"complete\")\\\n",
    "                      .format(\"console\")\\\n",
    "                      .option(\"truncate\",\"false\")\\\n",
    "                      .start()\\\n",
    "                      .awaitTermination()"
   ]
  },
  {
   "cell_type": "code",
   "execution_count": null,
   "id": "4e058c19",
   "metadata": {},
   "outputs": [],
   "source": [
    "# Submit App :\n",
    "# Submit codes/demo2.py \n"
   ]
  },
  {
   "cell_type": "code",
   "execution_count": null,
   "id": "8f09f943",
   "metadata": {},
   "outputs": [],
   "source": [
    "spark.stop()"
   ]
  }
 ],
 "metadata": {
  "kernelspec": {
   "display_name": "Python 3 (ipykernel)",
   "language": "python",
   "name": "python3"
  },
  "language_info": {
   "codemirror_mode": {
    "name": "ipython",
    "version": 3
   },
   "file_extension": ".py",
   "mimetype": "text/x-python",
   "name": "python",
   "nbconvert_exporter": "python",
   "pygments_lexer": "ipython3",
   "version": "3.7.3"
  }
 },
 "nbformat": 4,
 "nbformat_minor": 5
}
