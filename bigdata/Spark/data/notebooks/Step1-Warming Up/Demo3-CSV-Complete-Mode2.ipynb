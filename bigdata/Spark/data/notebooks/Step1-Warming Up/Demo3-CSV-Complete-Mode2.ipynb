{
 "cells": [
  {
   "cell_type": "code",
   "execution_count": 1,
   "id": "1770c85c",
   "metadata": {},
   "outputs": [],
   "source": [
    "import sys\n",
    "from pyspark.sql import SparkSession\n",
    "from pyspark.sql.functions import *\n",
    "from pyspark.sql.types import *"
   ]
  },
  {
   "cell_type": "code",
   "execution_count": 2,
   "id": "55e4c9f0",
   "metadata": {},
   "outputs": [
    {
     "name": "stderr",
     "output_type": "stream",
     "text": [
      "WARNING: An illegal reflective access operation has occurred\n",
      "WARNING: Illegal reflective access by org.apache.spark.unsafe.Platform (file:/opt/spark/jars/spark-unsafe_2.12-3.1.2.jar) to constructor java.nio.DirectByteBuffer(long,int)\n",
      "WARNING: Please consider reporting this to the maintainers of org.apache.spark.unsafe.Platform\n",
      "WARNING: Use --illegal-access=warn to enable warnings of further illegal reflective access operations\n",
      "WARNING: All illegal access operations will be denied in a future release\n",
      "21/10/06 08:13:27 WARN NativeCodeLoader: Unable to load native-hadoop library for your platform... using builtin-java classes where applicable\n",
      "Using Spark's default log4j profile: org/apache/spark/log4j-defaults.properties\n",
      "Setting default log level to \"WARN\".\n",
      "To adjust logging level use sc.setLogLevel(newLevel). For SparkR, use setLogLevel(newLevel).\n"
     ]
    }
   ],
   "source": [
    "spark = SparkSession.builder \\\n",
    "    .master(\"spark://spark-master:7077\") \\\n",
    "    .appName(\"Step1_3-CSV-Complete-Mode\") \\\n",
    "    .config(\"spark.executor.memory\", \"512mb\") \\\n",
    "    .config(\"spark.executor.cores\",\"1\") \\\n",
    "    .config(\"spark.cores.max\", \"1\") \\\n",
    "    .getOrCreate()"
   ]
  },
  {
   "cell_type": "code",
   "execution_count": 3,
   "id": "2f62b9fa",
   "metadata": {},
   "outputs": [],
   "source": [
    "spark.sparkContext.setLogLevel(\"ERROR\")\n"
   ]
  },
  {
   "cell_type": "code",
   "execution_count": 4,
   "id": "98907184",
   "metadata": {},
   "outputs": [
    {
     "name": "stdout",
     "output_type": "stream",
     "text": [
      "total 2.8M\r\n",
      "-rwxrwxrwx 1 root root 1.5K Sep 20 18:13 sample.csv\r\n",
      "-rwxrwxrwx 1 root root  68K May 15  2018 xad.csv\r\n",
      "-rwxrwxrwx 1 root root  68K May 15  2018 xae.csv\r\n",
      "-rwxrwxrwx 1 root root  69K May 15  2018 xag.csv\r\n",
      "-rwxrwxrwx 1 root root  68K May 15  2018 xah.csv\r\n",
      "-rwxrwxrwx 1 root root  68K May 15  2018 xai.csv\r\n",
      "-rwxrwxrwx 1 root root  68K May 15  2018 xaj.csv\r\n",
      "-rwxrwxrwx 1 root root  68K May 15  2018 xak.csv\r\n",
      "-rwxrwxrwx 1 root root  68K May 15  2018 xam.csv\r\n",
      "-rwxrwxrwx 1 root root  68K May 15  2018 xao.csv\r\n",
      "-rwxrwxrwx 1 root root  68K May 15  2018 xap.csv\r\n",
      "-rwxrwxrwx 1 root root  68K May 15  2018 xaq.csv\r\n",
      "-rwxrwxrwx 1 root root  68K May 15  2018 xar.csv\r\n",
      "-rwxrwxrwx 1 root root  68K May 15  2018 xas.csv\r\n",
      "-rwxrwxrwx 1 root root  68K May 15  2018 xat.csv\r\n",
      "-rwxrwxrwx 1 root root  68K May 15  2018 xau.csv\r\n",
      "-rwxrwxrwx 1 root root  67K May 15  2018 xav.csv\r\n",
      "-rwxrwxrwx 1 root root  68K May 15  2018 xax.csv\r\n",
      "-rwxr-xr-x 1 root root  69K Oct  6 05:50 xay.csv\r\n",
      "-rwxrwxrwx 1 root root  68K May 15  2018 xaz.csv\r\n",
      "-rwxrwxrwx 1 root root  68K May 15  2018 xbb.csv\r\n",
      "-rwxrwxrwx 1 root root  68K May 15  2018 xbc.csv\r\n",
      "-rwxrwxrwx 1 root root  68K May 15  2018 xbd.csv\r\n",
      "-rwxrwxrwx 1 root root  68K May 15  2018 xbe.csv\r\n",
      "-rwxrwxrwx 1 root root  68K May 15  2018 xbf.csv\r\n",
      "-rwxrwxrwx 1 root root  68K May 15  2018 xbg.csv\r\n",
      "-rwxrwxrwx 1 root root  68K May 15  2018 xbh.csv\r\n",
      "-rwxrwxrwx 1 root root  68K May 15  2018 xbi.csv\r\n",
      "-rwxrwxrwx 1 root root  68K May 15  2018 xbj.csv\r\n",
      "-rwxrwxrwx 1 root root  68K May 15  2018 xbk.csv\r\n",
      "-rwxrwxrwx 1 root root  68K May 15  2018 xbl.csv\r\n",
      "-rwxrwxrwx 1 root root  68K May 15  2018 xbm.csv\r\n",
      "-rwxrwxrwx 1 root root  68K May 15  2018 xbn.csv\r\n",
      "-rwxrwxrwx 1 root root  68K May 15  2018 xbo.csv\r\n",
      "-rwxrwxrwx 1 root root  68K May 15  2018 xbp.csv\r\n",
      "-rwxrwxrwx 1 root root  68K May 15  2018 xbq.csv\r\n",
      "-rwxrwxrwx 1 root root  68K May 15  2018 xbr.csv\r\n",
      "-rwxrwxrwx 1 root root  68K May 15  2018 xbs.csv\r\n",
      "-rwxrwxrwx 1 root root  68K May 15  2018 xbt.csv\r\n",
      "-rwxrwxrwx 1 root root  68K May 15  2018 xbu.csv\r\n",
      "-rwxrwxrwx 1 root root  69K May 15  2018 xbv.csv\r\n",
      "-rwxrwxrwx 1 root root  68K May 15  2018 xbw.csv\r\n"
     ]
    }
   ],
   "source": [
    "! ls -lh /opt/spark-data/datasets/droplocation\n"
   ]
  },
  {
   "cell_type": "code",
   "execution_count": 5,
   "id": "90f05896",
   "metadata": {},
   "outputs": [],
   "source": [
    "schema = StructType([StructField(\"lsoa_code\", StringType(), True),\\\n",
    "                         StructField(\"borough\", StringType(), True),\\\n",
    "                         StructField(\"major_category\", StringType(), True),\\\n",
    "                         StructField(\"minor_category\", StringType(), True),\\\n",
    "                         StructField(\"value\", StringType(), True),\\\n",
    "                         StructField(\"year\", StringType(), True),\\\n",
    "                         StructField(\"month\", StringType(), True)])\n"
   ]
  },
  {
   "cell_type": "code",
   "execution_count": 6,
   "id": "52059ebb",
   "metadata": {},
   "outputs": [],
   "source": [
    "fileStreamDF = spark.readStream\\\n",
    "                               .option(\"header\", \"true\")\\\n",
    "                               .schema(schema)\\\n",
    "                               .csv(\"/opt/spark-data/datasets/droplocation\")"
   ]
  },
  {
   "cell_type": "code",
   "execution_count": 7,
   "id": "3875d264",
   "metadata": {},
   "outputs": [
    {
     "name": "stdout",
     "output_type": "stream",
     "text": [
      " \n",
      "Is the stream ready?\n",
      "True\n"
     ]
    }
   ],
   "source": [
    "# Check whether input data is streaming or not\n",
    "print(\" \")\n",
    "print(\"Is the stream ready?\")\n",
    "print(fileStreamDF.isStreaming)\n"
   ]
  },
  {
   "cell_type": "code",
   "execution_count": 8,
   "id": "7df8cec3",
   "metadata": {},
   "outputs": [
    {
     "name": "stdout",
     "output_type": "stream",
     "text": [
      " \n",
      "Schema of the input stream: \n",
      "root\n",
      " |-- lsoa_code: string (nullable = true)\n",
      " |-- borough: string (nullable = true)\n",
      " |-- major_category: string (nullable = true)\n",
      " |-- minor_category: string (nullable = true)\n",
      " |-- value: string (nullable = true)\n",
      " |-- year: string (nullable = true)\n",
      " |-- month: string (nullable = true)\n",
      "\n"
     ]
    }
   ],
   "source": [
    "# Print Schema\n",
    "print(\" \")\n",
    "print(\"Schema of the input stream: \")\n",
    "fileStreamDF.printSchema()\n"
   ]
  },
  {
   "cell_type": "code",
   "execution_count": 9,
   "id": "e1cab5d1",
   "metadata": {},
   "outputs": [],
   "source": [
    "    # Create a trimmed version of the input dataframe with specific columns\n",
    "    # We cannot sort a DataFrame unless aggregate is used, so no sorting here\n",
    "    # We group by the borough and count the number of records (NOT number of convictions)\n",
    "    # We have used an aggregation function (orderBy), so can sort the dataframe\n",
    "recordsPerBorough = fileStreamDF.groupBy(\"borough\")\\\n",
    "                             .count()\\\n",
    "                             .orderBy(\"count\", ascending=False)\n"
   ]
  },
  {
   "cell_type": "code",
   "execution_count": 10,
   "id": "e46062e5",
   "metadata": {},
   "outputs": [
    {
     "name": "stderr",
     "output_type": "stream",
     "text": [
      "                                                                                \r"
     ]
    },
    {
     "name": "stdout",
     "output_type": "stream",
     "text": [
      "-------------------------------------------\n",
      "Batch: 0\n",
      "-------------------------------------------\n",
      "+----------------------+-----+\n",
      "|borough               |count|\n",
      "+----------------------+-----+\n",
      "|Croydon               |1829 |\n",
      "|Barnet                |1728 |\n",
      "|Ealing                |1678 |\n",
      "|Enfield               |1596 |\n",
      "|Lambeth               |1584 |\n",
      "|Brent                 |1539 |\n",
      "|Bromley               |1536 |\n",
      "|Southwark             |1514 |\n",
      "|Wandsworth            |1507 |\n",
      "|Lewisham              |1445 |\n",
      "|Newham                |1389 |\n",
      "|Redbridge             |1317 |\n",
      "|Waltham Forest        |1301 |\n",
      "|Greenwich             |1294 |\n",
      "|Hackney               |1292 |\n",
      "|Hillingdon            |1265 |\n",
      "|Havering              |1230 |\n",
      "|Haringey              |1222 |\n",
      "|Tower Hamlets         |1216 |\n",
      "|Camden                |1200 |\n",
      "|Bexley                |1152 |\n",
      "|Westminster           |1143 |\n",
      "|Harrow                |1138 |\n",
      "|Hounslow              |1133 |\n",
      "|Merton                |1107 |\n",
      "|Islington             |1027 |\n",
      "|Barking and Dagenham  |1009 |\n",
      "|Hammersmith and Fulham|1005 |\n",
      "|Sutton                |978  |\n",
      "|Richmond upon Thames  |914  |\n",
      "+----------------------+-----+\n",
      "only showing top 30 rows\n",
      "\n"
     ]
    },
    {
     "name": "stderr",
     "output_type": "stream",
     "text": [
      "                                                                                \r"
     ]
    },
    {
     "name": "stdout",
     "output_type": "stream",
     "text": [
      "-------------------------------------------\n",
      "Batch: 1\n",
      "-------------------------------------------\n",
      "+----------------------+-----+\n",
      "|borough               |count|\n",
      "+----------------------+-----+\n",
      "|Croydon               |1878 |\n",
      "|Barnet                |1771 |\n",
      "|Ealing                |1713 |\n",
      "|Enfield               |1629 |\n",
      "|Lambeth               |1625 |\n",
      "|Bromley               |1576 |\n",
      "|Brent                 |1570 |\n",
      "|Southwark             |1551 |\n",
      "|Wandsworth            |1550 |\n",
      "|Lewisham              |1484 |\n",
      "|Newham                |1429 |\n",
      "|Redbridge             |1349 |\n",
      "|Waltham Forest        |1334 |\n",
      "|Greenwich             |1325 |\n",
      "|Hackney               |1314 |\n",
      "|Hillingdon            |1292 |\n",
      "|Havering              |1270 |\n",
      "|Haringey              |1249 |\n",
      "|Tower Hamlets         |1245 |\n",
      "|Camden                |1227 |\n",
      "|Westminster           |1179 |\n",
      "|Bexley                |1174 |\n",
      "|Harrow                |1166 |\n",
      "|Hounslow              |1155 |\n",
      "|Merton                |1136 |\n",
      "|Islington             |1054 |\n",
      "|Hammersmith and Fulham|1035 |\n",
      "|Barking and Dagenham  |1032 |\n",
      "|Sutton                |1010 |\n",
      "|Richmond upon Thames  |934  |\n",
      "+----------------------+-----+\n",
      "only showing top 30 rows\n",
      "\n"
     ]
    },
    {
     "ename": "KeyboardInterrupt",
     "evalue": "",
     "output_type": "error",
     "traceback": [
      "\u001b[0;31m---------------------------------------------------------------------------\u001b[0m",
      "\u001b[0;31mKeyboardInterrupt\u001b[0m                         Traceback (most recent call last)",
      "\u001b[0;32m/tmp/ipykernel_2852/3566712650.py\u001b[0m in \u001b[0;36m<module>\u001b[0;34m\u001b[0m\n\u001b[1;32m      8\u001b[0m                       \u001b[0;34m.\u001b[0m\u001b[0mformat\u001b[0m\u001b[0;34m(\u001b[0m\u001b[0;34m\"console\"\u001b[0m\u001b[0;34m)\u001b[0m\u001b[0;31m\\\u001b[0m\u001b[0;34m\u001b[0m\u001b[0;34m\u001b[0m\u001b[0m\n\u001b[1;32m      9\u001b[0m                       \u001b[0;34m.\u001b[0m\u001b[0moption\u001b[0m\u001b[0;34m(\u001b[0m\u001b[0;34m\"truncate\"\u001b[0m\u001b[0;34m,\u001b[0m \u001b[0;34m\"false\"\u001b[0m\u001b[0;34m)\u001b[0m\u001b[0;31m\\\u001b[0m\u001b[0;34m\u001b[0m\u001b[0;34m\u001b[0m\u001b[0m\n\u001b[0;32m---> 10\u001b[0;31m                       \u001b[0;34m.\u001b[0m\u001b[0moption\u001b[0m\u001b[0;34m(\u001b[0m\u001b[0;34m\"numRows\"\u001b[0m\u001b[0;34m,\u001b[0m \u001b[0;36m30\u001b[0m\u001b[0;34m)\u001b[0m\u001b[0;31m\\\u001b[0m\u001b[0;34m\u001b[0m\u001b[0;34m\u001b[0m\u001b[0m\n\u001b[0m\u001b[1;32m     11\u001b[0m                       \u001b[0;34m.\u001b[0m\u001b[0mstart\u001b[0m\u001b[0;34m(\u001b[0m\u001b[0;34m)\u001b[0m\u001b[0;31m\\\u001b[0m\u001b[0;34m\u001b[0m\u001b[0;34m\u001b[0m\u001b[0m\n\u001b[1;32m     12\u001b[0m                       \u001b[0;34m.\u001b[0m\u001b[0mawaitTermination\u001b[0m\u001b[0;34m(\u001b[0m\u001b[0;34m)\u001b[0m\u001b[0;34m\u001b[0m\u001b[0;34m\u001b[0m\u001b[0m\n",
      "\u001b[0;32m/usr/local/lib/python3.7/dist-packages/pyspark/sql/streaming.py\u001b[0m in \u001b[0;36mawaitTermination\u001b[0;34m(self, timeout)\u001b[0m\n\u001b[1;32m     99\u001b[0m             \u001b[0;32mreturn\u001b[0m \u001b[0mself\u001b[0m\u001b[0;34m.\u001b[0m\u001b[0m_jsq\u001b[0m\u001b[0;34m.\u001b[0m\u001b[0mawaitTermination\u001b[0m\u001b[0;34m(\u001b[0m\u001b[0mint\u001b[0m\u001b[0;34m(\u001b[0m\u001b[0mtimeout\u001b[0m \u001b[0;34m*\u001b[0m \u001b[0;36m1000\u001b[0m\u001b[0;34m)\u001b[0m\u001b[0;34m)\u001b[0m\u001b[0;34m\u001b[0m\u001b[0;34m\u001b[0m\u001b[0m\n\u001b[1;32m    100\u001b[0m         \u001b[0;32melse\u001b[0m\u001b[0;34m:\u001b[0m\u001b[0;34m\u001b[0m\u001b[0;34m\u001b[0m\u001b[0m\n\u001b[0;32m--> 101\u001b[0;31m             \u001b[0;32mreturn\u001b[0m \u001b[0mself\u001b[0m\u001b[0;34m.\u001b[0m\u001b[0m_jsq\u001b[0m\u001b[0;34m.\u001b[0m\u001b[0mawaitTermination\u001b[0m\u001b[0;34m(\u001b[0m\u001b[0;34m)\u001b[0m\u001b[0;34m\u001b[0m\u001b[0;34m\u001b[0m\u001b[0m\n\u001b[0m\u001b[1;32m    102\u001b[0m \u001b[0;34m\u001b[0m\u001b[0m\n\u001b[1;32m    103\u001b[0m     \u001b[0;34m@\u001b[0m\u001b[0mproperty\u001b[0m\u001b[0;34m\u001b[0m\u001b[0;34m\u001b[0m\u001b[0m\n",
      "\u001b[0;32m/usr/local/lib/python3.7/dist-packages/py4j/java_gateway.py\u001b[0m in \u001b[0;36m__call__\u001b[0;34m(self, *args)\u001b[0m\n\u001b[1;32m   1301\u001b[0m             \u001b[0mproto\u001b[0m\u001b[0;34m.\u001b[0m\u001b[0mEND_COMMAND_PART\u001b[0m\u001b[0;34m\u001b[0m\u001b[0;34m\u001b[0m\u001b[0m\n\u001b[1;32m   1302\u001b[0m \u001b[0;34m\u001b[0m\u001b[0m\n\u001b[0;32m-> 1303\u001b[0;31m         \u001b[0manswer\u001b[0m \u001b[0;34m=\u001b[0m \u001b[0mself\u001b[0m\u001b[0;34m.\u001b[0m\u001b[0mgateway_client\u001b[0m\u001b[0;34m.\u001b[0m\u001b[0msend_command\u001b[0m\u001b[0;34m(\u001b[0m\u001b[0mcommand\u001b[0m\u001b[0;34m)\u001b[0m\u001b[0;34m\u001b[0m\u001b[0;34m\u001b[0m\u001b[0m\n\u001b[0m\u001b[1;32m   1304\u001b[0m         return_value = get_return_value(\n\u001b[1;32m   1305\u001b[0m             answer, self.gateway_client, self.target_id, self.name)\n",
      "\u001b[0;32m/usr/local/lib/python3.7/dist-packages/py4j/java_gateway.py\u001b[0m in \u001b[0;36msend_command\u001b[0;34m(self, command, retry, binary)\u001b[0m\n\u001b[1;32m   1031\u001b[0m         \u001b[0mconnection\u001b[0m \u001b[0;34m=\u001b[0m \u001b[0mself\u001b[0m\u001b[0;34m.\u001b[0m\u001b[0m_get_connection\u001b[0m\u001b[0;34m(\u001b[0m\u001b[0;34m)\u001b[0m\u001b[0;34m\u001b[0m\u001b[0;34m\u001b[0m\u001b[0m\n\u001b[1;32m   1032\u001b[0m         \u001b[0;32mtry\u001b[0m\u001b[0;34m:\u001b[0m\u001b[0;34m\u001b[0m\u001b[0;34m\u001b[0m\u001b[0m\n\u001b[0;32m-> 1033\u001b[0;31m             \u001b[0mresponse\u001b[0m \u001b[0;34m=\u001b[0m \u001b[0mconnection\u001b[0m\u001b[0;34m.\u001b[0m\u001b[0msend_command\u001b[0m\u001b[0;34m(\u001b[0m\u001b[0mcommand\u001b[0m\u001b[0;34m)\u001b[0m\u001b[0;34m\u001b[0m\u001b[0;34m\u001b[0m\u001b[0m\n\u001b[0m\u001b[1;32m   1034\u001b[0m             \u001b[0;32mif\u001b[0m \u001b[0mbinary\u001b[0m\u001b[0;34m:\u001b[0m\u001b[0;34m\u001b[0m\u001b[0;34m\u001b[0m\u001b[0m\n\u001b[1;32m   1035\u001b[0m                 \u001b[0;32mreturn\u001b[0m \u001b[0mresponse\u001b[0m\u001b[0;34m,\u001b[0m \u001b[0mself\u001b[0m\u001b[0;34m.\u001b[0m\u001b[0m_create_connection_guard\u001b[0m\u001b[0;34m(\u001b[0m\u001b[0mconnection\u001b[0m\u001b[0;34m)\u001b[0m\u001b[0;34m\u001b[0m\u001b[0;34m\u001b[0m\u001b[0m\n",
      "\u001b[0;32m/usr/local/lib/python3.7/dist-packages/py4j/java_gateway.py\u001b[0m in \u001b[0;36msend_command\u001b[0;34m(self, command)\u001b[0m\n\u001b[1;32m   1198\u001b[0m \u001b[0;34m\u001b[0m\u001b[0m\n\u001b[1;32m   1199\u001b[0m         \u001b[0;32mtry\u001b[0m\u001b[0;34m:\u001b[0m\u001b[0;34m\u001b[0m\u001b[0;34m\u001b[0m\u001b[0m\n\u001b[0;32m-> 1200\u001b[0;31m             \u001b[0manswer\u001b[0m \u001b[0;34m=\u001b[0m \u001b[0msmart_decode\u001b[0m\u001b[0;34m(\u001b[0m\u001b[0mself\u001b[0m\u001b[0;34m.\u001b[0m\u001b[0mstream\u001b[0m\u001b[0;34m.\u001b[0m\u001b[0mreadline\u001b[0m\u001b[0;34m(\u001b[0m\u001b[0;34m)\u001b[0m\u001b[0;34m[\u001b[0m\u001b[0;34m:\u001b[0m\u001b[0;34m-\u001b[0m\u001b[0;36m1\u001b[0m\u001b[0;34m]\u001b[0m\u001b[0;34m)\u001b[0m\u001b[0;34m\u001b[0m\u001b[0;34m\u001b[0m\u001b[0m\n\u001b[0m\u001b[1;32m   1201\u001b[0m             \u001b[0mlogger\u001b[0m\u001b[0;34m.\u001b[0m\u001b[0mdebug\u001b[0m\u001b[0;34m(\u001b[0m\u001b[0;34m\"Answer received: {0}\"\u001b[0m\u001b[0;34m.\u001b[0m\u001b[0mformat\u001b[0m\u001b[0;34m(\u001b[0m\u001b[0manswer\u001b[0m\u001b[0;34m)\u001b[0m\u001b[0;34m)\u001b[0m\u001b[0;34m\u001b[0m\u001b[0;34m\u001b[0m\u001b[0m\n\u001b[1;32m   1202\u001b[0m             \u001b[0;32mif\u001b[0m \u001b[0manswer\u001b[0m\u001b[0;34m.\u001b[0m\u001b[0mstartswith\u001b[0m\u001b[0;34m(\u001b[0m\u001b[0mproto\u001b[0m\u001b[0;34m.\u001b[0m\u001b[0mRETURN_MESSAGE\u001b[0m\u001b[0;34m)\u001b[0m\u001b[0;34m:\u001b[0m\u001b[0;34m\u001b[0m\u001b[0;34m\u001b[0m\u001b[0m\n",
      "\u001b[0;32m/usr/lib/python3.7/socket.py\u001b[0m in \u001b[0;36mreadinto\u001b[0;34m(self, b)\u001b[0m\n\u001b[1;32m    587\u001b[0m         \u001b[0;32mwhile\u001b[0m \u001b[0;32mTrue\u001b[0m\u001b[0;34m:\u001b[0m\u001b[0;34m\u001b[0m\u001b[0;34m\u001b[0m\u001b[0m\n\u001b[1;32m    588\u001b[0m             \u001b[0;32mtry\u001b[0m\u001b[0;34m:\u001b[0m\u001b[0;34m\u001b[0m\u001b[0;34m\u001b[0m\u001b[0m\n\u001b[0;32m--> 589\u001b[0;31m                 \u001b[0;32mreturn\u001b[0m \u001b[0mself\u001b[0m\u001b[0;34m.\u001b[0m\u001b[0m_sock\u001b[0m\u001b[0;34m.\u001b[0m\u001b[0mrecv_into\u001b[0m\u001b[0;34m(\u001b[0m\u001b[0mb\u001b[0m\u001b[0;34m)\u001b[0m\u001b[0;34m\u001b[0m\u001b[0;34m\u001b[0m\u001b[0m\n\u001b[0m\u001b[1;32m    590\u001b[0m             \u001b[0;32mexcept\u001b[0m \u001b[0mtimeout\u001b[0m\u001b[0;34m:\u001b[0m\u001b[0;34m\u001b[0m\u001b[0;34m\u001b[0m\u001b[0m\n\u001b[1;32m    591\u001b[0m                 \u001b[0mself\u001b[0m\u001b[0;34m.\u001b[0m\u001b[0m_timeout_occurred\u001b[0m \u001b[0;34m=\u001b[0m \u001b[0;32mTrue\u001b[0m\u001b[0;34m\u001b[0m\u001b[0;34m\u001b[0m\u001b[0m\n",
      "\u001b[0;31mKeyboardInterrupt\u001b[0m: "
     ]
    }
   ],
   "source": [
    "# We run in complete mode, so only new rows are processed,\n",
    "# and existing rows in Result Table are not affected\n",
    "# The output is written to the console\n",
    "# We set truncate to false. If true, the output is truncated to 20 chars\n",
    "# Explicity state number of rows to display. Default is 20  \n",
    "query = recordsPerBorough.writeStream\\\n",
    "                      .outputMode(\"complete\")\\\n",
    "                      .format(\"console\")\\\n",
    "                      .option(\"truncate\", \"false\")\\\n",
    "                      .option(\"numRows\", 30)\\\n",
    "                      .start()\\\n",
    "                      .awaitTermination()"
   ]
  },
  {
   "cell_type": "code",
   "execution_count": null,
   "id": "4e058c19",
   "metadata": {},
   "outputs": [],
   "source": [
    "# Submit App :\n",
    "# Submit codes/demo2.py \n"
   ]
  },
  {
   "cell_type": "code",
   "execution_count": 11,
   "id": "8f09f943",
   "metadata": {},
   "outputs": [],
   "source": [
    "spark.stop()"
   ]
  },
  {
   "cell_type": "code",
   "execution_count": null,
   "id": "86e46711",
   "metadata": {},
   "outputs": [],
   "source": []
  }
 ],
 "metadata": {
  "kernelspec": {
   "display_name": "Python 3 (ipykernel)",
   "language": "python",
   "name": "python3"
  },
  "language_info": {
   "codemirror_mode": {
    "name": "ipython",
    "version": 3
   },
   "file_extension": ".py",
   "mimetype": "text/x-python",
   "name": "python",
   "nbconvert_exporter": "python",
   "pygments_lexer": "ipython3",
   "version": "3.7.3"
  }
 },
 "nbformat": 4,
 "nbformat_minor": 5
}
